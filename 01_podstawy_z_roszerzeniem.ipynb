{
 "cells": [
  {
   "cell_type": "markdown",
   "id": "c83be4d4",
   "metadata": {},
   "source": [
    "a - 1\n",
    "\n",
    "# Przydatne polecenia jupytera\n",
    "\n",
    "\n",
    "* `shift + Enter` - wykonuje i przechodzi do kolejnej / tworzy\n",
    "\n",
    "* `alt + Enter` - wykonuje i dodaje nową\n",
    "\n",
    "* `ctrl + Enter` - wykonuje w miejscu\n",
    "\n",
    "* `ctrl + shift` + - dzieli komórkę\n",
    "\n",
    "## w trybie edycji \n",
    "\n",
    "po naciśnieciu esc\n",
    "\n",
    "* a - dodanie na górze\n",
    "* b - dodanie na dole\n",
    "* y - komórka kodu\n",
    "* m - komórka markdown"
   ]
  },
  {
   "cell_type": "markdown",
   "id": "ac87d569",
   "metadata": {},
   "source": [
    "# Python\n",
    "\n",
    "plusy\n",
    "- mały próg wejścia\n",
    "- wszechstronny\n",
    "- w pełni obiektowy\n",
    "- wysokopoziomowy\n",
    "- interpretowany\n",
    "- wieloplatformowość\n",
    "- popularny\n",
    "- bogata społeczność\n",
    "- bogaty zbiór bibliotek\n",
    "\n",
    "cechy:\n",
    "- typowanie dynamiczne i silne\n",
    "\n",
    "minusy\n",
    "- wolny\n",
    "\n",
    "## interpreter\n",
    "- interaktywny\n",
    "- wykonywanie skryptów"
   ]
  },
  {
   "cell_type": "code",
   "execution_count": null,
   "id": "e18c4432",
   "metadata": {},
   "outputs": [],
   "source": [
    "help()"
   ]
  },
  {
   "cell_type": "code",
   "execution_count": null,
   "id": "cf146a74",
   "metadata": {},
   "outputs": [],
   "source": [
    "print??"
   ]
  },
  {
   "cell_type": "code",
   "execution_count": null,
   "id": "ecfbacc9",
   "metadata": {},
   "outputs": [],
   "source": [
    "0b11 # 2 ** 1 + 2 ** 0"
   ]
  },
  {
   "cell_type": "code",
   "execution_count": null,
   "id": "e5f89ea2",
   "metadata": {},
   "outputs": [],
   "source": [
    "'0b(:04b)'.format(0b1100 & 0b1010)"
   ]
  },
  {
   "cell_type": "code",
   "execution_count": null,
   "id": "e82c32b0",
   "metadata": {},
   "outputs": [],
   "source": [
    "0o11"
   ]
  },
  {
   "cell_type": "code",
   "execution_count": null,
   "id": "2a0dd2d6",
   "metadata": {},
   "outputs": [],
   "source": [
    "0xff"
   ]
  },
  {
   "cell_type": "markdown",
   "id": "42a65ff8",
   "metadata": {},
   "source": [
    "### operator := (walrus operator)\n"
   ]
  },
  {
   "cell_type": "code",
   "execution_count": null,
   "id": "8899f63c",
   "metadata": {},
   "outputs": [],
   "source": [
    "a = [1,2 , 3, 4]\n",
    "if (n:= len(a)) > 3: print(n)"
   ]
  },
  {
   "cell_type": "code",
   "execution_count": null,
   "id": "ae64a76e",
   "metadata": {},
   "outputs": [],
   "source": [
    "(2 * 3) ** 2\n"
   ]
  },
  {
   "cell_type": "code",
   "execution_count": null,
   "id": "b9022e97",
   "metadata": {},
   "outputs": [],
   "source": [
    "1 + int(1)"
   ]
  },
  {
   "cell_type": "code",
   "execution_count": null,
   "id": "09bba8b6",
   "metadata": {},
   "outputs": [],
   "source": [
    "str(1) + \"1\""
   ]
  },
  {
   "cell_type": "markdown",
   "id": "db3ec320",
   "metadata": {},
   "source": [
    " ## Annotacje"
   ]
  },
  {
   "cell_type": "code",
   "execution_count": null,
   "id": "cd77e50f",
   "metadata": {},
   "outputs": [],
   "source": [
    "def sum_int(a: int, b: int) -> int:\n",
    "    return a + b"
   ]
  },
  {
   "cell_type": "code",
   "execution_count": null,
   "id": "b7bfadcd",
   "metadata": {},
   "outputs": [],
   "source": [
    "__annotations__"
   ]
  },
  {
   "cell_type": "code",
   "execution_count": null,
   "id": "f309f21e",
   "metadata": {},
   "outputs": [],
   "source": [
    "sum_int.__annotations__"
   ]
  },
  {
   "cell_type": "code",
   "execution_count": null,
   "id": "a882d28c",
   "metadata": {},
   "outputs": [],
   "source": [
    "__doc__"
   ]
  },
  {
   "cell_type": "code",
   "execution_count": null,
   "id": "1bebbce3",
   "metadata": {},
   "outputs": [],
   "source": [
    "def sum_int(a: int, b: int) -> int:\n",
    "    \"\"\"Adding two ints\"\"\"\n",
    "    return a + b"
   ]
  },
  {
   "cell_type": "code",
   "execution_count": null,
   "id": "629a420e",
   "metadata": {},
   "outputs": [],
   "source": [
    "help(sum_int)"
   ]
  },
  {
   "cell_type": "code",
   "execution_count": null,
   "id": "df01e017",
   "metadata": {},
   "outputs": [],
   "source": [
    "help(dir)"
   ]
  },
  {
   "cell_type": "code",
   "execution_count": null,
   "id": "cb2e7fe2",
   "metadata": {},
   "outputs": [],
   "source": [
    "dir()"
   ]
  },
  {
   "cell_type": "code",
   "execution_count": null,
   "id": "52c5aa3b",
   "metadata": {},
   "outputs": [],
   "source": [
    "\"\".zfill(10)"
   ]
  },
  {
   "cell_type": "code",
   "execution_count": null,
   "id": "43826ae6",
   "metadata": {},
   "outputs": [],
   "source": [
    "def incr_by_10(a: int) -> int:\n",
    "    step: int = 10\n",
    "    print(\"Names in localscope: \", dir())\n",
    "    return a + step\n",
    "\n",
    "incr_by_10(3)"
   ]
  },
  {
   "cell_type": "raw",
   "id": "cad0e491",
   "metadata": {},
   "source": [
    "incr_by_10.__annotations__"
   ]
  },
  {
   "cell_type": "code",
   "execution_count": null,
   "id": "f767945e",
   "metadata": {},
   "outputs": [],
   "source": [
    "a: int = 1"
   ]
  },
  {
   "cell_type": "code",
   "execution_count": null,
   "id": "d87f0c04",
   "metadata": {},
   "outputs": [],
   "source": [
    "incr_by_10.__annotations__"
   ]
  },
  {
   "cell_type": "code",
   "execution_count": null,
   "id": "3e74887f",
   "metadata": {},
   "outputs": [],
   "source": [
    "incr_by_10.__dict__"
   ]
  },
  {
   "cell_type": "markdown",
   "id": "c9147fa3",
   "metadata": {},
   "source": [
    "## Moduły i paczki\n",
    "\n",
    "moduły i paczki wprowadzają modularyzację projektów\n",
    "\n",
    "simplicity - prostota\n",
    "maintainability - łatwość utrzymania\n",
    "reusability - ponowne wykorzystanie\n",
    "scoping - zakres"
   ]
  },
  {
   "cell_type": "code",
   "execution_count": null,
   "id": "971a4bac",
   "metadata": {},
   "outputs": [],
   "source": [
    "import this"
   ]
  },
  {
   "cell_type": "code",
   "execution_count": null,
   "id": "7aaa996f",
   "metadata": {},
   "outputs": [],
   "source": [
    "import __hello__"
   ]
  },
  {
   "cell_type": "markdown",
   "id": "b024511e",
   "metadata": {},
   "source": [
    "- modul to plik pythonowy\n",
    "- moze byc tez w C"
   ]
  },
  {
   "cell_type": "code",
   "execution_count": null,
   "id": "0fc7c888",
   "metadata": {},
   "outputs": [],
   "source": [
    "%%writefile mod.py\n",
    "\n",
    "s: str = \"Yes we can\"\n",
    "a: list = [100, 200, 300]\n",
    "    \n",
    "def foo(arg):\n",
    "    print(f\"arg = {arg}\")\n",
    "\n",
    "class Foo: pass\n",
    "          "
   ]
  },
  {
   "cell_type": "code",
   "execution_count": null,
   "id": "9a23763d",
   "metadata": {},
   "outputs": [],
   "source": [
    "import mod"
   ]
  },
  {
   "cell_type": "code",
   "execution_count": null,
   "id": "fb12825f",
   "metadata": {},
   "outputs": [],
   "source": [
    "dir(mod)"
   ]
  },
  {
   "cell_type": "code",
   "execution_count": null,
   "id": "b9d4f5f5",
   "metadata": {},
   "outputs": [],
   "source": [
    "%%writefile mod.py\n",
    "\n",
    "s: str = \"Yes we can\"\n",
    "a: list = [100, 200, 300]\n",
    "    \n",
    "def foo(arg):\n",
    "    print(f\"arg = {arg}\")\n",
    "\n",
    "class Foo: pass\n",
    "\n",
    "foo(\"aaa\")"
   ]
  },
  {
   "cell_type": "code",
   "execution_count": null,
   "id": "9cf78362",
   "metadata": {},
   "outputs": [],
   "source": [
    "import mod"
   ]
  },
  {
   "cell_type": "code",
   "execution_count": null,
   "id": "c0171de9",
   "metadata": {},
   "outputs": [],
   "source": [
    "import importlib\n",
    "importlib.reload(mod)"
   ]
  },
  {
   "cell_type": "code",
   "execution_count": null,
   "id": "9037e44e",
   "metadata": {},
   "outputs": [],
   "source": [
    "!python mod.py"
   ]
  },
  {
   "cell_type": "code",
   "execution_count": null,
   "id": "02fc6ec3",
   "metadata": {},
   "outputs": [],
   "source": [
    "%%writefile mod.py\n",
    "\n",
    "s: str = \"Yes we can\"\n",
    "a: list = [100, 200, 300]\n",
    "    \n",
    "def foo(arg):\n",
    "    print(f\"arg = {arg}\")\n",
    "\n",
    "class Foo: pass\n",
    "\n",
    "if __name__ == \"__main__\":\n",
    "    foo(\"aaa\")"
   ]
  },
  {
   "cell_type": "code",
   "execution_count": null,
   "id": "c72f539e",
   "metadata": {},
   "outputs": [],
   "source": [
    "importlib.reload(mod)"
   ]
  },
  {
   "cell_type": "markdown",
   "id": "7a597700",
   "metadata": {},
   "source": [
    "### Skąd robione są importy"
   ]
  },
  {
   "cell_type": "code",
   "execution_count": null,
   "id": "538aac6a",
   "metadata": {},
   "outputs": [],
   "source": [
    "import sys\n",
    "sys.path"
   ]
  },
  {
   "cell_type": "code",
   "execution_count": null,
   "id": "e809157e",
   "metadata": {},
   "outputs": [],
   "source": [
    "# import mod\n",
    "mod = __import__(\"mod\")"
   ]
  },
  {
   "cell_type": "code",
   "execution_count": null,
   "id": "58e877d7",
   "metadata": {},
   "outputs": [],
   "source": [
    "mod.foo"
   ]
  },
  {
   "cell_type": "code",
   "execution_count": null,
   "id": "25c18375",
   "metadata": {},
   "outputs": [],
   "source": [
    "random = __import__(\"RANDOM\".lower())\n",
    "random.randint(1,10)"
   ]
  },
  {
   "cell_type": "code",
   "execution_count": null,
   "id": "14633fcc",
   "metadata": {},
   "outputs": [],
   "source": [
    "from mod import foo"
   ]
  },
  {
   "cell_type": "code",
   "execution_count": null,
   "id": "e7154f40",
   "metadata": {},
   "outputs": [],
   "source": [
    "foo(\"xx\")"
   ]
  },
  {
   "cell_type": "code",
   "execution_count": null,
   "id": "d1571419",
   "metadata": {},
   "outputs": [],
   "source": [
    "from mod import foo as f\n",
    "f(\"x\")"
   ]
  },
  {
   "cell_type": "code",
   "execution_count": 1,
   "id": "e3427d7c",
   "metadata": {},
   "outputs": [
    {
     "data": {
      "text/plain": [
       "['C:\\\\Users\\\\krzys\\\\workspace\\\\kurs_powtorkowy',\n",
       " 'C:\\\\Users\\\\krzys\\\\AppData\\\\Local\\\\Programs\\\\Python\\\\Python310\\\\python310.zip',\n",
       " 'C:\\\\Users\\\\krzys\\\\AppData\\\\Local\\\\Programs\\\\Python\\\\Python310\\\\DLLs',\n",
       " 'C:\\\\Users\\\\krzys\\\\AppData\\\\Local\\\\Programs\\\\Python\\\\Python310\\\\lib',\n",
       " 'C:\\\\Users\\\\krzys\\\\AppData\\\\Local\\\\Programs\\\\Python\\\\Python310',\n",
       " '',\n",
       " 'C:\\\\Users\\\\krzys\\\\AppData\\\\Local\\\\Programs\\\\Python\\\\Python310\\\\lib\\\\site-packages',\n",
       " 'C:\\\\Users\\\\krzys\\\\AppData\\\\Local\\\\Programs\\\\Python\\\\Python310\\\\lib\\\\site-packages\\\\win32',\n",
       " 'C:\\\\Users\\\\krzys\\\\AppData\\\\Local\\\\Programs\\\\Python\\\\Python310\\\\lib\\\\site-packages\\\\win32\\\\lib',\n",
       " 'C:\\\\Users\\\\krzys\\\\AppData\\\\Local\\\\Programs\\\\Python\\\\Python310\\\\lib\\\\site-packages\\\\Pythonwin']"
      ]
     },
     "execution_count": 1,
     "metadata": {},
     "output_type": "execute_result"
    }
   ],
   "source": [
    "import sys\n",
    "sys.path"
   ]
  },
  {
   "cell_type": "markdown",
   "id": "7c9e8abc",
   "metadata": {},
   "source": [
    "## package"
   ]
  },
  {
   "cell_type": "markdown",
   "id": "5bd03c17",
   "metadata": {},
   "source": [
    "paczka to folder zawierający moduły\n",
    "\n",
    "    pkg\n",
    "        mod1.py\n",
    "        mod2.py"
   ]
  },
  {
   "cell_type": "code",
   "execution_count": 3,
   "id": "d7b5bac0",
   "metadata": {},
   "outputs": [],
   "source": [
    "!mkdir pkg"
   ]
  },
  {
   "cell_type": "code",
   "execution_count": 4,
   "id": "4056e814",
   "metadata": {},
   "outputs": [
    {
     "name": "stdout",
     "output_type": "stream",
     "text": [
      "Writing pkg/mod1.py\n"
     ]
    }
   ],
   "source": [
    "%%writefile pkg/mod1.py\n",
    "\n",
    "def foo():\n",
    "    print('[mod1] foo()')"
   ]
  },
  {
   "cell_type": "code",
   "execution_count": 5,
   "id": "c6ed91ec",
   "metadata": {},
   "outputs": [
    {
     "name": "stdout",
     "output_type": "stream",
     "text": [
      "Writing pkg/mod2.py\n"
     ]
    }
   ],
   "source": [
    "%%writefile pkg/mod2.py\n",
    "\n",
    "def foo():\n",
    "    print('[mod2] foo()')"
   ]
  },
  {
   "cell_type": "code",
   "execution_count": 6,
   "id": "735e839d",
   "metadata": {},
   "outputs": [],
   "source": [
    "import pkg"
   ]
  },
  {
   "cell_type": "code",
   "execution_count": 7,
   "id": "e698f645",
   "metadata": {},
   "outputs": [
    {
     "data": {
      "text/plain": [
       "['__doc__',\n",
       " '__file__',\n",
       " '__loader__',\n",
       " '__name__',\n",
       " '__package__',\n",
       " '__path__',\n",
       " '__spec__']"
      ]
     },
     "execution_count": 7,
     "metadata": {},
     "output_type": "execute_result"
    }
   ],
   "source": [
    "dir(pkg)"
   ]
  },
  {
   "cell_type": "code",
   "execution_count": 9,
   "id": "67e40746",
   "metadata": {},
   "outputs": [
    {
     "name": "stdout",
     "output_type": "stream",
     "text": [
      "Writing pkg/__init__.py\n"
     ]
    }
   ],
   "source": [
    "%%writefile pkg/__init__.py\n",
    "\n",
    "print(\"Initialize pkg\")"
   ]
  },
  {
   "cell_type": "code",
   "execution_count": 10,
   "id": "b05b87fa",
   "metadata": {},
   "outputs": [],
   "source": [
    "import importlib"
   ]
  },
  {
   "cell_type": "code",
   "execution_count": 11,
   "id": "5455dcd8",
   "metadata": {},
   "outputs": [
    {
     "name": "stdout",
     "output_type": "stream",
     "text": [
      "Initialize pkg\n"
     ]
    },
    {
     "data": {
      "text/plain": [
       "<module 'pkg' from 'C:\\\\Users\\\\krzys\\\\workspace\\\\kurs_powtorkowy\\\\pkg\\\\__init__.py'>"
      ]
     },
     "execution_count": 11,
     "metadata": {},
     "output_type": "execute_result"
    }
   ],
   "source": [
    "importlib.reload(pkg)"
   ]
  },
  {
   "cell_type": "code",
   "execution_count": 12,
   "id": "6376110e",
   "metadata": {},
   "outputs": [
    {
     "ename": "AttributeError",
     "evalue": "module 'pkg' has no attribute 'mod1'",
     "output_type": "error",
     "traceback": [
      "\u001b[1;31m---------------------------------------------------------------------------\u001b[0m",
      "\u001b[1;31mAttributeError\u001b[0m                            Traceback (most recent call last)",
      "Input \u001b[1;32mIn [12]\u001b[0m, in \u001b[0;36m<cell line: 1>\u001b[1;34m()\u001b[0m\n\u001b[1;32m----> 1\u001b[0m \u001b[43mpkg\u001b[49m\u001b[38;5;241;43m.\u001b[39;49m\u001b[43mmod1\u001b[49m\u001b[38;5;241m.\u001b[39mfoo()\n",
      "\u001b[1;31mAttributeError\u001b[0m: module 'pkg' has no attribute 'mod1'"
     ]
    }
   ],
   "source": [
    "pkg.mod1.foo()"
   ]
  },
  {
   "cell_type": "code",
   "execution_count": 14,
   "id": "38ee81c4",
   "metadata": {},
   "outputs": [
    {
     "ename": "NameError",
     "evalue": "name 'mod1' is not defined",
     "output_type": "error",
     "traceback": [
      "\u001b[1;31m---------------------------------------------------------------------------\u001b[0m",
      "\u001b[1;31mNameError\u001b[0m                                 Traceback (most recent call last)",
      "Input \u001b[1;32mIn [14]\u001b[0m, in \u001b[0;36m<cell line: 2>\u001b[1;34m()\u001b[0m\n\u001b[0;32m      1\u001b[0m pkg\n\u001b[1;32m----> 2\u001b[0m \u001b[43mmod1\u001b[49m\u001b[38;5;241m.\u001b[39mpy\n\u001b[0;32m      3\u001b[0m mod2\u001b[38;5;241m.\u001b[39mpy\n",
      "\u001b[1;31mNameError\u001b[0m: name 'mod1' is not defined"
     ]
    }
   ],
   "source": [
    "pkg\n",
    "mod1.py\n",
    "mod2.py"
   ]
  },
  {
   "cell_type": "code",
   "execution_count": 15,
   "id": "1f35da25",
   "metadata": {},
   "outputs": [],
   "source": [
    "from pkg import mod1"
   ]
  },
  {
   "cell_type": "markdown",
   "id": "742c95df",
   "metadata": {},
   "source": [
    "## Przestrzenie nazw"
   ]
  },
  {
   "cell_type": "code",
   "execution_count": 20,
   "id": "26bd4dee",
   "metadata": {},
   "outputs": [],
   "source": [
    "# x = for\n",
    "x = print"
   ]
  },
  {
   "cell_type": "code",
   "execution_count": 21,
   "id": "729e9fbf",
   "metadata": {},
   "outputs": [
    {
     "name": "stdout",
     "output_type": "stream",
     "text": [
      "1\n"
     ]
    }
   ],
   "source": [
    "x(\"1\")"
   ]
  },
  {
   "cell_type": "code",
   "execution_count": 22,
   "id": "e9ec535b",
   "metadata": {},
   "outputs": [],
   "source": [
    "print = 1"
   ]
  },
  {
   "cell_type": "code",
   "execution_count": 24,
   "id": "3e64a458",
   "metadata": {},
   "outputs": [],
   "source": [
    "print = __builtin__.print"
   ]
  },
  {
   "cell_type": "code",
   "execution_count": 26,
   "id": "4a25a152",
   "metadata": {},
   "outputs": [
    {
     "name": "stdout",
     "output_type": "stream",
     "text": [
      "chuj\n"
     ]
    }
   ],
   "source": [
    "print(\"chuj\")"
   ]
  },
  {
   "cell_type": "code",
   "execution_count": 27,
   "id": "33586a9e",
   "metadata": {},
   "outputs": [
    {
     "name": "stdout",
     "output_type": "stream",
     "text": [
      "<built-in function print>\n"
     ]
    }
   ],
   "source": [
    "print(print)"
   ]
  },
  {
   "cell_type": "code",
   "execution_count": null,
   "id": "2ff3ba3d",
   "metadata": {},
   "outputs": [],
   "source": []
  },
  {
   "cell_type": "markdown",
   "id": "6e1c15b2",
   "metadata": {},
   "source": [
    "\n",
    "### przestrzen `__builtin__`\n"
   ]
  },
  {
   "cell_type": "code",
   "execution_count": 17,
   "id": "7a81765e",
   "metadata": {},
   "outputs": [
    {
     "data": {
      "text/plain": [
       "['ArithmeticError',\n",
       " 'AssertionError',\n",
       " 'AttributeError',\n",
       " 'BaseException',\n",
       " 'BlockingIOError',\n",
       " 'BrokenPipeError',\n",
       " 'BufferError',\n",
       " 'BytesWarning',\n",
       " 'ChildProcessError',\n",
       " 'ConnectionAbortedError',\n",
       " 'ConnectionError',\n",
       " 'ConnectionRefusedError',\n",
       " 'ConnectionResetError',\n",
       " 'DeprecationWarning',\n",
       " 'EOFError',\n",
       " 'Ellipsis',\n",
       " 'EncodingWarning',\n",
       " 'EnvironmentError',\n",
       " 'Exception',\n",
       " 'False',\n",
       " 'FileExistsError',\n",
       " 'FileNotFoundError',\n",
       " 'FloatingPointError',\n",
       " 'FutureWarning',\n",
       " 'GeneratorExit',\n",
       " 'IOError',\n",
       " 'ImportError',\n",
       " 'ImportWarning',\n",
       " 'IndentationError',\n",
       " 'IndexError',\n",
       " 'InterruptedError',\n",
       " 'IsADirectoryError',\n",
       " 'KeyError',\n",
       " 'KeyboardInterrupt',\n",
       " 'LookupError',\n",
       " 'MemoryError',\n",
       " 'ModuleNotFoundError',\n",
       " 'NameError',\n",
       " 'None',\n",
       " 'NotADirectoryError',\n",
       " 'NotImplemented',\n",
       " 'NotImplementedError',\n",
       " 'OSError',\n",
       " 'OverflowError',\n",
       " 'PendingDeprecationWarning',\n",
       " 'PermissionError',\n",
       " 'ProcessLookupError',\n",
       " 'RecursionError',\n",
       " 'ReferenceError',\n",
       " 'ResourceWarning',\n",
       " 'RuntimeError',\n",
       " 'RuntimeWarning',\n",
       " 'StopAsyncIteration',\n",
       " 'StopIteration',\n",
       " 'SyntaxError',\n",
       " 'SyntaxWarning',\n",
       " 'SystemError',\n",
       " 'SystemExit',\n",
       " 'TabError',\n",
       " 'TimeoutError',\n",
       " 'True',\n",
       " 'TypeError',\n",
       " 'UnboundLocalError',\n",
       " 'UnicodeDecodeError',\n",
       " 'UnicodeEncodeError',\n",
       " 'UnicodeError',\n",
       " 'UnicodeTranslateError',\n",
       " 'UnicodeWarning',\n",
       " 'UserWarning',\n",
       " 'ValueError',\n",
       " 'Warning',\n",
       " 'WindowsError',\n",
       " 'ZeroDivisionError',\n",
       " '__IPYTHON__',\n",
       " '__build_class__',\n",
       " '__debug__',\n",
       " '__doc__',\n",
       " '__import__',\n",
       " '__loader__',\n",
       " '__name__',\n",
       " '__package__',\n",
       " '__spec__',\n",
       " 'abs',\n",
       " 'aiter',\n",
       " 'all',\n",
       " 'anext',\n",
       " 'any',\n",
       " 'ascii',\n",
       " 'bin',\n",
       " 'bool',\n",
       " 'breakpoint',\n",
       " 'bytearray',\n",
       " 'bytes',\n",
       " 'callable',\n",
       " 'chr',\n",
       " 'classmethod',\n",
       " 'compile',\n",
       " 'complex',\n",
       " 'copyright',\n",
       " 'credits',\n",
       " 'delattr',\n",
       " 'dict',\n",
       " 'dir',\n",
       " 'display',\n",
       " 'divmod',\n",
       " 'enumerate',\n",
       " 'eval',\n",
       " 'exec',\n",
       " 'execfile',\n",
       " 'filter',\n",
       " 'float',\n",
       " 'format',\n",
       " 'frozenset',\n",
       " 'get_ipython',\n",
       " 'getattr',\n",
       " 'globals',\n",
       " 'hasattr',\n",
       " 'hash',\n",
       " 'help',\n",
       " 'hex',\n",
       " 'id',\n",
       " 'input',\n",
       " 'int',\n",
       " 'isinstance',\n",
       " 'issubclass',\n",
       " 'iter',\n",
       " 'len',\n",
       " 'license',\n",
       " 'list',\n",
       " 'locals',\n",
       " 'map',\n",
       " 'max',\n",
       " 'memoryview',\n",
       " 'min',\n",
       " 'next',\n",
       " 'object',\n",
       " 'oct',\n",
       " 'open',\n",
       " 'ord',\n",
       " 'pow',\n",
       " 'print',\n",
       " 'property',\n",
       " 'range',\n",
       " 'repr',\n",
       " 'reversed',\n",
       " 'round',\n",
       " 'runfile',\n",
       " 'set',\n",
       " 'setattr',\n",
       " 'slice',\n",
       " 'sorted',\n",
       " 'staticmethod',\n",
       " 'str',\n",
       " 'sum',\n",
       " 'super',\n",
       " 'tuple',\n",
       " 'type',\n",
       " 'vars',\n",
       " 'zip']"
      ]
     },
     "execution_count": 17,
     "metadata": {},
     "output_type": "execute_result"
    }
   ],
   "source": [
    "dir(__builtin__)"
   ]
  },
  {
   "cell_type": "markdown",
   "id": "917d863f",
   "metadata": {},
   "source": []
  },
  {
   "cell_type": "code",
   "execution_count": 29,
   "id": "e25e83b9",
   "metadata": {},
   "outputs": [
    {
     "data": {
      "text/plain": [
       "(140705708055432, 140705708055432)"
      ]
     },
     "execution_count": 29,
     "metadata": {},
     "output_type": "execute_result"
    }
   ],
   "source": [
    "x = False\n",
    "y = False\n",
    "\n",
    "id(x), id(y)"
   ]
  },
  {
   "cell_type": "code",
   "execution_count": 30,
   "id": "cfd10406",
   "metadata": {},
   "outputs": [
    {
     "data": {
      "text/plain": [
       "True"
      ]
     },
     "execution_count": 30,
     "metadata": {},
     "output_type": "execute_result"
    }
   ],
   "source": [
    "napis = \"chuj\"\n",
    "napis2 = \"chuj\"\n",
    "napis==napis2"
   ]
  },
  {
   "cell_type": "code",
   "execution_count": 31,
   "id": "04b87814",
   "metadata": {},
   "outputs": [
    {
     "data": {
      "text/plain": [
       "True"
      ]
     },
     "execution_count": 31,
     "metadata": {},
     "output_type": "execute_result"
    }
   ],
   "source": [
    "napis is napis2"
   ]
  },
  {
   "cell_type": "code",
   "execution_count": 33,
   "id": "17d38ee5",
   "metadata": {},
   "outputs": [
    {
     "ename": "NotImplementedError",
     "evalue": "",
     "output_type": "error",
     "traceback": [
      "\u001b[1;31m---------------------------------------------------------------------------\u001b[0m",
      "\u001b[1;31mNotImplementedError\u001b[0m                       Traceback (most recent call last)",
      "Input \u001b[1;32mIn [33]\u001b[0m, in \u001b[0;36m<cell line: 7>\u001b[1;34m()\u001b[0m\n\u001b[0;32m      5\u001b[0m         \u001b[38;5;28;01mreturn\u001b[39;00m other \u001b[38;5;241m+\u001b[39m \u001b[38;5;241m42\u001b[39m\n\u001b[0;32m      6\u001b[0m x \u001b[38;5;241m=\u001b[39m MyNumber()\n\u001b[1;32m----> 7\u001b[0m \u001b[43mx\u001b[49m\u001b[43m \u001b[49m\u001b[38;5;241;43m+\u001b[39;49m\u001b[43m \u001b[49m\u001b[38;5;241;43m1.2\u001b[39;49m\n",
      "Input \u001b[1;32mIn [33]\u001b[0m, in \u001b[0;36mMyNumber.__add__\u001b[1;34m(self, other)\u001b[0m\n\u001b[0;32m      2\u001b[0m \u001b[38;5;28;01mdef\u001b[39;00m \u001b[38;5;21m__add__\u001b[39m(\u001b[38;5;28mself\u001b[39m, other):\n\u001b[0;32m      3\u001b[0m     \u001b[38;5;28;01mif\u001b[39;00m \u001b[38;5;28misinstance\u001b[39m(other, \u001b[38;5;28mfloat\u001b[39m):\n\u001b[1;32m----> 4\u001b[0m         \u001b[38;5;28;01mraise\u001b[39;00m \u001b[38;5;167;01mNotImplementedError\u001b[39;00m\n\u001b[0;32m      5\u001b[0m     \u001b[38;5;28;01mreturn\u001b[39;00m other \u001b[38;5;241m+\u001b[39m \u001b[38;5;241m42\u001b[39m\n",
      "\u001b[1;31mNotImplementedError\u001b[0m: "
     ]
    }
   ],
   "source": [
    "class MyNumber:\n",
    "    def __add__(self, other):\n",
    "        if isinstance(other, float):\n",
    "            raise NotImplementedError\n",
    "        return other + 42\n",
    "x = MyNumber()\n",
    "x + 1.2"
   ]
  },
  {
   "cell_type": "code",
   "execution_count": 34,
   "id": "8340b99c",
   "metadata": {},
   "outputs": [
    {
     "data": {
      "text/plain": [
       "True"
      ]
     },
     "execution_count": 34,
     "metadata": {},
     "output_type": "execute_result"
    }
   ],
   "source": [
    "__debug__\n"
   ]
  },
  {
   "cell_type": "code",
   "execution_count": 40,
   "id": "2a573fc3",
   "metadata": {},
   "outputs": [
    {
     "name": "stdout",
     "output_type": "stream",
     "text": [
      "Overwriting test_debug.py\n"
     ]
    }
   ],
   "source": [
    "%%writefile test_debug.py\n",
    "print(__debug__)\n",
    "\n",
    "def sumator(a,b):\n",
    "    return a+b\n",
    "\n",
    "assert sumator(1,2) == 3\n",
    "assert sumator(1,10) == 10"
   ]
  },
  {
   "cell_type": "code",
   "execution_count": 42,
   "id": "28c481ad",
   "metadata": {},
   "outputs": [
    {
     "name": "stdout",
     "output_type": "stream",
     "text": [
      "True\n"
     ]
    },
    {
     "name": "stderr",
     "output_type": "stream",
     "text": [
      "Traceback (most recent call last):\n",
      "  File \"C:\\Users\\krzys\\workspace\\kurs_powtorkowy\\test_debug.py\", line 7, in <module>\n",
      "    assert sumator(1,10) == 10\n",
      "AssertionError\n"
     ]
    }
   ],
   "source": [
    "!python test_debug.py"
   ]
  },
  {
   "cell_type": "code",
   "execution_count": 45,
   "id": "f5447f0c",
   "metadata": {},
   "outputs": [
    {
     "name": "stdout",
     "output_type": "stream",
     "text": [
      "False\n"
     ]
    }
   ],
   "source": [
    "!python -O test_debug.py"
   ]
  },
  {
   "cell_type": "markdown",
   "id": "cce7038f",
   "metadata": {},
   "source": [
    "#### funkcje\n",
    "#### `exec`"
   ]
  },
  {
   "cell_type": "code",
   "execution_count": 46,
   "id": "25455dc5",
   "metadata": {},
   "outputs": [],
   "source": [
    "code = \"\"\"\n",
    "x = [1,2]\n",
    "print(x)\n",
    "\n",
    "\"\"\""
   ]
  },
  {
   "cell_type": "code",
   "execution_count": 47,
   "id": "6bdcdfba",
   "metadata": {},
   "outputs": [
    {
     "name": "stdout",
     "output_type": "stream",
     "text": [
      "[1, 2]\n"
     ]
    }
   ],
   "source": [
    "exec(code)"
   ]
  },
  {
   "cell_type": "code",
   "execution_count": 53,
   "id": "5e3e05eb",
   "metadata": {},
   "outputs": [
    {
     "name": "stdout",
     "output_type": "stream",
     "text": [
      "[6, 7, 8]\n"
     ]
    }
   ],
   "source": [
    "code = \"\"\"print(yyy)\"\"\"\n",
    "exec(code, {'yyy': [6, 7, 8]})"
   ]
  },
  {
   "cell_type": "markdown",
   "id": "63fe745c",
   "metadata": {},
   "source": [
    "####eval"
   ]
  },
  {
   "cell_type": "code",
   "execution_count": 51,
   "id": "7f868692",
   "metadata": {},
   "outputs": [
    {
     "name": "stdout",
     "output_type": "stream",
     "text": [
      "Help on built-in function eval in module builtins:\n",
      "\n",
      "eval(source, globals=None, locals=None, /)\n",
      "    Evaluate the given source in the context of globals and locals.\n",
      "    \n",
      "    The source may be a string representing a Python expression\n",
      "    or a code object as returned by compile().\n",
      "    The globals must be a dictionary and locals can be any mapping,\n",
      "    defaulting to the current globals and locals.\n",
      "    If only globals is given, locals defaults to it.\n",
      "\n"
     ]
    }
   ],
   "source": [
    "help(eval)"
   ]
  },
  {
   "cell_type": "code",
   "execution_count": 54,
   "id": "b66e32e4",
   "metadata": {},
   "outputs": [
    {
     "name": "stdout",
     "output_type": "stream",
     "text": [
      "[6, 7, 8]\n"
     ]
    },
    {
     "data": {
      "text/plain": [
       "2"
      ]
     },
     "execution_count": 54,
     "metadata": {},
     "output_type": "execute_result"
    }
   ],
   "source": [
    "eval(code,{'yyy': [6, 7, 8]} )\n",
    "eval(\"1+1\")"
   ]
  },
  {
   "cell_type": "markdown",
   "id": "8ec7291f",
   "metadata": {},
   "source": [
    "#### globals, locals"
   ]
  },
  {
   "cell_type": "markdown",
   "id": "575bec76",
   "metadata": {},
   "source": [
    "##### str, bytes, int, bool, float, complex"
   ]
  },
  {
   "cell_type": "code",
   "execution_count": 55,
   "id": "04ec5779",
   "metadata": {},
   "outputs": [
    {
     "data": {
      "text/plain": [
       "'10'"
      ]
     },
     "execution_count": 55,
     "metadata": {},
     "output_type": "execute_result"
    }
   ],
   "source": [
    "str(10)"
   ]
  },
  {
   "cell_type": "code",
   "execution_count": 56,
   "id": "7eda8461",
   "metadata": {},
   "outputs": [
    {
     "data": {
      "text/plain": [
       "b'pi\\xc4\\x99rdup\\xc4\\x85 \\xc4\\x87h\\xc3\\xb3j'"
      ]
     },
     "execution_count": 56,
     "metadata": {},
     "output_type": "execute_result"
    }
   ],
   "source": [
    "bytes(\"pięrdupą ćhój\", 'utf-8')"
   ]
  },
  {
   "cell_type": "code",
   "execution_count": 68,
   "id": "c549706e",
   "metadata": {},
   "outputs": [
    {
     "name": "stdout",
     "output_type": "stream",
     "text": [
      "32  \n",
      "33 !\n",
      "34 \"\n",
      "35 #\n",
      "36 $\n",
      "37 %\n",
      "38 &\n",
      "39 '\n",
      "40 (\n",
      "41 )\n",
      "42 *\n",
      "43 +\n",
      "44 ,\n",
      "45 -\n",
      "46 .\n",
      "47 /\n",
      "48 0\n",
      "49 1\n",
      "50 2\n",
      "51 3\n",
      "52 4\n",
      "53 5\n",
      "54 6\n",
      "55 7\n",
      "56 8\n",
      "57 9\n",
      "58 :\n",
      "59 ;\n",
      "60 <\n",
      "61 =\n",
      "62 >\n",
      "63 ?\n",
      "64 @\n",
      "65 A\n",
      "66 B\n",
      "67 C\n",
      "68 D\n",
      "69 E\n",
      "70 F\n",
      "71 G\n",
      "72 H\n",
      "73 I\n",
      "74 J\n",
      "75 K\n",
      "76 L\n",
      "77 M\n",
      "78 N\n",
      "79 O\n",
      "80 P\n",
      "81 Q\n",
      "82 R\n",
      "83 S\n",
      "84 T\n",
      "85 U\n",
      "86 V\n",
      "87 W\n",
      "88 X\n",
      "89 Y\n",
      "90 Z\n",
      "91 [\n",
      "92 \\\n",
      "93 ]\n",
      "94 ^\n",
      "95 _\n",
      "96 `\n",
      "97 a\n",
      "98 b\n",
      "99 c\n",
      "100 d\n",
      "101 e\n",
      "102 f\n",
      "103 g\n",
      "104 h\n",
      "105 i\n",
      "106 j\n",
      "107 k\n",
      "108 l\n",
      "109 m\n",
      "110 n\n",
      "111 o\n",
      "112 p\n",
      "113 q\n",
      "114 r\n",
      "115 s\n",
      "116 t\n",
      "117 u\n",
      "118 v\n",
      "119 w\n",
      "120 x\n",
      "121 y\n",
      "122 z\n",
      "123 {\n",
      "124 |\n",
      "125 }\n",
      "126 ~\n"
     ]
    }
   ],
   "source": [
    "for i in range(32, 127):\n",
    "    print(i, chr(i))"
   ]
  },
  {
   "cell_type": "code",
   "execution_count": 58,
   "id": "2e79a924",
   "metadata": {},
   "outputs": [
    {
     "data": {
      "text/plain": [
       "2"
      ]
     },
     "execution_count": 58,
     "metadata": {},
     "output_type": "execute_result"
    }
   ],
   "source": [
    "1 + True"
   ]
  },
  {
   "cell_type": "code",
   "execution_count": 59,
   "id": "111eb34a",
   "metadata": {},
   "outputs": [
    {
     "data": {
      "text/plain": [
       "True"
      ]
     },
     "execution_count": 59,
     "metadata": {},
     "output_type": "execute_result"
    }
   ],
   "source": [
    "1 == True"
   ]
  },
  {
   "cell_type": "code",
   "execution_count": 60,
   "id": "e28c2010",
   "metadata": {},
   "outputs": [
    {
     "name": "stderr",
     "output_type": "stream",
     "text": [
      "<>:1: SyntaxWarning: \"is\" with a literal. Did you mean \"==\"?\n",
      "<>:1: SyntaxWarning: \"is\" with a literal. Did you mean \"==\"?\n",
      "C:\\Users\\krzys\\AppData\\Local\\Temp\\ipykernel_13464\\3482963539.py:1: SyntaxWarning: \"is\" with a literal. Did you mean \"==\"?\n",
      "  1 is True\n"
     ]
    },
    {
     "data": {
      "text/plain": [
       "False"
      ]
     },
     "execution_count": 60,
     "metadata": {},
     "output_type": "execute_result"
    }
   ],
   "source": [
    "1 is True"
   ]
  },
  {
   "cell_type": "markdown",
   "id": "bca476a5",
   "metadata": {},
   "source": [
    "#### tuple, list, dict, set, str, frozenset"
   ]
  },
  {
   "cell_type": "code",
   "execution_count": 61,
   "id": "75395791",
   "metadata": {},
   "outputs": [
    {
     "data": {
      "text/plain": [
       "frozenset({1, 2, 3, 4})"
      ]
     },
     "execution_count": 61,
     "metadata": {},
     "output_type": "execute_result"
    }
   ],
   "source": [
    "frozenset ((1,2,3,4))"
   ]
  },
  {
   "cell_type": "code",
   "execution_count": 63,
   "id": "57195d1c",
   "metadata": {},
   "outputs": [
    {
     "data": {
      "text/plain": [
       "frozenset({1, 2, 3, 4})"
      ]
     },
     "execution_count": 63,
     "metadata": {},
     "output_type": "execute_result"
    }
   ],
   "source": [
    "s = {1,2,3}\n",
    "s.add(4)\n",
    "fs = frozenset(s)\n",
    "fs"
   ]
  },
  {
   "cell_type": "code",
   "execution_count": 67,
   "id": "ff6c3ea7",
   "metadata": {},
   "outputs": [
    {
     "data": {
      "text/plain": [
       "['__and__',\n",
       " '__class__',\n",
       " '__class_getitem__',\n",
       " '__contains__',\n",
       " '__delattr__',\n",
       " '__dir__',\n",
       " '__doc__',\n",
       " '__eq__',\n",
       " '__format__',\n",
       " '__ge__',\n",
       " '__getattribute__',\n",
       " '__gt__',\n",
       " '__hash__',\n",
       " '__init__',\n",
       " '__init_subclass__',\n",
       " '__iter__',\n",
       " '__le__',\n",
       " '__len__',\n",
       " '__lt__',\n",
       " '__ne__',\n",
       " '__new__',\n",
       " '__or__',\n",
       " '__rand__',\n",
       " '__reduce__',\n",
       " '__reduce_ex__',\n",
       " '__repr__',\n",
       " '__ror__',\n",
       " '__rsub__',\n",
       " '__rxor__',\n",
       " '__setattr__',\n",
       " '__sizeof__',\n",
       " '__str__',\n",
       " '__sub__',\n",
       " '__subclasshook__',\n",
       " '__xor__',\n",
       " 'copy',\n",
       " 'difference',\n",
       " 'intersection',\n",
       " 'isdisjoint',\n",
       " 'issubset',\n",
       " 'issuperset',\n",
       " 'symmetric_difference',\n",
       " 'union']"
      ]
     },
     "execution_count": 67,
     "metadata": {},
     "output_type": "execute_result"
    }
   ],
   "source": [
    "dir(fs)"
   ]
  },
  {
   "cell_type": "markdown",
   "id": "a2496676",
   "metadata": {},
   "source": [
    "#### proste konwertery: bin, hex, oct, ord, chr, ascii"
   ]
  },
  {
   "cell_type": "code",
   "execution_count": 65,
   "id": "7b33b3d6",
   "metadata": {},
   "outputs": [
    {
     "data": {
      "text/plain": [
       "'0b1010'"
      ]
     },
     "execution_count": 65,
     "metadata": {},
     "output_type": "execute_result"
    }
   ],
   "source": [
    "bin(10)"
   ]
  },
  {
   "cell_type": "code",
   "execution_count": 66,
   "id": "94d1d6c0",
   "metadata": {},
   "outputs": [
    {
     "data": {
      "text/plain": [
       "10"
      ]
     },
     "execution_count": 66,
     "metadata": {},
     "output_type": "execute_result"
    }
   ],
   "source": [
    "int(\"0b1010\", base=2)"
   ]
  },
  {
   "cell_type": "code",
   "execution_count": 69,
   "id": "1dd4c866",
   "metadata": {},
   "outputs": [
    {
     "data": {
      "text/plain": [
       "97"
      ]
     },
     "execution_count": 69,
     "metadata": {},
     "output_type": "execute_result"
    }
   ],
   "source": [
    "ord(\"a\")"
   ]
  },
  {
   "cell_type": "code",
   "execution_count": 70,
   "id": "60528929",
   "metadata": {},
   "outputs": [
    {
     "data": {
      "text/plain": [
       "'a'"
      ]
     },
     "execution_count": 70,
     "metadata": {},
     "output_type": "execute_result"
    }
   ],
   "source": [
    "chr(97)"
   ]
  },
  {
   "cell_type": "code",
   "execution_count": 71,
   "id": "cbbdf360",
   "metadata": {},
   "outputs": [
    {
     "data": {
      "text/plain": [
       "\"'a\\\\na'\""
      ]
     },
     "execution_count": 71,
     "metadata": {},
     "output_type": "execute_result"
    }
   ],
   "source": [
    "ascii(\"a\\na\")"
   ]
  },
  {
   "cell_type": "markdown",
   "id": "d07d2051",
   "metadata": {},
   "source": [
    "#### callable"
   ]
  },
  {
   "cell_type": "code",
   "execution_count": 72,
   "id": "3445f0f7",
   "metadata": {},
   "outputs": [
    {
     "data": {
      "text/plain": [
       "False"
      ]
     },
     "execution_count": 72,
     "metadata": {},
     "output_type": "execute_result"
    }
   ],
   "source": [
    "callable(\"\")"
   ]
  },
  {
   "cell_type": "code",
   "execution_count": 73,
   "id": "c5022609",
   "metadata": {},
   "outputs": [
    {
     "data": {
      "text/plain": [
       "True"
      ]
     },
     "execution_count": 73,
     "metadata": {},
     "output_type": "execute_result"
    }
   ],
   "source": [
    "callable(str)"
   ]
  },
  {
   "cell_type": "code",
   "execution_count": 74,
   "id": "d714756a",
   "metadata": {},
   "outputs": [
    {
     "data": {
      "text/plain": [
       "True"
      ]
     },
     "execution_count": 74,
     "metadata": {},
     "output_type": "execute_result"
    }
   ],
   "source": [
    "def foo():\n",
    "    pass\n",
    "\n",
    "callable(foo)"
   ]
  },
  {
   "cell_type": "code",
   "execution_count": 75,
   "id": "cc3cc0d4",
   "metadata": {},
   "outputs": [
    {
     "data": {
      "text/plain": [
       "True"
      ]
     },
     "execution_count": 75,
     "metadata": {},
     "output_type": "execute_result"
    }
   ],
   "source": [
    "class C:\n",
    "    pass\n",
    "callable(C)"
   ]
  },
  {
   "cell_type": "code",
   "execution_count": 77,
   "id": "5aa52270",
   "metadata": {},
   "outputs": [
    {
     "data": {
      "text/plain": [
       "False"
      ]
     },
     "execution_count": 77,
     "metadata": {},
     "output_type": "execute_result"
    }
   ],
   "source": [
    "c = C()\n",
    "callable(c)"
   ]
  },
  {
   "cell_type": "code",
   "execution_count": 78,
   "id": "f85bc3bd",
   "metadata": {},
   "outputs": [
    {
     "data": {
      "text/plain": [
       "True"
      ]
     },
     "execution_count": 78,
     "metadata": {},
     "output_type": "execute_result"
    }
   ],
   "source": [
    "class C:\n",
    "    def __call__(self):\n",
    "        pass\n",
    "callable(C)"
   ]
  },
  {
   "cell_type": "code",
   "execution_count": 79,
   "id": "cc8f10be",
   "metadata": {},
   "outputs": [
    {
     "data": {
      "text/plain": [
       "True"
      ]
     },
     "execution_count": 79,
     "metadata": {},
     "output_type": "execute_result"
    }
   ],
   "source": [
    "c = C()\n",
    "callable(c)"
   ]
  },
  {
   "cell_type": "code",
   "execution_count": 80,
   "id": "e13f3042",
   "metadata": {},
   "outputs": [
    {
     "data": {
      "text/plain": [
       "True"
      ]
     },
     "execution_count": 80,
     "metadata": {},
     "output_type": "execute_result"
    }
   ],
   "source": [
    "hasattr(c, '__call__')"
   ]
  },
  {
   "cell_type": "markdown",
   "id": "21968a12",
   "metadata": {},
   "source": [
    "#### sorted / reversed"
   ]
  },
  {
   "cell_type": "markdown",
   "id": "9b698e66",
   "metadata": {},
   "source": [
    "##### map"
   ]
  },
  {
   "cell_type": "code",
   "execution_count": 81,
   "id": "91b49bd8",
   "metadata": {},
   "outputs": [
    {
     "name": "stdout",
     "output_type": "stream",
     "text": [
      "<class 'int'> 1\n",
      "<class 'int'> 0\n",
      "<class 'int'> 1\n",
      "<class 'int'> 0\n",
      "<class 'int'> 0\n",
      "<class 'int'> 1\n",
      "<class 'int'> 0\n",
      "<class 'int'> 0\n",
      "<class 'int'> 1\n"
     ]
    }
   ],
   "source": [
    "for el in map(int, \"101001001\"):\n",
    "    print(type(el), el)"
   ]
  },
  {
   "cell_type": "code",
   "execution_count": 83,
   "id": "e0003b77",
   "metadata": {},
   "outputs": [
    {
     "data": {
      "text/plain": [
       "[1, 0, 0, 1, 0, 0, 1, 0]"
      ]
     },
     "execution_count": 83,
     "metadata": {},
     "output_type": "execute_result"
    }
   ],
   "source": [
    "list(map(int, \"10010010\"))"
   ]
  },
  {
   "cell_type": "markdown",
   "id": "32ef3a52",
   "metadata": {},
   "source": [
    "#### filter"
   ]
  },
  {
   "cell_type": "code",
   "execution_count": 85,
   "id": "7e93d802",
   "metadata": {},
   "outputs": [
    {
     "data": {
      "text/plain": [
       "[10, 8]"
      ]
     },
     "execution_count": 85,
     "metadata": {},
     "output_type": "execute_result"
    }
   ],
   "source": [
    "items = [13, 10, 25, 8]\n",
    "def even(num):\n",
    "    return num % 2 == 0\n",
    "\n",
    "evens = filter(even, items)\n",
    "list(evens)\n"
   ]
  },
  {
   "cell_type": "code",
   "execution_count": 86,
   "id": "ef544163",
   "metadata": {},
   "outputs": [
    {
     "data": {
      "text/plain": [
       "False"
      ]
     },
     "execution_count": 86,
     "metadata": {},
     "output_type": "execute_result"
    }
   ],
   "source": [
    "even = lambda num: num % 2 ==0\n",
    "even(3)"
   ]
  },
  {
   "cell_type": "markdown",
   "id": "dd5323b2",
   "metadata": {},
   "source": [
    "#### funkcje agregujace: len, max, min, sum"
   ]
  },
  {
   "cell_type": "code",
   "execution_count": 87,
   "id": "22231eda",
   "metadata": {},
   "outputs": [
    {
     "data": {
      "text/plain": [
       "[0, 1, 2, 3, 4, 5, 6, 7, 8, 9]"
      ]
     },
     "execution_count": 87,
     "metadata": {},
     "output_type": "execute_result"
    }
   ],
   "source": [
    "list(range(10))"
   ]
  },
  {
   "cell_type": "code",
   "execution_count": 90,
   "id": "105a805a",
   "metadata": {},
   "outputs": [],
   "source": [
    "dane = list(range(100, 10, -10))\n",
    "dane2 = [x ** 2 for x in dane]"
   ]
  },
  {
   "cell_type": "code",
   "execution_count": null,
   "id": "b4666d46",
   "metadata": {},
   "outputs": [],
   "source": []
  },
  {
   "cell_type": "code",
   "execution_count": 91,
   "id": "25100c5a",
   "metadata": {},
   "outputs": [
    {
     "name": "stdout",
     "output_type": "stream",
     "text": [
      "100\n",
      "10000\n",
      "90\n",
      "8100\n",
      "80\n",
      "6400\n",
      "70\n",
      "4900\n",
      "60\n",
      "3600\n",
      "50\n",
      "2500\n",
      "40\n",
      "1600\n",
      "30\n",
      "900\n",
      "20\n",
      "400\n"
     ]
    }
   ],
   "source": [
    "for v in dane:\n",
    "    print(v)\n",
    "    print(dane2[dane.index(v)])"
   ]
  },
  {
   "cell_type": "code",
   "execution_count": 92,
   "id": "012d873e",
   "metadata": {},
   "outputs": [
    {
     "name": "stdout",
     "output_type": "stream",
     "text": [
      "100 10000\n",
      "90 8100\n",
      "80 6400\n",
      "70 4900\n",
      "60 3600\n",
      "50 2500\n",
      "40 1600\n",
      "30 900\n",
      "20 400\n"
     ]
    }
   ],
   "source": [
    "for i, v in enumerate(dane):\n",
    "    print(v, dane2[i])"
   ]
  },
  {
   "cell_type": "code",
   "execution_count": 93,
   "id": "5cf05433",
   "metadata": {},
   "outputs": [
    {
     "name": "stdout",
     "output_type": "stream",
     "text": [
      "100 10000\n",
      "90 8100\n",
      "80 6400\n",
      "70 4900\n",
      "60 3600\n",
      "50 2500\n",
      "40 1600\n",
      "30 900\n",
      "20 400\n"
     ]
    }
   ],
   "source": [
    "for v, vsqr in zip(dane, dane2):\n",
    "    print(v,vsqr)"
   ]
  },
  {
   "cell_type": "code",
   "execution_count": 95,
   "id": "e4d823eb",
   "metadata": {},
   "outputs": [],
   "source": [
    "a, b = 1, 2\n",
    "a, b = b, a"
   ]
  },
  {
   "cell_type": "markdown",
   "id": "78d48f9d",
   "metadata": {},
   "source": [
    "#### open"
   ]
  },
  {
   "cell_type": "code",
   "execution_count": 96,
   "id": "28698c4b",
   "metadata": {},
   "outputs": [
    {
     "ename": "IndentationError",
     "evalue": "expected an indented block after 'with' statement on line 1 (330790646.py, line 1)",
     "output_type": "error",
     "traceback": [
      "\u001b[1;36m  Input \u001b[1;32mIn [96]\u001b[1;36m\u001b[0m\n\u001b[1;33m    with open(\"nazwa\") as f:\u001b[0m\n\u001b[1;37m                            ^\u001b[0m\n\u001b[1;31mIndentationError\u001b[0m\u001b[1;31m:\u001b[0m expected an indented block after 'with' statement on line 1\n"
     ]
    }
   ],
   "source": [
    "with open(\"nazwa\") as f:"
   ]
  },
  {
   "cell_type": "markdown",
   "id": "3968652b",
   "metadata": {},
   "source": [
    "#### object"
   ]
  },
  {
   "cell_type": "code",
   "execution_count": 97,
   "id": "b251dc13",
   "metadata": {},
   "outputs": [],
   "source": [
    "x = object()\n",
    "y = object()"
   ]
  },
  {
   "cell_type": "code",
   "execution_count": 98,
   "id": "393526e3",
   "metadata": {},
   "outputs": [
    {
     "data": {
      "text/plain": [
       "(True, True)"
      ]
     },
     "execution_count": 98,
     "metadata": {},
     "output_type": "execute_result"
    }
   ],
   "source": [
    "x == x, y ==y"
   ]
  },
  {
   "cell_type": "code",
   "execution_count": 99,
   "id": "3b0d45d5",
   "metadata": {},
   "outputs": [
    {
     "data": {
      "text/plain": [
       "False"
      ]
     },
     "execution_count": 99,
     "metadata": {},
     "output_type": "execute_result"
    }
   ],
   "source": [
    "x == y"
   ]
  },
  {
   "cell_type": "code",
   "execution_count": 100,
   "id": "14874d79",
   "metadata": {},
   "outputs": [
    {
     "data": {
      "text/plain": [
       "145032640601"
      ]
     },
     "execution_count": 100,
     "metadata": {},
     "output_type": "execute_result"
    }
   ],
   "source": [
    "x.__hash__()"
   ]
  },
  {
   "cell_type": "code",
   "execution_count": 101,
   "id": "e30bf61e",
   "metadata": {},
   "outputs": [
    {
     "data": {
      "text/plain": [
       "145032640599"
      ]
     },
     "execution_count": 101,
     "metadata": {},
     "output_type": "execute_result"
    }
   ],
   "source": [
    "y.__hash__()"
   ]
  },
  {
   "cell_type": "markdown",
   "id": "2742e8ec",
   "metadata": {},
   "source": [
    "#### vars"
   ]
  },
  {
   "cell_type": "code",
   "execution_count": 102,
   "id": "3468e5d0",
   "metadata": {},
   "outputs": [],
   "source": [
    "vars?"
   ]
  },
  {
   "cell_type": "code",
   "execution_count": 103,
   "id": "997df6e9",
   "metadata": {},
   "outputs": [],
   "source": [
    "class C:\n",
    "    some_value=42\n",
    "    def __init__(self, x, y):\n",
    "        self.x = x\n",
    "        self.y = y\n",
    "    def some_method(self): pass\n",
    "\n",
    "c = C(x=3, y=5)"
   ]
  },
  {
   "cell_type": "code",
   "execution_count": 104,
   "id": "c0be1a8d",
   "metadata": {},
   "outputs": [
    {
     "data": {
      "text/plain": [
       "{'x': 3, 'y': 5}"
      ]
     },
     "execution_count": 104,
     "metadata": {},
     "output_type": "execute_result"
    }
   ],
   "source": [
    "c.__dict__"
   ]
  },
  {
   "cell_type": "code",
   "execution_count": 105,
   "id": "74722f6c",
   "metadata": {},
   "outputs": [
    {
     "data": {
      "text/plain": [
       "mappingproxy({'__module__': '__main__',\n",
       "              'some_value': 42,\n",
       "              '__init__': <function __main__.C.__init__(self, x, y)>,\n",
       "              'some_method': <function __main__.C.some_method(self)>,\n",
       "              '__dict__': <attribute '__dict__' of 'C' objects>,\n",
       "              '__weakref__': <attribute '__weakref__' of 'C' objects>,\n",
       "              '__doc__': None})"
      ]
     },
     "execution_count": 105,
     "metadata": {},
     "output_type": "execute_result"
    }
   ],
   "source": [
    "C.__dict__"
   ]
  },
  {
   "cell_type": "code",
   "execution_count": 106,
   "id": "27bc8d80",
   "metadata": {},
   "outputs": [
    {
     "data": {
      "text/plain": [
       "mappingproxy({'__module__': '__main__',\n",
       "              'some_value': 42,\n",
       "              '__init__': <function __main__.C.__init__(self, x, y)>,\n",
       "              'some_method': <function __main__.C.some_method(self)>,\n",
       "              '__dict__': <attribute '__dict__' of 'C' objects>,\n",
       "              '__weakref__': <attribute '__weakref__' of 'C' objects>,\n",
       "              '__doc__': None})"
      ]
     },
     "execution_count": 106,
     "metadata": {},
     "output_type": "execute_result"
    }
   ],
   "source": [
    "vars(C)"
   ]
  },
  {
   "cell_type": "code",
   "execution_count": 107,
   "id": "52d6bef7",
   "metadata": {},
   "outputs": [
    {
     "data": {
      "text/plain": [
       "{'x': 3, 'y': 5}"
      ]
     },
     "execution_count": 107,
     "metadata": {},
     "output_type": "execute_result"
    }
   ],
   "source": [
    "vars(c)"
   ]
  },
  {
   "cell_type": "code",
   "execution_count": null,
   "id": "e46c1019",
   "metadata": {},
   "outputs": [],
   "source": []
  },
  {
   "cell_type": "code",
   "execution_count": null,
   "id": "6112be59",
   "metadata": {},
   "outputs": [],
   "source": [
    "### przestrzeń globalna"
   ]
  },
  {
   "cell_type": "code",
   "execution_count": 112,
   "id": "6f851b91",
   "metadata": {},
   "outputs": [
    {
     "name": "stdout",
     "output_type": "stream",
     "text": [
      "Overwriting global_space.py\n"
     ]
    }
   ],
   "source": [
    "%%writefile global_space.py\n",
    "\n",
    "a=1\n",
    "\n",
    "def foo(): pass\n",
    "\n",
    "print(globals())"
   ]
  },
  {
   "cell_type": "code",
   "execution_count": null,
   "id": "ed4226f0",
   "metadata": {},
   "outputs": [],
   "source": []
  },
  {
   "cell_type": "code",
   "execution_count": 110,
   "id": "70ce2b12",
   "metadata": {},
   "outputs": [
    {
     "name": "stdout",
     "output_type": "stream",
     "text": [
      "{'__name__': '__main__', '__doc__': None, '__package__': None, '__loader__': <_frozen_importlib_external.SourceFileLoader object at 0x000001F7644B49A0>, '__spec__': None, '__annotations__': {}, '__builtins__': <module 'builtins' (built-in)>, '__file__': 'C:\\\\Users\\\\krzys\\\\workspace\\\\kurs_powtorkowy\\\\global_space.py', '__cached__': None}\n"
     ]
    }
   ],
   "source": [
    "!python global_space.py"
   ]
  },
  {
   "cell_type": "code",
   "execution_count": null,
   "id": "1ade1fd6",
   "metadata": {},
   "outputs": [],
   "source": []
  },
  {
   "cell_type": "markdown",
   "id": "5109a853",
   "metadata": {},
   "source": [
    "## przestrzeń lokalna"
   ]
  },
  {
   "cell_type": "code",
   "execution_count": 115,
   "id": "94d370ac",
   "metadata": {},
   "outputs": [
    {
     "name": "stdout",
     "output_type": "stream",
     "text": [
      "Overwriting local_space.py\n"
     ]
    }
   ],
   "source": [
    "%%writefile local_space.py\n",
    "\n",
    "a=1\n",
    "\n",
    "def foo(): \n",
    "    print(\"w funkcji - przestrzen lokalna: \")\n",
    "    print(globals())\n",
    "    print(locals())\n",
    "\n",
    "print(\"na poziomie modułu - przestrzeń globalna\")\n",
    "print(globals())\n",
    "print(locals())\n",
    "\n",
    "print()\n",
    "foo()\n"
   ]
  },
  {
   "cell_type": "code",
   "execution_count": null,
   "id": "40cd0079",
   "metadata": {},
   "outputs": [],
   "source": []
  },
  {
   "cell_type": "code",
   "execution_count": 116,
   "id": "b560da30",
   "metadata": {},
   "outputs": [
    {
     "name": "stdout",
     "output_type": "stream",
     "text": [
      "na poziomie modułu - przestrzeń globalna\n",
      "{'__name__': '__main__', '__doc__': None, '__package__': None, '__loader__': <_frozen_importlib_external.SourceFileLoader object at 0x0000028B522A49A0>, '__spec__': None, '__annotations__': {}, '__builtins__': <module 'builtins' (built-in)>, '__file__': 'C:\\\\Users\\\\krzys\\\\workspace\\\\kurs_powtorkowy\\\\local_space.py', '__cached__': None, 'a': 1, 'foo': <function foo at 0x0000028B521E3E20>}\n",
      "{'__name__': '__main__', '__doc__': None, '__package__': None, '__loader__': <_frozen_importlib_external.SourceFileLoader object at 0x0000028B522A49A0>, '__spec__': None, '__annotations__': {}, '__builtins__': <module 'builtins' (built-in)>, '__file__': 'C:\\\\Users\\\\krzys\\\\workspace\\\\kurs_powtorkowy\\\\local_space.py', '__cached__': None, 'a': 1, 'foo': <function foo at 0x0000028B521E3E20>}\n",
      "\n",
      "w funkcji - przestrzen lokalna: \n",
      "{'__name__': '__main__', '__doc__': None, '__package__': None, '__loader__': <_frozen_importlib_external.SourceFileLoader object at 0x0000028B522A49A0>, '__spec__': None, '__annotations__': {}, '__builtins__': <module 'builtins' (built-in)>, '__file__': 'C:\\\\Users\\\\krzys\\\\workspace\\\\kurs_powtorkowy\\\\local_space.py', '__cached__': None, 'a': 1, 'foo': <function foo at 0x0000028B521E3E20>}\n",
      "{}\n"
     ]
    }
   ],
   "source": [
    "!python local_space.py"
   ]
  },
  {
   "cell_type": "code",
   "execution_count": 117,
   "id": "d624f2f4",
   "metadata": {},
   "outputs": [
    {
     "data": {
      "application/json": {
       "cell": {
        "!": "OSMagics",
        "HTML": "Other",
        "SVG": "Other",
        "bash": "Other",
        "capture": "ExecutionMagics",
        "cmd": "Other",
        "debug": "ExecutionMagics",
        "file": "Other",
        "html": "DisplayMagics",
        "javascript": "DisplayMagics",
        "js": "DisplayMagics",
        "latex": "DisplayMagics",
        "markdown": "DisplayMagics",
        "perl": "Other",
        "prun": "ExecutionMagics",
        "pypy": "Other",
        "python": "Other",
        "python2": "Other",
        "python3": "Other",
        "ruby": "Other",
        "script": "ScriptMagics",
        "sh": "Other",
        "svg": "DisplayMagics",
        "sx": "OSMagics",
        "system": "OSMagics",
        "time": "ExecutionMagics",
        "timeit": "ExecutionMagics",
        "writefile": "OSMagics"
       },
       "line": {
        "alias": "OSMagics",
        "alias_magic": "BasicMagics",
        "autoawait": "AsyncMagics",
        "autocall": "AutoMagics",
        "automagic": "AutoMagics",
        "autosave": "KernelMagics",
        "bookmark": "OSMagics",
        "cd": "OSMagics",
        "clear": "KernelMagics",
        "cls": "KernelMagics",
        "colors": "BasicMagics",
        "conda": "PackagingMagics",
        "config": "ConfigMagics",
        "connect_info": "KernelMagics",
        "copy": "Other",
        "ddir": "Other",
        "debug": "ExecutionMagics",
        "dhist": "OSMagics",
        "dirs": "OSMagics",
        "doctest_mode": "BasicMagics",
        "echo": "Other",
        "ed": "Other",
        "edit": "KernelMagics",
        "env": "OSMagics",
        "gui": "BasicMagics",
        "hist": "Other",
        "history": "HistoryMagics",
        "killbgscripts": "ScriptMagics",
        "ldir": "Other",
        "less": "KernelMagics",
        "load": "CodeMagics",
        "load_ext": "ExtensionMagics",
        "loadpy": "CodeMagics",
        "logoff": "LoggingMagics",
        "logon": "LoggingMagics",
        "logstart": "LoggingMagics",
        "logstate": "LoggingMagics",
        "logstop": "LoggingMagics",
        "ls": "Other",
        "lsmagic": "BasicMagics",
        "macro": "ExecutionMagics",
        "magic": "BasicMagics",
        "matplotlib": "PylabMagics",
        "mkdir": "Other",
        "more": "KernelMagics",
        "notebook": "BasicMagics",
        "page": "BasicMagics",
        "pastebin": "CodeMagics",
        "pdb": "ExecutionMagics",
        "pdef": "NamespaceMagics",
        "pdoc": "NamespaceMagics",
        "pfile": "NamespaceMagics",
        "pinfo": "NamespaceMagics",
        "pinfo2": "NamespaceMagics",
        "pip": "PackagingMagics",
        "popd": "OSMagics",
        "pprint": "BasicMagics",
        "precision": "BasicMagics",
        "prun": "ExecutionMagics",
        "psearch": "NamespaceMagics",
        "psource": "NamespaceMagics",
        "pushd": "OSMagics",
        "pwd": "OSMagics",
        "pycat": "OSMagics",
        "pylab": "PylabMagics",
        "qtconsole": "KernelMagics",
        "quickref": "BasicMagics",
        "recall": "HistoryMagics",
        "rehashx": "OSMagics",
        "reload_ext": "ExtensionMagics",
        "ren": "Other",
        "rep": "Other",
        "rerun": "HistoryMagics",
        "reset": "NamespaceMagics",
        "reset_selective": "NamespaceMagics",
        "rmdir": "Other",
        "run": "ExecutionMagics",
        "save": "CodeMagics",
        "sc": "OSMagics",
        "set_env": "OSMagics",
        "store": "StoreMagics",
        "sx": "OSMagics",
        "system": "OSMagics",
        "tb": "ExecutionMagics",
        "time": "ExecutionMagics",
        "timeit": "ExecutionMagics",
        "unalias": "OSMagics",
        "unload_ext": "ExtensionMagics",
        "who": "NamespaceMagics",
        "who_ls": "NamespaceMagics",
        "whos": "NamespaceMagics",
        "xdel": "NamespaceMagics",
        "xmode": "BasicMagics"
       }
      },
      "text/plain": [
       "Available line magics:\n",
       "%alias  %alias_magic  %autoawait  %autocall  %automagic  %autosave  %bookmark  %cd  %clear  %cls  %colors  %conda  %config  %connect_info  %copy  %ddir  %debug  %dhist  %dirs  %doctest_mode  %echo  %ed  %edit  %env  %gui  %hist  %history  %killbgscripts  %ldir  %less  %load  %load_ext  %loadpy  %logoff  %logon  %logstart  %logstate  %logstop  %ls  %lsmagic  %macro  %magic  %matplotlib  %mkdir  %more  %notebook  %page  %pastebin  %pdb  %pdef  %pdoc  %pfile  %pinfo  %pinfo2  %pip  %popd  %pprint  %precision  %prun  %psearch  %psource  %pushd  %pwd  %pycat  %pylab  %qtconsole  %quickref  %recall  %rehashx  %reload_ext  %ren  %rep  %rerun  %reset  %reset_selective  %rmdir  %run  %save  %sc  %set_env  %store  %sx  %system  %tb  %time  %timeit  %unalias  %unload_ext  %who  %who_ls  %whos  %xdel  %xmode\n",
       "\n",
       "Available cell magics:\n",
       "%%!  %%HTML  %%SVG  %%bash  %%capture  %%cmd  %%debug  %%file  %%html  %%javascript  %%js  %%latex  %%markdown  %%perl  %%prun  %%pypy  %%python  %%python2  %%python3  %%ruby  %%script  %%sh  %%svg  %%sx  %%system  %%time  %%timeit  %%writefile\n",
       "\n",
       "Automagic is ON, % prefix IS NOT needed for line magics."
      ]
     },
     "execution_count": 117,
     "metadata": {},
     "output_type": "execute_result"
    }
   ],
   "source": [
    "%lsmagic"
   ]
  },
  {
   "cell_type": "code",
   "execution_count": null,
   "id": "29b74eb0",
   "metadata": {},
   "outputs": [],
   "source": []
  },
  {
   "cell_type": "markdown",
   "id": "8508042e",
   "metadata": {},
   "source": [
    "## przestrzeń nielokalna, domykająca"
   ]
  },
  {
   "cell_type": "markdown",
   "id": "e082ecce",
   "metadata": {},
   "source": [
    "## zmienne"
   ]
  },
  {
   "cell_type": "markdown",
   "id": "c2a4eec9",
   "metadata": {},
   "source": [
    "nazwa, referencja, zmienna, wartość, literał"
   ]
  },
  {
   "cell_type": "code",
   "execution_count": null,
   "id": "e4fde8f5",
   "metadata": {},
   "outputs": [],
   "source": []
  },
  {
   "cell_type": "code",
   "execution_count": 118,
   "id": "41f56728",
   "metadata": {},
   "outputs": [],
   "source": [
    "nr_portu = 1"
   ]
  },
  {
   "cell_type": "code",
   "execution_count": 119,
   "id": "10a088ab",
   "metadata": {},
   "outputs": [],
   "source": [
    "NR_PORTU = 5000"
   ]
  },
  {
   "cell_type": "code",
   "execution_count": 120,
   "id": "6b5f4a30",
   "metadata": {},
   "outputs": [],
   "source": [
    "a = 1\n",
    "b = a"
   ]
  },
  {
   "cell_type": "code",
   "execution_count": 121,
   "id": "bd0f35bd",
   "metadata": {},
   "outputs": [
    {
     "data": {
      "text/plain": [
       "True"
      ]
     },
     "execution_count": 121,
     "metadata": {},
     "output_type": "execute_result"
    }
   ],
   "source": [
    "b is a"
   ]
  },
  {
   "cell_type": "code",
   "execution_count": 122,
   "id": "b823253d",
   "metadata": {},
   "outputs": [],
   "source": [
    "a = [1,2,3]\n",
    "b = a"
   ]
  },
  {
   "cell_type": "code",
   "execution_count": 123,
   "id": "20bb87e8",
   "metadata": {},
   "outputs": [
    {
     "data": {
      "text/plain": [
       "True"
      ]
     },
     "execution_count": 123,
     "metadata": {},
     "output_type": "execute_result"
    }
   ],
   "source": [
    "b is a"
   ]
  },
  {
   "cell_type": "code",
   "execution_count": 124,
   "id": "a9944d81",
   "metadata": {},
   "outputs": [
    {
     "data": {
      "text/plain": [
       "[1, 2, 3, 4]"
      ]
     },
     "execution_count": 124,
     "metadata": {},
     "output_type": "execute_result"
    }
   ],
   "source": [
    "b.append(4)\n",
    "b"
   ]
  },
  {
   "cell_type": "code",
   "execution_count": 125,
   "id": "b03a6600",
   "metadata": {},
   "outputs": [],
   "source": [
    "slownik_zmiennych = {\"a\":1, \"b\":2, \"c\":3, \"d\":34}\n"
   ]
  },
  {
   "cell_type": "code",
   "execution_count": 128,
   "id": "995713cc",
   "metadata": {},
   "outputs": [
    {
     "ename": "TypeError",
     "evalue": "unsupported operand type(s) for -: 'str' and 'int'",
     "output_type": "error",
     "traceback": [
      "\u001b[1;31m---------------------------------------------------------------------------\u001b[0m",
      "\u001b[1;31mTypeError\u001b[0m                                 Traceback (most recent call last)",
      "Input \u001b[1;32mIn [128]\u001b[0m, in \u001b[0;36m<cell line: 1>\u001b[1;34m()\u001b[0m\n\u001b[0;32m      1\u001b[0m \u001b[38;5;28;01mfor\u001b[39;00m k, v \u001b[38;5;129;01min\u001b[39;00m slownik_zmiennych\u001b[38;5;241m.\u001b[39mitems():\n\u001b[1;32m----> 2\u001b[0m     \u001b[43mexec\u001b[49m\u001b[43m(\u001b[49m\u001b[38;5;124;43mf\u001b[39;49m\u001b[38;5;124;43m\"\u001b[39;49m\u001b[38;5;124;43m(k) - (v)\u001b[39;49m\u001b[38;5;124;43m\"\u001b[39;49m\u001b[43m)\u001b[49m\n",
      "File \u001b[1;32m<string>:1\u001b[0m, in \u001b[0;36m<module>\u001b[1;34m\u001b[0m\n",
      "\u001b[1;31mTypeError\u001b[0m: unsupported operand type(s) for -: 'str' and 'int'"
     ]
    }
   ],
   "source": [
    "for k, v in slownik_zmiennych.items():\n",
    "    exec(f\"(k) - (v)\")"
   ]
  },
  {
   "cell_type": "markdown",
   "id": "29c5a8be",
   "metadata": {},
   "source": [
    "## wbudowane podstwowe typy\n",
    "\n",
    "## napis\n",
    "- ciag znakow unicode\n",
    "- niemutowalny"
   ]
  },
  {
   "cell_type": "code",
   "execution_count": 129,
   "id": "c80305ea",
   "metadata": {},
   "outputs": [
    {
     "data": {
      "text/plain": [
       "'None'"
      ]
     },
     "execution_count": 129,
     "metadata": {},
     "output_type": "execute_result"
    }
   ],
   "source": [
    "str(None)"
   ]
  },
  {
   "cell_type": "code",
   "execution_count": 130,
   "id": "f73f8a49",
   "metadata": {},
   "outputs": [
    {
     "data": {
      "text/plain": [
       "'12'"
      ]
     },
     "execution_count": 130,
     "metadata": {},
     "output_type": "execute_result"
    }
   ],
   "source": [
    "'1'+ '2'"
   ]
  },
  {
   "cell_type": "code",
   "execution_count": 131,
   "id": "1a2b84ae",
   "metadata": {},
   "outputs": [
    {
     "data": {
      "text/plain": [
       "'11111111111111111111111111111111111111111111111111'"
      ]
     },
     "execution_count": 131,
     "metadata": {},
     "output_type": "execute_result"
    }
   ],
   "source": [
    "'1' * 50"
   ]
  },
  {
   "cell_type": "code",
   "execution_count": 132,
   "id": "6776bc99",
   "metadata": {},
   "outputs": [
    {
     "data": {
      "text/plain": [
       "'2'"
      ]
     },
     "execution_count": 132,
     "metadata": {},
     "output_type": "execute_result"
    }
   ],
   "source": [
    "\"1\" and \"2\""
   ]
  },
  {
   "cell_type": "code",
   "execution_count": 133,
   "id": "fc875adb",
   "metadata": {},
   "outputs": [
    {
     "data": {
      "text/plain": [
       "''"
      ]
     },
     "execution_count": 133,
     "metadata": {},
     "output_type": "execute_result"
    }
   ],
   "source": [
    "\"\" and \"2\""
   ]
  },
  {
   "cell_type": "code",
   "execution_count": 134,
   "id": "6dc8a52d",
   "metadata": {},
   "outputs": [
    {
     "data": {
      "text/plain": [
       "'2'"
      ]
     },
     "execution_count": 134,
     "metadata": {},
     "output_type": "execute_result"
    }
   ],
   "source": [
    "\"3\" and \"2\""
   ]
  },
  {
   "cell_type": "markdown",
   "id": "5a2a19e6",
   "metadata": {},
   "source": [
    "#### formatowanie napisów"
   ]
  },
  {
   "cell_type": "code",
   "execution_count": 136,
   "id": "df9b4d77",
   "metadata": {},
   "outputs": [
    {
     "data": {
      "text/plain": [
       "'1 2'"
      ]
     },
     "execution_count": 136,
     "metadata": {},
     "output_type": "execute_result"
    }
   ],
   "source": [
    "\"1\" + \" 2\""
   ]
  },
  {
   "cell_type": "code",
   "execution_count": 141,
   "id": "f9705ff7",
   "metadata": {},
   "outputs": [
    {
     "data": {
      "text/plain": [
       "'Ala ma 2137.00 kotów i 69.000 psów'"
      ]
     },
     "execution_count": 141,
     "metadata": {},
     "output_type": "execute_result"
    }
   ],
   "source": [
    "\"Ala ma %.2f kotów i %.3f psów\" % (2137, 69)"
   ]
  },
  {
   "cell_type": "markdown",
   "id": "aa1bdd26",
   "metadata": {},
   "source": [
    "## f-string"
   ]
  },
  {
   "cell_type": "code",
   "execution_count": 2,
   "id": "1aead540",
   "metadata": {},
   "outputs": [
    {
     "data": {
      "text/plain": [
       "'2022-04-10T09:06:06.547071'"
      ]
     },
     "execution_count": 2,
     "metadata": {},
     "output_type": "execute_result"
    }
   ],
   "source": [
    "import datetime\n",
    "today = datetime.datetime.today()\n",
    "\n",
    "x = 1\n",
    "b = 2\n",
    "\n",
    "today.isoformat()"
   ]
  },
  {
   "cell_type": "code",
   "execution_count": 6,
   "id": "ddddac6b",
   "metadata": {},
   "outputs": [
    {
     "data": {
      "text/plain": [
       "'1 2 2022-04-10 09:06:06.547071'"
      ]
     },
     "execution_count": 6,
     "metadata": {},
     "output_type": "execute_result"
    }
   ],
   "source": [
    "f\"{x} {b} {today}\""
   ]
  },
  {
   "cell_type": "code",
   "execution_count": 7,
   "id": "962f6b81",
   "metadata": {},
   "outputs": [
    {
     "data": {
      "text/plain": [
       "'1 2 2022-04-10'"
      ]
     },
     "execution_count": 7,
     "metadata": {},
     "output_type": "execute_result"
    }
   ],
   "source": [
    "f\"{x} {b} {today:%Y-%m-%d}\""
   ]
  },
  {
   "cell_type": "code",
   "execution_count": 8,
   "id": "6b09e3f1",
   "metadata": {},
   "outputs": [
    {
     "data": {
      "text/plain": [
       "'1 2 09:06:06'"
      ]
     },
     "execution_count": 8,
     "metadata": {},
     "output_type": "execute_result"
    }
   ],
   "source": [
    "f\"{x} {b} {today:%T}\""
   ]
  },
  {
   "cell_type": "code",
   "execution_count": 10,
   "id": "068fe8ac",
   "metadata": {},
   "outputs": [
    {
     "data": {
      "text/plain": [
       "'1 2 2022'"
      ]
     },
     "execution_count": 10,
     "metadata": {},
     "output_type": "execute_result"
    }
   ],
   "source": [
    "f\"{x} {b} {today:%Y}\""
   ]
  },
  {
   "cell_type": "code",
   "execution_count": 11,
   "id": "b0427937",
   "metadata": {},
   "outputs": [
    {
     "data": {
      "text/plain": [
       "'x = 1, b= 2'"
      ]
     },
     "execution_count": 11,
     "metadata": {},
     "output_type": "execute_result"
    }
   ],
   "source": [
    "f\"x = {x}, b= {b}\""
   ]
  },
  {
   "cell_type": "code",
   "execution_count": 12,
   "id": "6632d813",
   "metadata": {},
   "outputs": [
    {
     "data": {
      "text/plain": [
       "'x = 1, b = 2'"
      ]
     },
     "execution_count": 12,
     "metadata": {},
     "output_type": "execute_result"
    }
   ],
   "source": [
    "f\"{x = }, {b = }\""
   ]
  },
  {
   "cell_type": "code",
   "execution_count": 13,
   "id": "49d07366",
   "metadata": {},
   "outputs": [
    {
     "data": {
      "text/plain": [
       "'x = 1, b = 2.000'"
      ]
     },
     "execution_count": 13,
     "metadata": {},
     "output_type": "execute_result"
    }
   ],
   "source": [
    "f\"{x = }, {b = :.3f}\""
   ]
  },
  {
   "cell_type": "code",
   "execution_count": 16,
   "id": "112fa9d3",
   "metadata": {},
   "outputs": [],
   "source": [
    "class User:\n",
    "    def __init__(self, first_name, last_name):\n",
    "        self.first_name = first_name\n",
    "        self.last_name = last_name\n",
    "        \n",
    "    def __str__(self):\n",
    "        return f\"{self.first_name} {self.last_name}\"\n",
    "    \n",
    "    def __repr__(self):\n",
    "        return f\"User's name is {self.first_name} {self.last_name}\""
   ]
  },
  {
   "cell_type": "code",
   "execution_count": 19,
   "id": "176df6b8",
   "metadata": {},
   "outputs": [
    {
     "data": {
      "text/plain": [
       "'Penis Szatanski'"
      ]
     },
     "execution_count": 19,
     "metadata": {},
     "output_type": "execute_result"
    }
   ],
   "source": [
    "user = User(\"Penis\", \"Szatanski\")\n",
    "\n",
    "f\"{user}\""
   ]
  },
  {
   "cell_type": "code",
   "execution_count": 20,
   "id": "b0a91548",
   "metadata": {},
   "outputs": [
    {
     "data": {
      "text/plain": [
       "\"User's name is Penis Szatanski\""
      ]
     },
     "execution_count": 20,
     "metadata": {},
     "output_type": "execute_result"
    }
   ],
   "source": [
    "f\"{user!r}\""
   ]
  },
  {
   "cell_type": "code",
   "execution_count": 21,
   "id": "255f8c5e",
   "metadata": {},
   "outputs": [],
   "source": [
    "x, y = \"hello\", \"world\""
   ]
  },
  {
   "cell_type": "code",
   "execution_count": 25,
   "id": "8c2000e3",
   "metadata": {},
   "outputs": [
    {
     "name": "stdout",
     "output_type": "stream",
     "text": [
      "103 ns ± 18 ns per loop (mean ± std. dev. of 7 runs, 100,000 loops each)\n"
     ]
    }
   ],
   "source": [
    "%timeit -n100000 f\"{x} {y}\""
   ]
  },
  {
   "cell_type": "code",
   "execution_count": 26,
   "id": "905198d7",
   "metadata": {},
   "outputs": [
    {
     "name": "stdout",
     "output_type": "stream",
     "text": [
      "130 ns ± 21.1 ns per loop (mean ± std. dev. of 7 runs, 100,000 loops each)\n"
     ]
    }
   ],
   "source": [
    "%timeit -n100000 x + \" \" + y"
   ]
  },
  {
   "cell_type": "code",
   "execution_count": 27,
   "id": "f52e4bd9",
   "metadata": {},
   "outputs": [
    {
     "name": "stdout",
     "output_type": "stream",
     "text": [
      "146 ns ± 17.6 ns per loop (mean ± std. dev. of 7 runs, 100,000 loops each)\n"
     ]
    }
   ],
   "source": [
    "%timeit -n100000 \" \".join((x,y))"
   ]
  },
  {
   "cell_type": "code",
   "execution_count": 28,
   "id": "499520b4",
   "metadata": {},
   "outputs": [],
   "source": [
    "from string import Template"
   ]
  },
  {
   "cell_type": "code",
   "execution_count": 29,
   "id": "9a1abf4d",
   "metadata": {},
   "outputs": [
    {
     "name": "stdout",
     "output_type": "stream",
     "text": [
      "2.41 µs ± 131 ns per loop (mean ± std. dev. of 7 runs, 100,000 loops each)\n"
     ]
    }
   ],
   "source": [
    "%timeit -n100000 Template(\"$x $y\").substitute(x=x, y=y)"
   ]
  },
  {
   "cell_type": "code",
   "execution_count": 31,
   "id": "43a109ed",
   "metadata": {},
   "outputs": [
    {
     "data": {
      "text/plain": [
       "'         hello world'"
      ]
     },
     "execution_count": 31,
     "metadata": {},
     "output_type": "execute_result"
    }
   ],
   "source": [
    "text = \"hello world\"\n",
    "\n",
    "#centrowanie do lewej < do prawej >\n",
    "\n",
    "f\"{text:>20}\""
   ]
  },
  {
   "cell_type": "code",
   "execution_count": 33,
   "id": "8323d916",
   "metadata": {},
   "outputs": [
    {
     "data": {
      "text/plain": [
       "'21_372_137'"
      ]
     },
     "execution_count": 33,
     "metadata": {},
     "output_type": "execute_result"
    }
   ],
   "source": [
    "number = 21372137\n",
    "\n",
    "f\"{number:_}\""
   ]
  },
  {
   "cell_type": "code",
   "execution_count": 34,
   "id": "2a3678c2",
   "metadata": {},
   "outputs": [
    {
     "data": {
      "text/plain": [
       "'00000666'"
      ]
     },
     "execution_count": 34,
     "metadata": {},
     "output_type": "execute_result"
    }
   ],
   "source": [
    "number = 666\n",
    "f\"{number:08}\""
   ]
  },
  {
   "cell_type": "code",
   "execution_count": 40,
   "id": "22e82d5c",
   "metadata": {},
   "outputs": [
    {
     "data": {
      "text/plain": [
       "'  $254.346'"
      ]
     },
     "execution_count": 40,
     "metadata": {},
     "output_type": "execute_result"
    }
   ],
   "source": [
    "number = 254.3463\n",
    "'   $254.346'\n",
    "\n",
    "x = f'${number:.3f}'\n",
    "x\n",
    "f\"{x:>10}\"\n",
    "f\"{f'${number:.3f}':>10}\""
   ]
  },
  {
   "cell_type": "code",
   "execution_count": 42,
   "id": "fa81ee79",
   "metadata": {},
   "outputs": [
    {
     "data": {
      "text/plain": [
       "'  42.123'"
      ]
     },
     "execution_count": 42,
     "metadata": {},
     "output_type": "execute_result"
    }
   ],
   "source": [
    "width = 8\n",
    "precision = 3\n",
    "\n",
    "number = 42.12345\n",
    "\n",
    "f\"{number:{width}.{precision}f}\"\n",
    "\n"
   ]
  },
  {
   "cell_type": "code",
   "execution_count": 43,
   "id": "2ab5fd71",
   "metadata": {},
   "outputs": [],
   "source": [
    "import decimal"
   ]
  },
  {
   "cell_type": "code",
   "execution_count": 44,
   "id": "6505f714",
   "metadata": {},
   "outputs": [
    {
     "data": {
      "text/plain": [
       "Decimal('42.12345')"
      ]
     },
     "execution_count": 44,
     "metadata": {},
     "output_type": "execute_result"
    }
   ],
   "source": [
    "value = decimal.Decimal(\"42.12345\")\n",
    "value"
   ]
  },
  {
   "cell_type": "code",
   "execution_count": 46,
   "id": "477f283a",
   "metadata": {},
   "outputs": [
    {
     "data": {
      "text/plain": [
       "'Result: 42.1'"
      ]
     },
     "execution_count": 46,
     "metadata": {},
     "output_type": "execute_result"
    }
   ],
   "source": [
    "f\"Result: {value:{'4.3' if value < 100 else '8.3'}}\""
   ]
  },
  {
   "cell_type": "markdown",
   "id": "7f68971b",
   "metadata": {},
   "source": [
    "## bool"
   ]
  },
  {
   "cell_type": "code",
   "execution_count": null,
   "id": "3293e387",
   "metadata": {},
   "outputs": [],
   "source": [
    "False, True\n",
    "\n",
    "# and, or, not"
   ]
  },
  {
   "cell_type": "code",
   "execution_count": 47,
   "id": "95c0f83f",
   "metadata": {},
   "outputs": [
    {
     "data": {
      "text/plain": [
       "(False, False, False)"
      ]
     },
     "execution_count": 47,
     "metadata": {},
     "output_type": "execute_result"
    }
   ],
   "source": [
    "bool(\"\"), bool([]), bool()"
   ]
  },
  {
   "cell_type": "markdown",
   "id": "b6848e38",
   "metadata": {},
   "source": [
    "### operator is\n",
    "\n",
    "x == True # (1 == True)\n",
    "\n",
    "x is True\n",
    "\n",
    "id()"
   ]
  },
  {
   "cell_type": "markdown",
   "id": "b35661dd",
   "metadata": {},
   "source": [
    "### int"
   ]
  },
  {
   "cell_type": "code",
   "execution_count": 48,
   "id": "9990f51f",
   "metadata": {},
   "outputs": [
    {
     "data": {
      "text/plain": [
       "100000000"
      ]
     },
     "execution_count": 48,
     "metadata": {},
     "output_type": "execute_result"
    }
   ],
   "source": [
    "1\n",
    "123\n",
    "1000_000_00"
   ]
  },
  {
   "cell_type": "code",
   "execution_count": 49,
   "id": "83b3aa7b",
   "metadata": {},
   "outputs": [
    {
     "data": {
      "text/plain": [
       "-123"
      ]
     },
     "execution_count": 49,
     "metadata": {},
     "output_type": "execute_result"
    }
   ],
   "source": [
    "x = 123\n",
    "-x "
   ]
  },
  {
   "cell_type": "code",
   "execution_count": 50,
   "id": "80595042",
   "metadata": {},
   "outputs": [
    {
     "data": {
      "text/plain": [
       "100"
      ]
     },
     "execution_count": 50,
     "metadata": {},
     "output_type": "execute_result"
    }
   ],
   "source": [
    "b = int('100')\n",
    "b"
   ]
  },
  {
   "cell_type": "code",
   "execution_count": 51,
   "id": "39f0e8af",
   "metadata": {},
   "outputs": [
    {
     "data": {
      "text/plain": [
       "2"
      ]
     },
     "execution_count": 51,
     "metadata": {},
     "output_type": "execute_result"
    }
   ],
   "source": [
    "b = int('10', base=2)\n",
    "b"
   ]
  },
  {
   "cell_type": "code",
   "execution_count": 57,
   "id": "736fb325",
   "metadata": {},
   "outputs": [
    {
     "data": {
      "text/plain": [
       "(341, 74565)"
      ]
     },
     "execution_count": 57,
     "metadata": {},
     "output_type": "execute_result"
    }
   ],
   "source": [
    "#\"101010101\" - dwojkowy\n",
    "#\"12345\" - szesnastkowy\n",
    "\n",
    "a = int(\"101010101\", base=2)\n",
    "b = int(\"12345\", base=16)\n",
    "a, b\n",
    "\n"
   ]
  },
  {
   "cell_type": "code",
   "execution_count": 58,
   "id": "b1efd23e",
   "metadata": {},
   "outputs": [
    {
     "data": {
      "text/plain": [
       "5"
      ]
     },
     "execution_count": 58,
     "metadata": {},
     "output_type": "execute_result"
    }
   ],
   "source": [
    "0b101"
   ]
  },
  {
   "cell_type": "code",
   "execution_count": 59,
   "id": "cbf4a6e7",
   "metadata": {},
   "outputs": [
    {
     "data": {
      "text/plain": [
       "83"
      ]
     },
     "execution_count": 59,
     "metadata": {},
     "output_type": "execute_result"
    }
   ],
   "source": [
    "0o123"
   ]
  },
  {
   "cell_type": "code",
   "execution_count": 60,
   "id": "f7eb4811",
   "metadata": {},
   "outputs": [
    {
     "data": {
      "text/plain": [
       "291"
      ]
     },
     "execution_count": 60,
     "metadata": {},
     "output_type": "execute_result"
    }
   ],
   "source": [
    "0x123"
   ]
  },
  {
   "cell_type": "code",
   "execution_count": 61,
   "id": "e1d0817b",
   "metadata": {},
   "outputs": [
    {
     "data": {
      "text/plain": [
       "'0x123'"
      ]
     },
     "execution_count": 61,
     "metadata": {},
     "output_type": "execute_result"
    }
   ],
   "source": [
    "hex(291)"
   ]
  },
  {
   "cell_type": "code",
   "execution_count": 62,
   "id": "b68ad047",
   "metadata": {},
   "outputs": [
    {
     "data": {
      "text/plain": [
       "'0o123'"
      ]
     },
     "execution_count": 62,
     "metadata": {},
     "output_type": "execute_result"
    }
   ],
   "source": [
    "oct(83)"
   ]
  },
  {
   "cell_type": "code",
   "execution_count": 63,
   "id": "4e958baf",
   "metadata": {},
   "outputs": [
    {
     "data": {
      "text/plain": [
       "'0b101'"
      ]
     },
     "execution_count": 63,
     "metadata": {},
     "output_type": "execute_result"
    }
   ],
   "source": [
    "bin(5)"
   ]
  },
  {
   "cell_type": "markdown",
   "id": "9c052990",
   "metadata": {},
   "source": [
    "### float"
   ]
  },
  {
   "cell_type": "code",
   "execution_count": 64,
   "id": "e0b6430d",
   "metadata": {},
   "outputs": [
    {
     "data": {
      "text/plain": [
       "0.3333333333333333"
      ]
     },
     "execution_count": 64,
     "metadata": {},
     "output_type": "execute_result"
    }
   ],
   "source": [
    "1 / 3"
   ]
  },
  {
   "cell_type": "code",
   "execution_count": 65,
   "id": "16718e98",
   "metadata": {},
   "outputs": [
    {
     "data": {
      "text/plain": [
       "False"
      ]
     },
     "execution_count": 65,
     "metadata": {},
     "output_type": "execute_result"
    }
   ],
   "source": [
    "0.1 + 0.1 + 0.1 == 0.3"
   ]
  },
  {
   "cell_type": "code",
   "execution_count": 66,
   "id": "e00098ad",
   "metadata": {},
   "outputs": [
    {
     "data": {
      "text/plain": [
       "False"
      ]
     },
     "execution_count": 66,
     "metadata": {},
     "output_type": "execute_result"
    }
   ],
   "source": [
    "1.0 == 1.000_000_000_000_001"
   ]
  },
  {
   "cell_type": "code",
   "execution_count": 67,
   "id": "cf45447d",
   "metadata": {},
   "outputs": [
    {
     "data": {
      "text/plain": [
       "True"
      ]
     },
     "execution_count": 67,
     "metadata": {},
     "output_type": "execute_result"
    }
   ],
   "source": [
    "1.0 == 1.000_000_000_000_000_001"
   ]
  },
  {
   "cell_type": "code",
   "execution_count": 68,
   "id": "dcdb37fe",
   "metadata": {},
   "outputs": [],
   "source": [
    "import decimal"
   ]
  },
  {
   "cell_type": "code",
   "execution_count": 69,
   "id": "af7e8bb4",
   "metadata": {},
   "outputs": [
    {
     "data": {
      "text/plain": [
       "Decimal('0.1')"
      ]
     },
     "execution_count": 69,
     "metadata": {},
     "output_type": "execute_result"
    }
   ],
   "source": [
    "decimal.Decimal(\"0.1\")"
   ]
  },
  {
   "cell_type": "code",
   "execution_count": 70,
   "id": "14360dc9",
   "metadata": {},
   "outputs": [
    {
     "data": {
      "text/plain": [
       "Decimal('0.1000000000000000055511151231257827021181583404541015625')"
      ]
     },
     "execution_count": 70,
     "metadata": {},
     "output_type": "execute_result"
    }
   ],
   "source": [
    "decimal.Decimal(0.1)"
   ]
  },
  {
   "cell_type": "code",
   "execution_count": 71,
   "id": "f5dca917",
   "metadata": {},
   "outputs": [
    {
     "data": {
      "text/plain": [
       "True"
      ]
     },
     "execution_count": 71,
     "metadata": {},
     "output_type": "execute_result"
    }
   ],
   "source": [
    "from decimal import Decimal\n",
    "Decimal(\"0.1\") + Decimal(\"0.1\")+ Decimal(\"0.1\") == Decimal(\"0.3\")"
   ]
  },
  {
   "cell_type": "code",
   "execution_count": 72,
   "id": "06afadb0",
   "metadata": {},
   "outputs": [
    {
     "data": {
      "text/plain": [
       "True"
      ]
     },
     "execution_count": 72,
     "metadata": {},
     "output_type": "execute_result"
    }
   ],
   "source": [
    "x = 0.1\n",
    "round(x+x+x, 16) == round(0.3, 16)"
   ]
  },
  {
   "cell_type": "code",
   "execution_count": 73,
   "id": "3569e143",
   "metadata": {},
   "outputs": [
    {
     "data": {
      "text/plain": [
       "10000000000.0"
      ]
     },
     "execution_count": 73,
     "metadata": {},
     "output_type": "execute_result"
    }
   ],
   "source": [
    "1e10"
   ]
  },
  {
   "cell_type": "code",
   "execution_count": 74,
   "id": "8b030c09",
   "metadata": {},
   "outputs": [
    {
     "data": {
      "text/plain": [
       "1e-10"
      ]
     },
     "execution_count": 74,
     "metadata": {},
     "output_type": "execute_result"
    }
   ],
   "source": [
    "1e-10"
   ]
  },
  {
   "cell_type": "code",
   "execution_count": 75,
   "id": "fbc89811",
   "metadata": {},
   "outputs": [
    {
     "data": {
      "text/plain": [
       "0.02"
      ]
     },
     "execution_count": 75,
     "metadata": {},
     "output_type": "execute_result"
    }
   ],
   "source": [
    "2e-2"
   ]
  },
  {
   "cell_type": "code",
   "execution_count": 76,
   "id": "21c5dad6",
   "metadata": {},
   "outputs": [
    {
     "data": {
      "text/plain": [
       "5e-324"
      ]
     },
     "execution_count": 76,
     "metadata": {},
     "output_type": "execute_result"
    }
   ],
   "source": [
    "5e-324"
   ]
  },
  {
   "cell_type": "code",
   "execution_count": 77,
   "id": "28026dfb",
   "metadata": {},
   "outputs": [
    {
     "data": {
      "text/plain": [
       "0.0"
      ]
     },
     "execution_count": 77,
     "metadata": {},
     "output_type": "execute_result"
    }
   ],
   "source": [
    "5e-325"
   ]
  },
  {
   "cell_type": "code",
   "execution_count": 78,
   "id": "7c21ed39",
   "metadata": {},
   "outputs": [
    {
     "data": {
      "text/plain": [
       "1.79e+308"
      ]
     },
     "execution_count": 78,
     "metadata": {},
     "output_type": "execute_result"
    }
   ],
   "source": [
    "1.79e+308"
   ]
  },
  {
   "cell_type": "code",
   "execution_count": 82,
   "id": "9a6fa6f9",
   "metadata": {},
   "outputs": [
    {
     "data": {
      "text/plain": [
       "inf"
      ]
     },
     "execution_count": 82,
     "metadata": {},
     "output_type": "execute_result"
    }
   ],
   "source": [
    "1.8e+308"
   ]
  },
  {
   "cell_type": "markdown",
   "id": "29ea5943",
   "metadata": {},
   "source": [
    "## Bytes"
   ]
  },
  {
   "cell_type": "code",
   "execution_count": 84,
   "id": "d650e48e",
   "metadata": {},
   "outputs": [],
   "source": [
    "b = b'za\\xbf\\xf3\\xb3\\xe6 g\\xea\\xb6l\\xb1 ja\\xbc\\xf1'"
   ]
  },
  {
   "cell_type": "code",
   "execution_count": 87,
   "id": "031d96f2",
   "metadata": {},
   "outputs": [
    {
     "data": {
      "text/plain": [
       "'zażółć gęślą jaźń'"
      ]
     },
     "execution_count": 87,
     "metadata": {},
     "output_type": "execute_result"
    }
   ],
   "source": [
    "b.decode('iso-8859-2')"
   ]
  },
  {
   "cell_type": "markdown",
   "id": "16c5dc91",
   "metadata": {},
   "source": [
    "### Complex"
   ]
  },
  {
   "cell_type": "code",
   "execution_count": 88,
   "id": "9929c81f",
   "metadata": {},
   "outputs": [
    {
     "data": {
      "text/plain": [
       "(3+8j)"
      ]
     },
     "execution_count": 88,
     "metadata": {},
     "output_type": "execute_result"
    }
   ],
   "source": [
    "1 + 3j + 2 + 5j"
   ]
  },
  {
   "cell_type": "code",
   "execution_count": 89,
   "id": "53fab075",
   "metadata": {},
   "outputs": [
    {
     "data": {
      "text/plain": [
       "(-8+5j)"
      ]
     },
     "execution_count": 89,
     "metadata": {},
     "output_type": "execute_result"
    }
   ],
   "source": [
    "1 + 3j ** 2 + 5j"
   ]
  },
  {
   "cell_type": "markdown",
   "id": "80ecce8e",
   "metadata": {},
   "source": [
    "### wyrazenie\n",
    "\n",
    "if <warunek>:\n",
    "    <blok 1>\n",
    "elif <warunek 2>:\n",
    "    <blok 2>\n",
    "...\n",
    "else:\n",
    "    <blok n+1>\n",
    "        \n",
    "        "
   ]
  },
  {
   "cell_type": "code",
   "execution_count": 90,
   "id": "54df7e7a",
   "metadata": {},
   "outputs": [
    {
     "data": {
      "text/plain": [
       "(False, True)"
      ]
     },
     "execution_count": 90,
     "metadata": {},
     "output_type": "execute_result"
    }
   ],
   "source": [
    "any ([]), all([])"
   ]
  },
  {
   "cell_type": "code",
   "execution_count": 91,
   "id": "01c243a5",
   "metadata": {},
   "outputs": [
    {
     "data": {
      "text/plain": [
       "True"
      ]
     },
     "execution_count": 91,
     "metadata": {},
     "output_type": "execute_result"
    }
   ],
   "source": [
    "any([True, False, False])"
   ]
  },
  {
   "cell_type": "code",
   "execution_count": 92,
   "id": "9486f659",
   "metadata": {},
   "outputs": [
    {
     "data": {
      "text/plain": [
       "False"
      ]
     },
     "execution_count": 92,
     "metadata": {},
     "output_type": "execute_result"
    }
   ],
   "source": [
    "all([True, False, False])"
   ]
  },
  {
   "cell_type": "markdown",
   "id": "b2cab16f",
   "metadata": {},
   "source": [
    "## Wbudowane kolekcje\n",
    "tuple()"
   ]
  },
  {
   "cell_type": "code",
   "execution_count": 93,
   "id": "549a757b",
   "metadata": {},
   "outputs": [
    {
     "data": {
      "text/plain": [
       "(1,)"
      ]
     },
     "execution_count": 93,
     "metadata": {},
     "output_type": "execute_result"
    }
   ],
   "source": [
    "(1,)"
   ]
  },
  {
   "cell_type": "code",
   "execution_count": 94,
   "id": "aff4f97b",
   "metadata": {},
   "outputs": [],
   "source": [
    "x = (1,2,3)"
   ]
  },
  {
   "cell_type": "code",
   "execution_count": 95,
   "id": "b1b55993",
   "metadata": {},
   "outputs": [
    {
     "data": {
      "text/plain": [
       "1"
      ]
     },
     "execution_count": 95,
     "metadata": {},
     "output_type": "execute_result"
    }
   ],
   "source": [
    "x[0]"
   ]
  },
  {
   "cell_type": "code",
   "execution_count": 96,
   "id": "968c428b",
   "metadata": {},
   "outputs": [],
   "source": [
    "x = (10, ) + x[1:]"
   ]
  },
  {
   "cell_type": "code",
   "execution_count": 97,
   "id": "2a40b3d5",
   "metadata": {},
   "outputs": [
    {
     "data": {
      "text/plain": [
       "(10, 2, 3)"
      ]
     },
     "execution_count": 97,
     "metadata": {},
     "output_type": "execute_result"
    }
   ],
   "source": [
    "x"
   ]
  },
  {
   "cell_type": "code",
   "execution_count": 98,
   "id": "50bbf9cf",
   "metadata": {},
   "outputs": [
    {
     "ename": "TypeError",
     "evalue": "'builtin_function_or_method' object is not subscriptable",
     "output_type": "error",
     "traceback": [
      "\u001b[1;31m---------------------------------------------------------------------------\u001b[0m",
      "\u001b[1;31mTypeError\u001b[0m                                 Traceback (most recent call last)",
      "Input \u001b[1;32mIn [98]\u001b[0m, in \u001b[0;36m<cell line: 2>\u001b[1;34m()\u001b[0m\n\u001b[0;32m      1\u001b[0m x \u001b[38;5;241m=\u001b[39m [\u001b[38;5;241m1\u001b[39m]\n\u001b[1;32m----> 2\u001b[0m \u001b[43mx\u001b[49m\u001b[38;5;241;43m.\u001b[39;49m\u001b[43mappend\u001b[49m\u001b[43m[\u001b[49m\u001b[43mx\u001b[49m\u001b[43m]\u001b[49m\n",
      "\u001b[1;31mTypeError\u001b[0m: 'builtin_function_or_method' object is not subscriptable"
     ]
    }
   ],
   "source": [
    "x = [1]\n",
    "x.append[x]"
   ]
  },
  {
   "cell_type": "markdown",
   "id": "be4f4f83",
   "metadata": {},
   "source": [
    "### napis - str"
   ]
  },
  {
   "cell_type": "code",
   "execution_count": 99,
   "id": "26c976bf",
   "metadata": {},
   "outputs": [
    {
     "data": {
      "text/plain": [
       "'a'"
      ]
     },
     "execution_count": 99,
     "metadata": {},
     "output_type": "execute_result"
    }
   ],
   "source": [
    "napis = \"ala ma kota\"\n",
    "napis[0]"
   ]
  },
  {
   "cell_type": "code",
   "execution_count": 100,
   "id": "ddc0d430",
   "metadata": {},
   "outputs": [
    {
     "data": {
      "text/plain": [
       "11"
      ]
     },
     "execution_count": 100,
     "metadata": {},
     "output_type": "execute_result"
    }
   ],
   "source": [
    "len(napis)"
   ]
  },
  {
   "cell_type": "code",
   "execution_count": 138,
   "id": "574ed750",
   "metadata": {},
   "outputs": [
    {
     "name": "stdout",
     "output_type": "stream",
     "text": [
      "True\n"
     ]
    }
   ],
   "source": [
    "#### palindrom\n",
    "x = \"Kobyła ma mały bok!\"\n",
    "x = x.lower()\n",
    "x = ''.join(e for e in x if e.isalnum())\n",
    "\n",
    "def is_palindrom(text: str) -> bool:\n",
    "    l = len(text)\n",
    "    c = True\n",
    "    for i in range(l):\n",
    "        if text[i] != text[l-1-i]:\n",
    "            c = False\n",
    "    return c\n",
    "\n",
    "a = is_palindrom(\"nasan\")\n",
    "print(a)\n",
    "\n",
    "assert is_palindrom(x) is True\n",
    "assert is_palindrom(\"dom\") is False\n",
    "    "
   ]
  },
  {
   "cell_type": "markdown",
   "id": "a3fefa83",
   "metadata": {},
   "source": [
    "## słownik - dict"
   ]
  },
  {
   "cell_type": "code",
   "execution_count": 140,
   "id": "9c0cf0f6",
   "metadata": {},
   "outputs": [
    {
     "data": {
      "text/plain": [
       "{}"
      ]
     },
     "execution_count": 140,
     "metadata": {},
     "output_type": "execute_result"
    }
   ],
   "source": [
    "dict()"
   ]
  },
  {
   "cell_type": "code",
   "execution_count": 141,
   "id": "7033fa42",
   "metadata": {},
   "outputs": [
    {
     "data": {
      "text/plain": [
       "{}"
      ]
     },
     "execution_count": 141,
     "metadata": {},
     "output_type": "execute_result"
    }
   ],
   "source": [
    "{}"
   ]
  },
  {
   "cell_type": "code",
   "execution_count": 142,
   "id": "63941663",
   "metadata": {},
   "outputs": [],
   "source": [
    "x = {'x': 1, \"y\": 2}"
   ]
  },
  {
   "cell_type": "code",
   "execution_count": 143,
   "id": "be9ae951",
   "metadata": {},
   "outputs": [
    {
     "data": {
      "text/plain": [
       "{'x': 1, 'y': 2}"
      ]
     },
     "execution_count": 143,
     "metadata": {},
     "output_type": "execute_result"
    }
   ],
   "source": [
    "x"
   ]
  },
  {
   "cell_type": "code",
   "execution_count": 144,
   "id": "014adb6b",
   "metadata": {},
   "outputs": [],
   "source": [
    "x = dict(x=1, y=2)"
   ]
  },
  {
   "cell_type": "code",
   "execution_count": 145,
   "id": "8b97169f",
   "metadata": {},
   "outputs": [
    {
     "data": {
      "text/plain": [
       "{'x': 1, 'y': 2}"
      ]
     },
     "execution_count": 145,
     "metadata": {},
     "output_type": "execute_result"
    }
   ],
   "source": [
    "x"
   ]
  },
  {
   "cell_type": "code",
   "execution_count": 146,
   "id": "d064ceb6",
   "metadata": {},
   "outputs": [
    {
     "data": {
      "text/plain": [
       "dict_items([('x', 1), ('y', 2)])"
      ]
     },
     "execution_count": 146,
     "metadata": {},
     "output_type": "execute_result"
    }
   ],
   "source": [
    "x.items()"
   ]
  },
  {
   "cell_type": "code",
   "execution_count": 149,
   "id": "e8a128c0",
   "metadata": {},
   "outputs": [
    {
     "name": "stdout",
     "output_type": "stream",
     "text": [
      "x -> 1\n",
      "y -> 2\n"
     ]
    }
   ],
   "source": [
    "for k,v in x.items():\n",
    "    print(k, \"->\", v)"
   ]
  },
  {
   "cell_type": "code",
   "execution_count": 150,
   "id": "8a5ed765",
   "metadata": {},
   "outputs": [],
   "source": [
    "x.fromkeys?"
   ]
  },
  {
   "cell_type": "code",
   "execution_count": 152,
   "id": "a815a901",
   "metadata": {},
   "outputs": [],
   "source": [
    "x = ['a','b','c']\n",
    "     \n",
    "xx = dict.fromkeys(x, 10)"
   ]
  },
  {
   "cell_type": "code",
   "execution_count": 153,
   "id": "4d607f0f",
   "metadata": {},
   "outputs": [
    {
     "data": {
      "text/plain": [
       "{'a': 10, 'b': 10, 'c': 10}"
      ]
     },
     "execution_count": 153,
     "metadata": {},
     "output_type": "execute_result"
    }
   ],
   "source": [
    "xx"
   ]
  },
  {
   "cell_type": "markdown",
   "id": "92759007",
   "metadata": {},
   "source": [
    "## set"
   ]
  },
  {
   "cell_type": "code",
   "execution_count": 154,
   "id": "3282c822",
   "metadata": {},
   "outputs": [
    {
     "data": {
      "text/plain": [
       "{'a', 'b'}"
      ]
     },
     "execution_count": 154,
     "metadata": {},
     "output_type": "execute_result"
    }
   ],
   "source": [
    "s ={\"a\",\"b\",\"a\"}\n",
    "s"
   ]
  },
  {
   "cell_type": "code",
   "execution_count": 155,
   "id": "6d301133",
   "metadata": {},
   "outputs": [
    {
     "data": {
      "text/plain": [
       "{2, 3}"
      ]
     },
     "execution_count": 155,
     "metadata": {},
     "output_type": "execute_result"
    }
   ],
   "source": [
    "s1 = {1,2,3}\n",
    "s2 = {2,3,4}\n",
    "s1 & s2"
   ]
  },
  {
   "cell_type": "code",
   "execution_count": 156,
   "id": "22b74e71",
   "metadata": {},
   "outputs": [
    {
     "data": {
      "text/plain": [
       "False"
      ]
     },
     "execution_count": 156,
     "metadata": {},
     "output_type": "execute_result"
    }
   ],
   "source": [
    "s1.issubset({2,3})"
   ]
  },
  {
   "cell_type": "code",
   "execution_count": 157,
   "id": "276e505e",
   "metadata": {},
   "outputs": [
    {
     "data": {
      "text/plain": [
       "True"
      ]
     },
     "execution_count": 157,
     "metadata": {},
     "output_type": "execute_result"
    }
   ],
   "source": [
    "{2,3}.issubset(s1)"
   ]
  },
  {
   "cell_type": "code",
   "execution_count": 159,
   "id": "48432de8",
   "metadata": {},
   "outputs": [
    {
     "data": {
      "text/plain": [
       "{1, 4}"
      ]
     },
     "execution_count": 159,
     "metadata": {},
     "output_type": "execute_result"
    }
   ],
   "source": [
    "s1 ^ s2"
   ]
  },
  {
   "cell_type": "code",
   "execution_count": 160,
   "id": "4953b9f7",
   "metadata": {},
   "outputs": [
    {
     "data": {
      "text/plain": [
       "frozenset({2, 3, 4})"
      ]
     },
     "execution_count": 160,
     "metadata": {},
     "output_type": "execute_result"
    }
   ],
   "source": [
    "frozenset(s2)"
   ]
  },
  {
   "cell_type": "markdown",
   "id": "fcd4c972",
   "metadata": {},
   "source": [
    "### idiomy pythonowe - wyrazenia\n",
    "\n",
    "listowe, generatorowe, słownikowe"
   ]
  },
  {
   "cell_type": "code",
   "execution_count": 161,
   "id": "c1c0e71b",
   "metadata": {},
   "outputs": [
    {
     "data": {
      "text/plain": [
       "[0, 5, 10, 15, 20, 25, 30, 35, 40, 45, 50, 55, 60, 65, 70, 75, 80, 85, 90, 95]"
      ]
     },
     "execution_count": 161,
     "metadata": {},
     "output_type": "execute_result"
    }
   ],
   "source": [
    "[x for x in range(100) if x % 5 ==0]"
   ]
  },
  {
   "cell_type": "code",
   "execution_count": 163,
   "id": "ae37a3e1",
   "metadata": {},
   "outputs": [
    {
     "data": {
      "text/plain": [
       "{0: 0,\n",
       " 5: 25,\n",
       " 10: 100,\n",
       " 15: 225,\n",
       " 20: 400,\n",
       " 25: 625,\n",
       " 30: 900,\n",
       " 35: 1225,\n",
       " 40: 1600,\n",
       " 45: 2025,\n",
       " 50: 2500,\n",
       " 55: 3025,\n",
       " 60: 3600,\n",
       " 65: 4225,\n",
       " 70: 4900,\n",
       " 75: 5625,\n",
       " 80: 6400,\n",
       " 85: 7225,\n",
       " 90: 8100,\n",
       " 95: 9025}"
      ]
     },
     "execution_count": 163,
     "metadata": {},
     "output_type": "execute_result"
    }
   ],
   "source": [
    "{x: x**2 for x in range(100) if x % 5 ==0}"
   ]
  },
  {
   "cell_type": "markdown",
   "id": "f3b5874b",
   "metadata": {},
   "source": [
    "### przy pomocy wyrazenia listowego utworz liste list, reprezentujaca tabliczke mnozenia 1-10"
   ]
  },
  {
   "cell_type": "code",
   "execution_count": 165,
   "id": "f283fafb",
   "metadata": {},
   "outputs": [
    {
     "data": {
      "text/plain": [
       "[[1, 2, 3, 4, 5, 6, 7, 8, 9, 10],\n",
       " [2, 4, 6, 8, 10, 12, 14, 16, 18, 20],\n",
       " [3, 6, 9, 12, 15, 18, 21, 24, 27, 30],\n",
       " [4, 8, 12, 16, 20, 24, 28, 32, 36, 40],\n",
       " [5, 10, 15, 20, 25, 30, 35, 40, 45, 50],\n",
       " [6, 12, 18, 24, 30, 36, 42, 48, 54, 60],\n",
       " [7, 14, 21, 28, 35, 42, 49, 56, 63, 70],\n",
       " [8, 16, 24, 32, 40, 48, 56, 64, 72, 80],\n",
       " [9, 18, 27, 36, 45, 54, 63, 72, 81, 90],\n",
       " [10, 20, 30, 40, 50, 60, 70, 80, 90, 100]]"
      ]
     },
     "execution_count": 165,
     "metadata": {},
     "output_type": "execute_result"
    }
   ],
   "source": [
    "[[x * y for x in range(1,11)] for y in range (1,11)]"
   ]
  },
  {
   "cell_type": "markdown",
   "id": "73debbf5",
   "metadata": {},
   "source": [
    "## petle\n",
    "\n",
    "#### while"
   ]
  },
  {
   "cell_type": "markdown",
   "id": "5acf12ad",
   "metadata": {},
   "source": [
    "#### for "
   ]
  },
  {
   "cell_type": "code",
   "execution_count": 166,
   "id": "67fcd1f4",
   "metadata": {},
   "outputs": [],
   "source": [
    "one = [1, 2, 3]\n",
    "two = [4, 5, 6]"
   ]
  },
  {
   "cell_type": "code",
   "execution_count": 167,
   "id": "17892d3e",
   "metadata": {},
   "outputs": [
    {
     "name": "stdout",
     "output_type": "stream",
     "text": [
      "5\n",
      "7\n",
      "9\n"
     ]
    }
   ],
   "source": [
    "for i, v in enumerate(one):\n",
    "    print (v+ two[i])"
   ]
  },
  {
   "cell_type": "code",
   "execution_count": 168,
   "id": "6b347b01",
   "metadata": {},
   "outputs": [
    {
     "name": "stdout",
     "output_type": "stream",
     "text": [
      "5\n",
      "7\n",
      "9\n"
     ]
    }
   ],
   "source": [
    "for v1, v2 in zip (one, two):\n",
    "    print(v1+v2)"
   ]
  },
  {
   "cell_type": "markdown",
   "id": "3a611c35",
   "metadata": {},
   "source": [
    "## wyjątki"
   ]
  },
  {
   "cell_type": "code",
   "execution_count": 169,
   "id": "92b9c4d0",
   "metadata": {},
   "outputs": [],
   "source": [
    "try:\n",
    "    1/0\n",
    "except ZeroDivisionError:\n",
    "    print(\"Dzielenie przez zero\")\n",
    "except ValueError:\n",
    "    print(\"v\")"
   ]
  },
  {
   "cell_type": "code",
   "execution_count": 171,
   "id": "07ecf65b",
   "metadata": {},
   "outputs": [],
   "source": [
    "def is_palindrom(text: str) -> bool:\n",
    "    text = ''.join(filter(str.isalpha, text.lower()))\n",
    "    rev = reversed(text)\n",
    "    \n",
    "    return text == rev\n",
    "\n"
   ]
  },
  {
   "cell_type": "markdown",
   "id": "db347c23",
   "metadata": {},
   "source": [
    "## Funkcje\n",
    "\n"
   ]
  },
  {
   "cell_type": "code",
   "execution_count": 175,
   "id": "1feeb1b5",
   "metadata": {},
   "outputs": [
    {
     "data": {
      "text/plain": [
       "3.0"
      ]
     },
     "execution_count": 175,
     "metadata": {},
     "output_type": "execute_result"
    }
   ],
   "source": [
    "def add(a, b, return_float=False):\n",
    "    result = a + b\n",
    "    if return_float:\n",
    "        result = float(result)\n",
    "    return result\n",
    "\n",
    "add(1,2,'a')\n",
    "add(1,2,return_float=True)"
   ]
  },
  {
   "cell_type": "code",
   "execution_count": 176,
   "id": "59dbfdd5",
   "metadata": {},
   "outputs": [
    {
     "data": {
      "text/plain": [
       "3"
      ]
     },
     "execution_count": 176,
     "metadata": {},
     "output_type": "execute_result"
    }
   ],
   "source": [
    "from typing import List\n",
    "def add(a: int, b: int, *args: list[int]) -> int:\n",
    "    return a + b + sum(args)\n",
    "\n",
    "add(1,2)"
   ]
  },
  {
   "cell_type": "code",
   "execution_count": 177,
   "id": "2e2b7147",
   "metadata": {},
   "outputs": [
    {
     "data": {
      "text/plain": [
       "21"
      ]
     },
     "execution_count": 177,
     "metadata": {},
     "output_type": "execute_result"
    }
   ],
   "source": [
    "add(1,2,3,4,5,6)"
   ]
  },
  {
   "cell_type": "code",
   "execution_count": 178,
   "id": "b0a67e10",
   "metadata": {},
   "outputs": [],
   "source": [
    "a, b, *args = 1,2,3,4,5,6"
   ]
  },
  {
   "cell_type": "code",
   "execution_count": 179,
   "id": "4f5a56cc",
   "metadata": {},
   "outputs": [
    {
     "data": {
      "text/plain": [
       "[3, 4, 5, 6]"
      ]
     },
     "execution_count": 179,
     "metadata": {},
     "output_type": "execute_result"
    }
   ],
   "source": [
    "args"
   ]
  },
  {
   "cell_type": "code",
   "execution_count": 182,
   "id": "adb926d4",
   "metadata": {},
   "outputs": [
    {
     "name": "stdout",
     "output_type": "stream",
     "text": [
      "a -> 1\n"
     ]
    }
   ],
   "source": [
    "def f(**kwargs):\n",
    "    for k, v in kwargs.items():\n",
    "        print(k,\"->\", v)\n",
    "\n",
    "f()\n",
    "f(a=1)"
   ]
  },
  {
   "cell_type": "code",
   "execution_count": 183,
   "id": "50f4a69d",
   "metadata": {},
   "outputs": [
    {
     "name": "stdout",
     "output_type": "stream",
     "text": [
      "1 2 () 1 2 {}\n"
     ]
    }
   ],
   "source": [
    "def f(a,b, *args, c=1, d=2, **kwargs):\n",
    "    print(a, b, args, c, d, kwargs)\n",
    "\n",
    "f(1,2)"
   ]
  },
  {
   "cell_type": "code",
   "execution_count": 184,
   "id": "3e12f620",
   "metadata": {},
   "outputs": [
    {
     "name": "stdout",
     "output_type": "stream",
     "text": [
      "1 2 (3, 4, 5, 6) 1 2 {}\n"
     ]
    }
   ],
   "source": [
    "f(1,2,3,4,5,6)"
   ]
  },
  {
   "cell_type": "code",
   "execution_count": 185,
   "id": "49230c7d",
   "metadata": {},
   "outputs": [
    {
     "name": "stdout",
     "output_type": "stream",
     "text": [
      "3 4 (55,) 44 88 {'e': 1, 'f': 2}\n"
     ]
    }
   ],
   "source": [
    "f(3,4,55, c=44, d=88, e=1, f=2)"
   ]
  },
  {
   "cell_type": "markdown",
   "id": "358406dd",
   "metadata": {},
   "source": [
    "## pułapka domyslnej wartosci"
   ]
  },
  {
   "cell_type": "code",
   "execution_count": 188,
   "id": "fc57f459",
   "metadata": {},
   "outputs": [],
   "source": [
    "from typing import Any, List\n",
    "\n",
    "def add_element(a: Any, elements: Optional[List] = None) -> List:\n",
    "    if not elements:\n",
    "        elements = []\n",
    "    elements.append(a)\n",
    "    return elements\n"
   ]
  },
  {
   "cell_type": "code",
   "execution_count": 189,
   "id": "5c4be584",
   "metadata": {},
   "outputs": [],
   "source": [
    "x = add_element(1)"
   ]
  },
  {
   "cell_type": "code",
   "execution_count": 190,
   "id": "12811435",
   "metadata": {},
   "outputs": [
    {
     "data": {
      "text/plain": [
       "[1]"
      ]
     },
     "execution_count": 190,
     "metadata": {},
     "output_type": "execute_result"
    }
   ],
   "source": [
    "x"
   ]
  },
  {
   "cell_type": "code",
   "execution_count": 191,
   "id": "b9d00e7a",
   "metadata": {},
   "outputs": [
    {
     "data": {
      "text/plain": [
       "[1, 2]"
      ]
     },
     "execution_count": 191,
     "metadata": {},
     "output_type": "execute_result"
    }
   ],
   "source": [
    "add_element(2)"
   ]
  },
  {
   "cell_type": "code",
   "execution_count": 192,
   "id": "7307cc81",
   "metadata": {},
   "outputs": [
    {
     "data": {
      "text/plain": [
       "3"
      ]
     },
     "execution_count": 192,
     "metadata": {},
     "output_type": "execute_result"
    }
   ],
   "source": [
    "add = lambda x, y: x+y\n",
    "add(1,2)"
   ]
  },
  {
   "cell_type": "markdown",
   "id": "9ec8c8b0",
   "metadata": {},
   "source": [
    "## funkcja tez obiekt"
   ]
  },
  {
   "cell_type": "code",
   "execution_count": 193,
   "id": "6254d69d",
   "metadata": {},
   "outputs": [
    {
     "name": "stdout",
     "output_type": "stream",
     "text": [
      "sum 15\n",
      "max 5\n",
      "min 1\n"
     ]
    }
   ],
   "source": [
    "functions = [sum, max, min]\n",
    "collection = [1,2,3,4,5]\n",
    "\n",
    "for f in functions:\n",
    "    print(f.__name__, f(collection))"
   ]
  },
  {
   "cell_type": "markdown",
   "id": "5f979ffb",
   "metadata": {},
   "source": [
    "## rekurencja"
   ]
  },
  {
   "cell_type": "code",
   "execution_count": 196,
   "id": "3896601e",
   "metadata": {},
   "outputs": [
    {
     "name": "stdout",
     "output_type": "stream",
     "text": [
      "liczba 6\n",
      "liczba 5\n",
      "liczba 4\n",
      "liczba 3\n",
      "liczba 2\n",
      "liczba 1\n",
      "liczba 0\n"
     ]
    },
    {
     "data": {
      "text/plain": [
       "720"
      ]
     },
     "execution_count": 196,
     "metadata": {},
     "output_type": "execute_result"
    }
   ],
   "source": [
    "def silnia(liczba):\n",
    "    print(\"liczba\", liczba)\n",
    "    if liczba == 0:\n",
    "        return 1\n",
    "    return liczba * silnia(liczba-1)\n",
    "\n",
    "silnia(6)"
   ]
  },
  {
   "cell_type": "code",
   "execution_count": 195,
   "id": "7fbb978d",
   "metadata": {},
   "outputs": [
    {
     "data": {
      "text/plain": [
       "25852016738884976640000"
      ]
     },
     "execution_count": 195,
     "metadata": {},
     "output_type": "execute_result"
    }
   ],
   "source": [
    "silnia(23)"
   ]
  },
  {
   "cell_type": "markdown",
   "id": "39867738",
   "metadata": {},
   "source": [
    "## zadanie delay\n",
    "\n",
    "napisz f ktora wywowal f przekazaną jako argument - z przekazanymi argumentami (uniwersalne podejscie) z opoznieniem w milis. ktore jest ustawiane\n",
    "\n",
    "     delay(lambda x: x ** 0.5), 100, 16)\n",
    "     4.0"
   ]
  },
  {
   "cell_type": "code",
   "execution_count": 197,
   "id": "d8a6a6fb",
   "metadata": {},
   "outputs": [],
   "source": [
    "import time\n",
    "time.sleep(10)"
   ]
  },
  {
   "cell_type": "code",
   "execution_count": 203,
   "id": "19035de6",
   "metadata": {},
   "outputs": [],
   "source": [
    "def delay (f, t, x):\n",
    "    time.sleep(t/1000)\n",
    "    return f(x)"
   ]
  },
  {
   "cell_type": "code",
   "execution_count": 205,
   "id": "6234d74b",
   "metadata": {},
   "outputs": [
    {
     "name": "stdout",
     "output_type": "stream",
     "text": [
      "TEST\n"
     ]
    }
   ],
   "source": [
    "delay(print, 5000, \"TEST\")"
   ]
  },
  {
   "cell_type": "code",
   "execution_count": 206,
   "id": "5a8e1f6c",
   "metadata": {},
   "outputs": [
    {
     "data": {
      "text/plain": [
       "3"
      ]
     },
     "execution_count": 206,
     "metadata": {},
     "output_type": "execute_result"
    }
   ],
   "source": [
    "delay(max, 3000, [1,2,3])"
   ]
  },
  {
   "cell_type": "code",
   "execution_count": 207,
   "id": "66455e91",
   "metadata": {},
   "outputs": [
    {
     "name": "stdout",
     "output_type": "stream",
     "text": [
      "Ala ma kota-Asa\n"
     ]
    }
   ],
   "source": [
    "from time import sleep\n",
    "from typing import Callable\n",
    "def delay(func: Callable, ms: int, *args, **kwargs) -> Any:\n",
    "    sleep(ms/1000)\n",
    "    return func(*args, **kwargs)\n",
    "\n",
    "delay(print, 1500, \"Ala ma kota\", \"Asa\", sep=\"-\")"
   ]
  },
  {
   "cell_type": "markdown",
   "id": "8daf04fe",
   "metadata": {},
   "source": [
    "## zadanie total length\n",
    "\n",
    "a) funkcja total_length zwraca sume długości obiektów\n"
   ]
  },
  {
   "cell_type": "code",
   "execution_count": null,
   "id": "1b305ebe",
   "metadata": {},
   "outputs": [],
   "source": []
  },
  {
   "cell_type": "code",
   "execution_count": 223,
   "id": "c58002a8",
   "metadata": {},
   "outputs": [
    {
     "data": {
      "text/plain": [
       "8"
      ]
     },
     "execution_count": 223,
     "metadata": {},
     "output_type": "execute_result"
    }
   ],
   "source": [
    "def total_length(*iterables):\n",
    "    l = 0\n",
    "    for k in iterables:\n",
    "        try:\n",
    "            l += len(k)\n",
    "        except TypeError:\n",
    "            for el in k:\n",
    "                l += 1\n",
    "    return l\n",
    "    \n",
    "total_length([4,5,1,2], (n**2 for n in range(4)))"
   ]
  },
  {
   "cell_type": "code",
   "execution_count": 225,
   "id": "1acc5bbe",
   "metadata": {},
   "outputs": [
    {
     "data": {
      "text/plain": [
       "{'a': {'desc': 'argument a', 'type': int}, 'b': int, 'return': int}"
      ]
     },
     "execution_count": 225,
     "metadata": {},
     "output_type": "execute_result"
    }
   ],
   "source": [
    "def add(a: {'desc': 'argument a', 'type': int}, b: int) -> int:\n",
    "    return a + b\n",
    "\n",
    "add.__annotations__"
   ]
  },
  {
   "cell_type": "markdown",
   "id": "aab38c03",
   "metadata": {},
   "source": [
    "### licznik w funkcji\n",
    "\n",
    "zdefiniuj funkcje która będzie drukowała informacje o tym ile razy została wywołana"
   ]
  },
  {
   "cell_type": "code",
   "execution_count": 226,
   "id": "b11e227e",
   "metadata": {},
   "outputs": [
    {
     "name": "stdout",
     "output_type": "stream",
     "text": [
      "f() has been executed 1 time(s)\n"
     ]
    }
   ],
   "source": [
    "def f() -> 0:\n",
    "    f.__annotations__['return'] +=1\n",
    "    print(f\"f() has been executed {f.__annotations__['return']} time(s)\")\n",
    "    \n",
    "\n",
    "f.__annotations__\n",
    "\n",
    "f()"
   ]
  },
  {
   "cell_type": "code",
   "execution_count": 227,
   "id": "025b4b24",
   "metadata": {},
   "outputs": [
    {
     "name": "stdout",
     "output_type": "stream",
     "text": [
      "f() has been executed 2 time(s)\n"
     ]
    }
   ],
   "source": [
    "f()"
   ]
  },
  {
   "cell_type": "code",
   "execution_count": 228,
   "id": "4282a18c",
   "metadata": {},
   "outputs": [
    {
     "name": "stdout",
     "output_type": "stream",
     "text": [
      "f() has been executed 3 time(s)\n"
     ]
    }
   ],
   "source": [
    "f()"
   ]
  },
  {
   "cell_type": "markdown",
   "id": "e9272945",
   "metadata": {},
   "source": [
    "### spłaszczenie listy\n",
    "\n",
    "funkcja flatten która z zagnieżdzonych list robi jedną płaską\n",
    "      >>>> flatten([1,2,3, [4,5, [6]]], 7]\n",
    "      [1,2,3,4,5,6,7]\n"
   ]
  },
  {
   "cell_type": "code",
   "execution_count": 234,
   "id": "98ba4f45",
   "metadata": {},
   "outputs": [
    {
     "data": {
      "text/plain": [
       "[1, 2, 3, 4, 5, 6, 7]"
      ]
     },
     "execution_count": 234,
     "metadata": {},
     "output_type": "execute_result"
    }
   ],
   "source": [
    "def flatten(nested: list) -> list:\n",
    "    result = []\n",
    "    for el in nested:\n",
    "        if isinstance(el, list):\n",
    "            for e in flatten(el):\n",
    "                result.append(e)\n",
    "        else:\n",
    "            result.append(el)\n",
    "    return result\n",
    "            \n",
    "flatten([1,2,3,[4,5,[6]], 7])"
   ]
  },
  {
   "cell_type": "markdown",
   "id": "269e4071",
   "metadata": {},
   "source": [
    "## cut\n",
    "\n",
    "funkcja cut przyjmuje liste oraz 2 funkcje okreslajace kiedy zacząć i skonczyć wybieranie???????\n",
    "np:\n",
    "    >>>> cut([1,2,3,4,5,6,7,8]), start=lambda x: x>3, stop=lambda x: x ==7)\n",
    "    [4,5,6,7]\n",
    "    [1,1,1,1,3,3,3,3,2,2,2,2,3], start=lambda x: x % 2 == 0, stop=lambda x: x % 2 == 1\n",
    "    [2,2,2,2,3]"
   ]
  },
  {
   "cell_type": "code",
   "execution_count": null,
   "id": "a6ca2fd0",
   "metadata": {},
   "outputs": [],
   "source": [
    "assert cut([1,2,3,4,5,6,7,8], start=lambda x: x>3, stop=lambda x: x ==7) ==  [4,5,6,7]\n",
    "assert cut([1,1,1,1,3,3,3,3,2,2,2,2,3], start=lambda x: x % 2 == 0, stop=lambda x: x % 2 == 1) == [2,2,2,2,3]"
   ]
  },
  {
   "cell_type": "code",
   "execution_count": 241,
   "id": "8a925680",
   "metadata": {},
   "outputs": [
    {
     "data": {
      "text/plain": [
       "[2, 2, 2, 2, 3]"
      ]
     },
     "execution_count": 241,
     "metadata": {},
     "output_type": "execute_result"
    }
   ],
   "source": [
    "def cut(lista: list, *, start, stop):\n",
    "    result = []\n",
    "    czy_dodac = False\n",
    "    for i in lista:\n",
    "        if start(i):\n",
    "            czy_dodac = True\n",
    "        if czy_dodac:\n",
    "            result.append(i)\n",
    "        if czy_dodac and stop(i):\n",
    "            break\n",
    "    return result\n",
    "\n",
    "assert cut([1,2,3,4,5,6,7,8], start=lambda x: x>3, stop=lambda x: x ==7) ==  [4,5,6,7]\n",
    "assert cut([1,1,1,1,3,3,3,3,2,2,2,2,3], start=lambda x: x % 2 == 0, stop=lambda x: x % 2 == 1) == [2,2,2,2,3]\n",
    "\n",
    "cut([1,2,3,4,5,6,7,8], start=lambda x: x>3, stop=lambda x: x ==7)\n",
    "cut([1,1,1,1,3,3,3,3,2,2,2,2,3], start=lambda x: x % 2 == 0, stop=lambda x: x % 2 == 1)"
   ]
  },
  {
   "cell_type": "code",
   "execution_count": 242,
   "id": "0a2d2c47",
   "metadata": {},
   "outputs": [],
   "source": [
    "#wzór rozwiązania\n",
    "\n",
    "from typing import Callable\n",
    "\n",
    "def cut(data: list, *, start: Callable, stop: Callable):\n",
    "    result =[]\n",
    "    can_add=False\n",
    "    \n",
    "    for el in data:\n",
    "        if not can_add and start(el):\n",
    "            can_add = True\n",
    "        if can_add:\n",
    "            result.append(el)\n",
    "            if stop(el):\n",
    "                break\n",
    "    return result\n",
    "\n",
    "    \n",
    "\n",
    "\n",
    "assert cut([1,2,3,4,5,6,7,8], start=lambda x: x>3, stop=lambda x: x ==7) ==  [4,5,6,7]\n",
    "assert cut([1,1,1,1,3,3,3,3,2,2,2,2,3], start=lambda x: x % 2 == 0, stop=lambda x: x % 2 == 1) == [2,2,2,2,3]"
   ]
  },
  {
   "cell_type": "markdown",
   "id": "c46bf03d",
   "metadata": {},
   "source": [
    "### podstawy git"
   ]
  },
  {
   "cell_type": "code",
   "execution_count": null,
   "id": "675027a1",
   "metadata": {},
   "outputs": [],
   "source": []
  }
 ],
 "metadata": {
  "kernelspec": {
   "display_name": "Python 3 (ipykernel)",
   "language": "python",
   "name": "python3"
  },
  "language_info": {
   "codemirror_mode": {
    "name": "ipython",
    "version": 3
   },
   "file_extension": ".py",
   "mimetype": "text/x-python",
   "name": "python",
   "nbconvert_exporter": "python",
   "pygments_lexer": "ipython3",
   "version": "3.10.1"
  }
 },
 "nbformat": 4,
 "nbformat_minor": 5
}
