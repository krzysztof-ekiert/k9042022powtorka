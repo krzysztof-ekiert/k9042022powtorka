{
 "cells": [
  {
   "cell_type": "markdown",
   "id": "c83be4d4",
   "metadata": {},
   "source": [
    "a - 1\n",
    "\n",
    "# Przydatne polecenia jupytera\n",
    "\n",
    "\n",
    "* `shift + Enter` - wykonuje i przechodzi do kolejnej / tworzy\n",
    "\n",
    "* `alt + Enter` - wykonuje i dodaje nową\n",
    "\n",
    "* `ctrl + Enter` - wykonuje w miejscu\n",
    "\n",
    "* `ctrl + shift` + - dzieli komórkę\n",
    "\n",
    "## w trybie edycji \n",
    "\n",
    "po naciśnieciu esc\n",
    "\n",
    "* a - dodanie na górze\n",
    "* b - dodanie na dole\n",
    "* y - komórka kodu\n",
    "* m - komórka markdown"
   ]
  },
  {
   "cell_type": "markdown",
   "id": "ac87d569",
   "metadata": {},
   "source": [
    "# Python\n",
    "\n",
    "plusy\n",
    "- mały próg wejścia\n",
    "- wszechstronny\n",
    "- w pełni obiektowy\n",
    "- wysokopoziomowy\n",
    "- interpretowany\n",
    "- wieloplatformowość\n",
    "- popularny\n",
    "- bogata społeczność\n",
    "- bogaty zbiór bibliotek\n",
    "\n",
    "cechy:\n",
    "- typowanie dynamiczne i silne\n",
    "\n",
    "minusy\n",
    "- wolny\n",
    "\n",
    "## interpreter\n",
    "- interaktywny\n",
    "- wykonywanie skryptów"
   ]
  },
  {
   "cell_type": "code",
   "execution_count": null,
   "id": "e18c4432",
   "metadata": {},
   "outputs": [],
   "source": [
    "help()"
   ]
  },
  {
   "cell_type": "code",
   "execution_count": null,
   "id": "cf146a74",
   "metadata": {},
   "outputs": [],
   "source": [
    "print??"
   ]
  },
  {
   "cell_type": "code",
   "execution_count": null,
   "id": "1a0744fe",
   "metadata": {},
   "outputs": [],
   "source": [
    "0b11 # 2 ** 1 + 2 ** 0"
   ]
  },
  {
   "cell_type": "code",
   "execution_count": null,
   "id": "35a9000a",
   "metadata": {},
   "outputs": [],
   "source": [
    "'0b(:04b)'.format(0b1100 & 0b1010)"
   ]
  },
  {
   "cell_type": "code",
   "execution_count": null,
   "id": "1732a7b2",
   "metadata": {},
   "outputs": [],
   "source": [
    "0o11"
   ]
  },
  {
   "cell_type": "code",
   "execution_count": null,
   "id": "23685926",
   "metadata": {},
   "outputs": [],
   "source": [
    "0xff"
   ]
  },
  {
   "cell_type": "markdown",
   "id": "7ed1f3a4",
   "metadata": {},
   "source": [
    "### operator := (walrus operator)\n"
   ]
  },
  {
   "cell_type": "code",
   "execution_count": null,
   "id": "0ccee813",
   "metadata": {},
   "outputs": [],
   "source": [
    "a = [1,2 , 3, 4]\n",
    "if (n:= len(a)) > 3: print(n)"
   ]
  },
  {
   "cell_type": "code",
   "execution_count": null,
   "id": "de2c269f",
   "metadata": {},
   "outputs": [],
   "source": [
    "(2 * 3) ** 2\n"
   ]
  },
  {
   "cell_type": "code",
   "execution_count": null,
   "id": "ea908162",
   "metadata": {},
   "outputs": [],
   "source": [
    "1 + int(1)"
   ]
  },
  {
   "cell_type": "code",
   "execution_count": null,
   "id": "607731a8",
   "metadata": {},
   "outputs": [],
   "source": [
    "str(1) + \"1\""
   ]
  },
  {
   "cell_type": "markdown",
   "id": "69d6db9f",
   "metadata": {},
   "source": [
    " ## Annotacje"
   ]
  },
  {
   "cell_type": "code",
   "execution_count": null,
   "id": "e4e38880",
   "metadata": {},
   "outputs": [],
   "source": [
    "def sum_int(a: int, b: int) -> int:\n",
    "    return a + b"
   ]
  },
  {
   "cell_type": "code",
   "execution_count": null,
   "id": "3754a433",
   "metadata": {},
   "outputs": [],
   "source": [
    "__annotations__"
   ]
  },
  {
   "cell_type": "code",
   "execution_count": null,
   "id": "7aab936a",
   "metadata": {},
   "outputs": [],
   "source": [
    "sum_int.__annotations__"
   ]
  },
  {
   "cell_type": "code",
   "execution_count": null,
   "id": "04bc6134",
   "metadata": {},
   "outputs": [],
   "source": [
    "__doc__"
   ]
  },
  {
   "cell_type": "code",
   "execution_count": null,
   "id": "175ac3f1",
   "metadata": {},
   "outputs": [],
   "source": [
    "def sum_int(a: int, b: int) -> int:\n",
    "    \"\"\"Adding two ints\"\"\"\n",
    "    return a + b"
   ]
  },
  {
   "cell_type": "code",
   "execution_count": null,
   "id": "96a5f385",
   "metadata": {},
   "outputs": [],
   "source": [
    "help(sum_int)"
   ]
  },
  {
   "cell_type": "code",
   "execution_count": null,
   "id": "12a296fa",
   "metadata": {},
   "outputs": [],
   "source": [
    "help(dir)"
   ]
  },
  {
   "cell_type": "code",
   "execution_count": null,
   "id": "3ef39e75",
   "metadata": {},
   "outputs": [],
   "source": [
    "dir()"
   ]
  },
  {
   "cell_type": "code",
   "execution_count": null,
   "id": "bb327791",
   "metadata": {},
   "outputs": [],
   "source": [
    "\"\".zfill(10)"
   ]
  },
  {
   "cell_type": "code",
   "execution_count": null,
   "id": "39360c79",
   "metadata": {},
   "outputs": [],
   "source": [
    "def incr_by_10(a: int) -> int:\n",
    "    step: int = 10\n",
    "    print(\"Names in localscope: \", dir())\n",
    "    return a + step\n",
    "\n",
    "incr_by_10(3)"
   ]
  },
  {
   "cell_type": "raw",
   "id": "6a27fac5",
   "metadata": {},
   "source": [
    "incr_by_10.__annotations__"
   ]
  },
  {
   "cell_type": "code",
   "execution_count": null,
   "id": "4e694b52",
   "metadata": {},
   "outputs": [],
   "source": [
    "a: int = 1"
   ]
  },
  {
   "cell_type": "code",
   "execution_count": null,
   "id": "105b6308",
   "metadata": {},
   "outputs": [],
   "source": [
    "incr_by_10.__annotations__"
   ]
  },
  {
   "cell_type": "code",
   "execution_count": null,
   "id": "b56c76a3",
   "metadata": {},
   "outputs": [],
   "source": [
    "incr_by_10.__dict__"
   ]
  },
  {
   "cell_type": "markdown",
   "id": "cdd2f09e",
   "metadata": {},
   "source": [
    "## Moduły i paczki\n",
    "\n",
    "moduły i paczki wprowadzają modularyzację projektów\n",
    "\n",
    "simplicity - prostota\n",
    "maintainability - łatwość utrzymania\n",
    "reusability - ponowne wykorzystanie\n",
    "scoping - zakres"
   ]
  },
  {
   "cell_type": "code",
   "execution_count": null,
   "id": "0bd28f17",
   "metadata": {},
   "outputs": [],
   "source": [
    "import this"
   ]
  },
  {
   "cell_type": "code",
   "execution_count": null,
   "id": "3641d36e",
   "metadata": {},
   "outputs": [],
   "source": [
    "import __hello__"
   ]
  },
  {
   "cell_type": "markdown",
   "id": "d8669b53",
   "metadata": {},
   "source": [
    "- modul to plik pythonowy\n",
    "- moze byc tez w C"
   ]
  },
  {
   "cell_type": "code",
   "execution_count": null,
   "id": "b88112c5",
   "metadata": {},
   "outputs": [],
   "source": [
    "%%writefile mod.py\n",
    "\n",
    "s: str = \"Yes we can\"\n",
    "a: list = [100, 200, 300]\n",
    "    \n",
    "def foo(arg):\n",
    "    print(f\"arg = {arg}\")\n",
    "\n",
    "class Foo: pass\n",
    "          "
   ]
  },
  {
   "cell_type": "code",
   "execution_count": null,
   "id": "df04b308",
   "metadata": {},
   "outputs": [],
   "source": [
    "import mod"
   ]
  },
  {
   "cell_type": "code",
   "execution_count": null,
   "id": "236fc8cc",
   "metadata": {},
   "outputs": [],
   "source": [
    "dir(mod)"
   ]
  },
  {
   "cell_type": "code",
   "execution_count": null,
   "id": "c2b94b10",
   "metadata": {},
   "outputs": [],
   "source": [
    "%%writefile mod.py\n",
    "\n",
    "s: str = \"Yes we can\"\n",
    "a: list = [100, 200, 300]\n",
    "    \n",
    "def foo(arg):\n",
    "    print(f\"arg = {arg}\")\n",
    "\n",
    "class Foo: pass\n",
    "\n",
    "foo(\"aaa\")"
   ]
  },
  {
   "cell_type": "code",
   "execution_count": null,
   "id": "0d070f52",
   "metadata": {},
   "outputs": [],
   "source": [
    "import mod"
   ]
  },
  {
   "cell_type": "code",
   "execution_count": null,
   "id": "b3737be2",
   "metadata": {},
   "outputs": [],
   "source": [
    "import importlib\n",
    "importlib.reload(mod)"
   ]
  },
  {
   "cell_type": "code",
   "execution_count": null,
   "id": "6f1aeb50",
   "metadata": {},
   "outputs": [],
   "source": [
    "!python mod.py"
   ]
  },
  {
   "cell_type": "code",
   "execution_count": null,
   "id": "0b2ef132",
   "metadata": {},
   "outputs": [],
   "source": [
    "%%writefile mod.py\n",
    "\n",
    "s: str = \"Yes we can\"\n",
    "a: list = [100, 200, 300]\n",
    "    \n",
    "def foo(arg):\n",
    "    print(f\"arg = {arg}\")\n",
    "\n",
    "class Foo: pass\n",
    "\n",
    "if __name__ == \"__main__\":\n",
    "    foo(\"aaa\")"
   ]
  },
  {
   "cell_type": "code",
   "execution_count": null,
   "id": "ac3d817a",
   "metadata": {},
   "outputs": [],
   "source": [
    "importlib.reload(mod)"
   ]
  },
  {
   "cell_type": "markdown",
   "id": "f7fe71c6",
   "metadata": {},
   "source": [
    "### Skąd robione są importy"
   ]
  },
  {
   "cell_type": "code",
   "execution_count": null,
   "id": "8095d7fb",
   "metadata": {},
   "outputs": [],
   "source": [
    "import sys\n",
    "sys.path"
   ]
  },
  {
   "cell_type": "code",
   "execution_count": null,
   "id": "46445a48",
   "metadata": {},
   "outputs": [],
   "source": [
    "# import mod\n",
    "mod = __import__(\"mod\")"
   ]
  },
  {
   "cell_type": "code",
   "execution_count": null,
   "id": "03fdeb01",
   "metadata": {},
   "outputs": [],
   "source": [
    "mod.foo"
   ]
  },
  {
   "cell_type": "code",
   "execution_count": null,
   "id": "a17ddb63",
   "metadata": {},
   "outputs": [],
   "source": [
    "random = __import__(\"RANDOM\".lower())\n",
    "random.randint(1,10)"
   ]
  },
  {
   "cell_type": "code",
   "execution_count": null,
   "id": "30e3cbe0",
   "metadata": {},
   "outputs": [],
   "source": [
    "from mod import foo"
   ]
  },
  {
   "cell_type": "code",
   "execution_count": null,
   "id": "609cd9ba",
   "metadata": {},
   "outputs": [],
   "source": [
    "foo(\"xx\")"
   ]
  },
  {
   "cell_type": "code",
   "execution_count": null,
   "id": "faeb8d98",
   "metadata": {},
   "outputs": [],
   "source": [
    "from mod import foo as f\n",
    "f(\"x\")"
   ]
  },
  {
   "cell_type": "code",
   "execution_count": 1,
   "id": "95be9259",
   "metadata": {},
   "outputs": [
    {
     "data": {
      "text/plain": [
       "['C:\\\\Users\\\\krzys\\\\workspace\\\\kurs_powtorkowy',\n",
       " 'C:\\\\Users\\\\krzys\\\\AppData\\\\Local\\\\Programs\\\\Python\\\\Python310\\\\python310.zip',\n",
       " 'C:\\\\Users\\\\krzys\\\\AppData\\\\Local\\\\Programs\\\\Python\\\\Python310\\\\DLLs',\n",
       " 'C:\\\\Users\\\\krzys\\\\AppData\\\\Local\\\\Programs\\\\Python\\\\Python310\\\\lib',\n",
       " 'C:\\\\Users\\\\krzys\\\\AppData\\\\Local\\\\Programs\\\\Python\\\\Python310',\n",
       " '',\n",
       " 'C:\\\\Users\\\\krzys\\\\AppData\\\\Local\\\\Programs\\\\Python\\\\Python310\\\\lib\\\\site-packages',\n",
       " 'C:\\\\Users\\\\krzys\\\\AppData\\\\Local\\\\Programs\\\\Python\\\\Python310\\\\lib\\\\site-packages\\\\win32',\n",
       " 'C:\\\\Users\\\\krzys\\\\AppData\\\\Local\\\\Programs\\\\Python\\\\Python310\\\\lib\\\\site-packages\\\\win32\\\\lib',\n",
       " 'C:\\\\Users\\\\krzys\\\\AppData\\\\Local\\\\Programs\\\\Python\\\\Python310\\\\lib\\\\site-packages\\\\Pythonwin']"
      ]
     },
     "execution_count": 1,
     "metadata": {},
     "output_type": "execute_result"
    }
   ],
   "source": [
    "import sys\n",
    "sys.path"
   ]
  },
  {
   "cell_type": "markdown",
   "id": "e5cada0d",
   "metadata": {},
   "source": [
    "## package"
   ]
  },
  {
   "cell_type": "markdown",
   "id": "fb2a2984",
   "metadata": {},
   "source": [
    "paczka to folder zawierający moduły\n",
    "\n",
    "    pkg\n",
    "        mod1.py\n",
    "        mod2.py"
   ]
  },
  {
   "cell_type": "code",
   "execution_count": 3,
   "id": "9af7ce41",
   "metadata": {},
   "outputs": [],
   "source": [
    "!mkdir pkg"
   ]
  },
  {
   "cell_type": "code",
   "execution_count": 4,
   "id": "c4f1e528",
   "metadata": {},
   "outputs": [
    {
     "name": "stdout",
     "output_type": "stream",
     "text": [
      "Writing pkg/mod1.py\n"
     ]
    }
   ],
   "source": [
    "%%writefile pkg/mod1.py\n",
    "\n",
    "def foo():\n",
    "    print('[mod1] foo()')"
   ]
  },
  {
   "cell_type": "code",
   "execution_count": 5,
   "id": "6bb87e20",
   "metadata": {},
   "outputs": [
    {
     "name": "stdout",
     "output_type": "stream",
     "text": [
      "Writing pkg/mod2.py\n"
     ]
    }
   ],
   "source": [
    "%%writefile pkg/mod2.py\n",
    "\n",
    "def foo():\n",
    "    print('[mod2] foo()')"
   ]
  },
  {
   "cell_type": "code",
   "execution_count": 6,
   "id": "5d590b91",
   "metadata": {},
   "outputs": [],
   "source": [
    "import pkg"
   ]
  },
  {
   "cell_type": "code",
   "execution_count": 7,
   "id": "70199a54",
   "metadata": {},
   "outputs": [
    {
     "data": {
      "text/plain": [
       "['__doc__',\n",
       " '__file__',\n",
       " '__loader__',\n",
       " '__name__',\n",
       " '__package__',\n",
       " '__path__',\n",
       " '__spec__']"
      ]
     },
     "execution_count": 7,
     "metadata": {},
     "output_type": "execute_result"
    }
   ],
   "source": [
    "dir(pkg)"
   ]
  },
  {
   "cell_type": "code",
   "execution_count": 9,
   "id": "c0863d49",
   "metadata": {},
   "outputs": [
    {
     "name": "stdout",
     "output_type": "stream",
     "text": [
      "Writing pkg/__init__.py\n"
     ]
    }
   ],
   "source": [
    "%%writefile pkg/__init__.py\n",
    "\n",
    "print(\"Initialize pkg\")"
   ]
  },
  {
   "cell_type": "code",
   "execution_count": 10,
   "id": "ac90587e",
   "metadata": {},
   "outputs": [],
   "source": [
    "import importlib"
   ]
  },
  {
   "cell_type": "code",
   "execution_count": 11,
   "id": "15b956da",
   "metadata": {},
   "outputs": [
    {
     "name": "stdout",
     "output_type": "stream",
     "text": [
      "Initialize pkg\n"
     ]
    },
    {
     "data": {
      "text/plain": [
       "<module 'pkg' from 'C:\\\\Users\\\\krzys\\\\workspace\\\\kurs_powtorkowy\\\\pkg\\\\__init__.py'>"
      ]
     },
     "execution_count": 11,
     "metadata": {},
     "output_type": "execute_result"
    }
   ],
   "source": [
    "importlib.reload(pkg)"
   ]
  },
  {
   "cell_type": "code",
   "execution_count": 12,
   "id": "4d7db1ae",
   "metadata": {},
   "outputs": [
    {
     "ename": "AttributeError",
     "evalue": "module 'pkg' has no attribute 'mod1'",
     "output_type": "error",
     "traceback": [
      "\u001b[1;31m---------------------------------------------------------------------------\u001b[0m",
      "\u001b[1;31mAttributeError\u001b[0m                            Traceback (most recent call last)",
      "Input \u001b[1;32mIn [12]\u001b[0m, in \u001b[0;36m<cell line: 1>\u001b[1;34m()\u001b[0m\n\u001b[1;32m----> 1\u001b[0m \u001b[43mpkg\u001b[49m\u001b[38;5;241;43m.\u001b[39;49m\u001b[43mmod1\u001b[49m\u001b[38;5;241m.\u001b[39mfoo()\n",
      "\u001b[1;31mAttributeError\u001b[0m: module 'pkg' has no attribute 'mod1'"
     ]
    }
   ],
   "source": [
    "pkg.mod1.foo()"
   ]
  },
  {
   "cell_type": "code",
   "execution_count": 14,
   "id": "925b39cb",
   "metadata": {},
   "outputs": [
    {
     "ename": "NameError",
     "evalue": "name 'mod1' is not defined",
     "output_type": "error",
     "traceback": [
      "\u001b[1;31m---------------------------------------------------------------------------\u001b[0m",
      "\u001b[1;31mNameError\u001b[0m                                 Traceback (most recent call last)",
      "Input \u001b[1;32mIn [14]\u001b[0m, in \u001b[0;36m<cell line: 2>\u001b[1;34m()\u001b[0m\n\u001b[0;32m      1\u001b[0m pkg\n\u001b[1;32m----> 2\u001b[0m \u001b[43mmod1\u001b[49m\u001b[38;5;241m.\u001b[39mpy\n\u001b[0;32m      3\u001b[0m mod2\u001b[38;5;241m.\u001b[39mpy\n",
      "\u001b[1;31mNameError\u001b[0m: name 'mod1' is not defined"
     ]
    }
   ],
   "source": [
    "pkg\n",
    "mod1.py\n",
    "mod2.py"
   ]
  },
  {
   "cell_type": "code",
   "execution_count": 15,
   "id": "25c9ef7d",
   "metadata": {},
   "outputs": [],
   "source": [
    "from pkg import mod1"
   ]
  },
  {
   "cell_type": "markdown",
   "id": "0cb48741",
   "metadata": {},
   "source": [
    "## Przestrzenie nazw"
   ]
  },
  {
   "cell_type": "code",
   "execution_count": 20,
   "id": "03dda511",
   "metadata": {},
   "outputs": [],
   "source": [
    "# x = for\n",
    "x = print"
   ]
  },
  {
   "cell_type": "code",
   "execution_count": 21,
   "id": "919199a0",
   "metadata": {},
   "outputs": [
    {
     "name": "stdout",
     "output_type": "stream",
     "text": [
      "1\n"
     ]
    }
   ],
   "source": [
    "x(\"1\")"
   ]
  },
  {
   "cell_type": "code",
   "execution_count": 22,
   "id": "093fae34",
   "metadata": {},
   "outputs": [],
   "source": [
    "print = 1"
   ]
  },
  {
   "cell_type": "code",
   "execution_count": 24,
   "id": "fa06f348",
   "metadata": {},
   "outputs": [],
   "source": [
    "print = __builtin__.print"
   ]
  },
  {
   "cell_type": "code",
   "execution_count": 26,
   "id": "d9c25839",
   "metadata": {},
   "outputs": [
    {
     "name": "stdout",
     "output_type": "stream",
     "text": [
      "chuj\n"
     ]
    }
   ],
   "source": [
    "print(\"chuj\")"
   ]
  },
  {
   "cell_type": "code",
   "execution_count": 27,
   "id": "984efd54",
   "metadata": {},
   "outputs": [
    {
     "name": "stdout",
     "output_type": "stream",
     "text": [
      "<built-in function print>\n"
     ]
    }
   ],
   "source": [
    "print(print)"
   ]
  },
  {
   "cell_type": "code",
   "execution_count": null,
   "id": "72a34d9d",
   "metadata": {},
   "outputs": [],
   "source": []
  },
  {
   "cell_type": "markdown",
   "id": "620f771d",
   "metadata": {},
   "source": [
    "\n",
    "### przestrzen `__builtin__`\n"
   ]
  },
  {
   "cell_type": "code",
   "execution_count": 17,
   "id": "c9f0c2d2",
   "metadata": {},
   "outputs": [
    {
     "data": {
      "text/plain": [
       "['ArithmeticError',\n",
       " 'AssertionError',\n",
       " 'AttributeError',\n",
       " 'BaseException',\n",
       " 'BlockingIOError',\n",
       " 'BrokenPipeError',\n",
       " 'BufferError',\n",
       " 'BytesWarning',\n",
       " 'ChildProcessError',\n",
       " 'ConnectionAbortedError',\n",
       " 'ConnectionError',\n",
       " 'ConnectionRefusedError',\n",
       " 'ConnectionResetError',\n",
       " 'DeprecationWarning',\n",
       " 'EOFError',\n",
       " 'Ellipsis',\n",
       " 'EncodingWarning',\n",
       " 'EnvironmentError',\n",
       " 'Exception',\n",
       " 'False',\n",
       " 'FileExistsError',\n",
       " 'FileNotFoundError',\n",
       " 'FloatingPointError',\n",
       " 'FutureWarning',\n",
       " 'GeneratorExit',\n",
       " 'IOError',\n",
       " 'ImportError',\n",
       " 'ImportWarning',\n",
       " 'IndentationError',\n",
       " 'IndexError',\n",
       " 'InterruptedError',\n",
       " 'IsADirectoryError',\n",
       " 'KeyError',\n",
       " 'KeyboardInterrupt',\n",
       " 'LookupError',\n",
       " 'MemoryError',\n",
       " 'ModuleNotFoundError',\n",
       " 'NameError',\n",
       " 'None',\n",
       " 'NotADirectoryError',\n",
       " 'NotImplemented',\n",
       " 'NotImplementedError',\n",
       " 'OSError',\n",
       " 'OverflowError',\n",
       " 'PendingDeprecationWarning',\n",
       " 'PermissionError',\n",
       " 'ProcessLookupError',\n",
       " 'RecursionError',\n",
       " 'ReferenceError',\n",
       " 'ResourceWarning',\n",
       " 'RuntimeError',\n",
       " 'RuntimeWarning',\n",
       " 'StopAsyncIteration',\n",
       " 'StopIteration',\n",
       " 'SyntaxError',\n",
       " 'SyntaxWarning',\n",
       " 'SystemError',\n",
       " 'SystemExit',\n",
       " 'TabError',\n",
       " 'TimeoutError',\n",
       " 'True',\n",
       " 'TypeError',\n",
       " 'UnboundLocalError',\n",
       " 'UnicodeDecodeError',\n",
       " 'UnicodeEncodeError',\n",
       " 'UnicodeError',\n",
       " 'UnicodeTranslateError',\n",
       " 'UnicodeWarning',\n",
       " 'UserWarning',\n",
       " 'ValueError',\n",
       " 'Warning',\n",
       " 'WindowsError',\n",
       " 'ZeroDivisionError',\n",
       " '__IPYTHON__',\n",
       " '__build_class__',\n",
       " '__debug__',\n",
       " '__doc__',\n",
       " '__import__',\n",
       " '__loader__',\n",
       " '__name__',\n",
       " '__package__',\n",
       " '__spec__',\n",
       " 'abs',\n",
       " 'aiter',\n",
       " 'all',\n",
       " 'anext',\n",
       " 'any',\n",
       " 'ascii',\n",
       " 'bin',\n",
       " 'bool',\n",
       " 'breakpoint',\n",
       " 'bytearray',\n",
       " 'bytes',\n",
       " 'callable',\n",
       " 'chr',\n",
       " 'classmethod',\n",
       " 'compile',\n",
       " 'complex',\n",
       " 'copyright',\n",
       " 'credits',\n",
       " 'delattr',\n",
       " 'dict',\n",
       " 'dir',\n",
       " 'display',\n",
       " 'divmod',\n",
       " 'enumerate',\n",
       " 'eval',\n",
       " 'exec',\n",
       " 'execfile',\n",
       " 'filter',\n",
       " 'float',\n",
       " 'format',\n",
       " 'frozenset',\n",
       " 'get_ipython',\n",
       " 'getattr',\n",
       " 'globals',\n",
       " 'hasattr',\n",
       " 'hash',\n",
       " 'help',\n",
       " 'hex',\n",
       " 'id',\n",
       " 'input',\n",
       " 'int',\n",
       " 'isinstance',\n",
       " 'issubclass',\n",
       " 'iter',\n",
       " 'len',\n",
       " 'license',\n",
       " 'list',\n",
       " 'locals',\n",
       " 'map',\n",
       " 'max',\n",
       " 'memoryview',\n",
       " 'min',\n",
       " 'next',\n",
       " 'object',\n",
       " 'oct',\n",
       " 'open',\n",
       " 'ord',\n",
       " 'pow',\n",
       " 'print',\n",
       " 'property',\n",
       " 'range',\n",
       " 'repr',\n",
       " 'reversed',\n",
       " 'round',\n",
       " 'runfile',\n",
       " 'set',\n",
       " 'setattr',\n",
       " 'slice',\n",
       " 'sorted',\n",
       " 'staticmethod',\n",
       " 'str',\n",
       " 'sum',\n",
       " 'super',\n",
       " 'tuple',\n",
       " 'type',\n",
       " 'vars',\n",
       " 'zip']"
      ]
     },
     "execution_count": 17,
     "metadata": {},
     "output_type": "execute_result"
    }
   ],
   "source": [
    "dir(__builtin__)"
   ]
  },
  {
   "cell_type": "markdown",
   "id": "ff701b8a",
   "metadata": {},
   "source": []
  },
  {
   "cell_type": "code",
   "execution_count": 29,
   "id": "27574a73",
   "metadata": {},
   "outputs": [
    {
     "data": {
      "text/plain": [
       "(140705708055432, 140705708055432)"
      ]
     },
     "execution_count": 29,
     "metadata": {},
     "output_type": "execute_result"
    }
   ],
   "source": [
    "x = False\n",
    "y = False\n",
    "\n",
    "id(x), id(y)"
   ]
  },
  {
   "cell_type": "code",
   "execution_count": 30,
   "id": "4fef2480",
   "metadata": {},
   "outputs": [
    {
     "data": {
      "text/plain": [
       "True"
      ]
     },
     "execution_count": 30,
     "metadata": {},
     "output_type": "execute_result"
    }
   ],
   "source": [
    "napis = \"chuj\"\n",
    "napis2 = \"chuj\"\n",
    "napis==napis2"
   ]
  },
  {
   "cell_type": "code",
   "execution_count": 31,
   "id": "aa2e1d91",
   "metadata": {},
   "outputs": [
    {
     "data": {
      "text/plain": [
       "True"
      ]
     },
     "execution_count": 31,
     "metadata": {},
     "output_type": "execute_result"
    }
   ],
   "source": [
    "napis is napis2"
   ]
  },
  {
   "cell_type": "code",
   "execution_count": 33,
   "id": "7cc40079",
   "metadata": {},
   "outputs": [
    {
     "ename": "NotImplementedError",
     "evalue": "",
     "output_type": "error",
     "traceback": [
      "\u001b[1;31m---------------------------------------------------------------------------\u001b[0m",
      "\u001b[1;31mNotImplementedError\u001b[0m                       Traceback (most recent call last)",
      "Input \u001b[1;32mIn [33]\u001b[0m, in \u001b[0;36m<cell line: 7>\u001b[1;34m()\u001b[0m\n\u001b[0;32m      5\u001b[0m         \u001b[38;5;28;01mreturn\u001b[39;00m other \u001b[38;5;241m+\u001b[39m \u001b[38;5;241m42\u001b[39m\n\u001b[0;32m      6\u001b[0m x \u001b[38;5;241m=\u001b[39m MyNumber()\n\u001b[1;32m----> 7\u001b[0m \u001b[43mx\u001b[49m\u001b[43m \u001b[49m\u001b[38;5;241;43m+\u001b[39;49m\u001b[43m \u001b[49m\u001b[38;5;241;43m1.2\u001b[39;49m\n",
      "Input \u001b[1;32mIn [33]\u001b[0m, in \u001b[0;36mMyNumber.__add__\u001b[1;34m(self, other)\u001b[0m\n\u001b[0;32m      2\u001b[0m \u001b[38;5;28;01mdef\u001b[39;00m \u001b[38;5;21m__add__\u001b[39m(\u001b[38;5;28mself\u001b[39m, other):\n\u001b[0;32m      3\u001b[0m     \u001b[38;5;28;01mif\u001b[39;00m \u001b[38;5;28misinstance\u001b[39m(other, \u001b[38;5;28mfloat\u001b[39m):\n\u001b[1;32m----> 4\u001b[0m         \u001b[38;5;28;01mraise\u001b[39;00m \u001b[38;5;167;01mNotImplementedError\u001b[39;00m\n\u001b[0;32m      5\u001b[0m     \u001b[38;5;28;01mreturn\u001b[39;00m other \u001b[38;5;241m+\u001b[39m \u001b[38;5;241m42\u001b[39m\n",
      "\u001b[1;31mNotImplementedError\u001b[0m: "
     ]
    }
   ],
   "source": [
    "class MyNumber:\n",
    "    def __add__(self, other):\n",
    "        if isinstance(other, float):\n",
    "            raise NotImplementedError\n",
    "        return other + 42\n",
    "x = MyNumber()\n",
    "x + 1.2"
   ]
  },
  {
   "cell_type": "code",
   "execution_count": 34,
   "id": "82dbb404",
   "metadata": {},
   "outputs": [
    {
     "data": {
      "text/plain": [
       "True"
      ]
     },
     "execution_count": 34,
     "metadata": {},
     "output_type": "execute_result"
    }
   ],
   "source": [
    "__debug__\n"
   ]
  },
  {
   "cell_type": "code",
   "execution_count": 40,
   "id": "9ed01403",
   "metadata": {},
   "outputs": [
    {
     "name": "stdout",
     "output_type": "stream",
     "text": [
      "Overwriting test_debug.py\n"
     ]
    }
   ],
   "source": [
    "%%writefile test_debug.py\n",
    "print(__debug__)\n",
    "\n",
    "def sumator(a,b):\n",
    "    return a+b\n",
    "\n",
    "assert sumator(1,2) == 3\n",
    "assert sumator(1,10) == 10"
   ]
  },
  {
   "cell_type": "code",
   "execution_count": 42,
   "id": "3b8e5501",
   "metadata": {},
   "outputs": [
    {
     "name": "stdout",
     "output_type": "stream",
     "text": [
      "True\n"
     ]
    },
    {
     "name": "stderr",
     "output_type": "stream",
     "text": [
      "Traceback (most recent call last):\n",
      "  File \"C:\\Users\\krzys\\workspace\\kurs_powtorkowy\\test_debug.py\", line 7, in <module>\n",
      "    assert sumator(1,10) == 10\n",
      "AssertionError\n"
     ]
    }
   ],
   "source": [
    "!python test_debug.py"
   ]
  },
  {
   "cell_type": "code",
   "execution_count": 45,
   "id": "6eb649f7",
   "metadata": {},
   "outputs": [
    {
     "name": "stdout",
     "output_type": "stream",
     "text": [
      "False\n"
     ]
    }
   ],
   "source": [
    "!python -O test_debug.py"
   ]
  },
  {
   "cell_type": "markdown",
   "id": "aa0b876e",
   "metadata": {},
   "source": [
    "#### funkcje\n",
    "#### `exec`"
   ]
  },
  {
   "cell_type": "code",
   "execution_count": 46,
   "id": "d739c7bb",
   "metadata": {},
   "outputs": [],
   "source": [
    "code = \"\"\"\n",
    "x = [1,2]\n",
    "print(x)\n",
    "\n",
    "\"\"\""
   ]
  },
  {
   "cell_type": "code",
   "execution_count": 47,
   "id": "ce0e49bd",
   "metadata": {},
   "outputs": [
    {
     "name": "stdout",
     "output_type": "stream",
     "text": [
      "[1, 2]\n"
     ]
    }
   ],
   "source": [
    "exec(code)"
   ]
  },
  {
   "cell_type": "code",
   "execution_count": 53,
   "id": "b1217baf",
   "metadata": {},
   "outputs": [
    {
     "name": "stdout",
     "output_type": "stream",
     "text": [
      "[6, 7, 8]\n"
     ]
    }
   ],
   "source": [
    "code = \"\"\"print(yyy)\"\"\"\n",
    "exec(code, {'yyy': [6, 7, 8]})"
   ]
  },
  {
   "cell_type": "markdown",
   "id": "950620da",
   "metadata": {},
   "source": [
    "####eval"
   ]
  },
  {
   "cell_type": "code",
   "execution_count": 51,
   "id": "f2286d35",
   "metadata": {},
   "outputs": [
    {
     "name": "stdout",
     "output_type": "stream",
     "text": [
      "Help on built-in function eval in module builtins:\n",
      "\n",
      "eval(source, globals=None, locals=None, /)\n",
      "    Evaluate the given source in the context of globals and locals.\n",
      "    \n",
      "    The source may be a string representing a Python expression\n",
      "    or a code object as returned by compile().\n",
      "    The globals must be a dictionary and locals can be any mapping,\n",
      "    defaulting to the current globals and locals.\n",
      "    If only globals is given, locals defaults to it.\n",
      "\n"
     ]
    }
   ],
   "source": [
    "help(eval)"
   ]
  },
  {
   "cell_type": "code",
   "execution_count": 54,
   "id": "aca9b1a0",
   "metadata": {},
   "outputs": [
    {
     "name": "stdout",
     "output_type": "stream",
     "text": [
      "[6, 7, 8]\n"
     ]
    },
    {
     "data": {
      "text/plain": [
       "2"
      ]
     },
     "execution_count": 54,
     "metadata": {},
     "output_type": "execute_result"
    }
   ],
   "source": [
    "eval(code,{'yyy': [6, 7, 8]} )\n",
    "eval(\"1+1\")"
   ]
  },
  {
   "cell_type": "markdown",
   "id": "c5d41c9e",
   "metadata": {},
   "source": [
    "#### globals, locals"
   ]
  },
  {
   "cell_type": "markdown",
   "id": "648c580f",
   "metadata": {},
   "source": [
    "##### str, bytes, int, bool, float, complex"
   ]
  },
  {
   "cell_type": "code",
   "execution_count": 55,
   "id": "f1b62ca2",
   "metadata": {},
   "outputs": [
    {
     "data": {
      "text/plain": [
       "'10'"
      ]
     },
     "execution_count": 55,
     "metadata": {},
     "output_type": "execute_result"
    }
   ],
   "source": [
    "str(10)"
   ]
  },
  {
   "cell_type": "code",
   "execution_count": 56,
   "id": "844f4d08",
   "metadata": {},
   "outputs": [
    {
     "data": {
      "text/plain": [
       "b'pi\\xc4\\x99rdup\\xc4\\x85 \\xc4\\x87h\\xc3\\xb3j'"
      ]
     },
     "execution_count": 56,
     "metadata": {},
     "output_type": "execute_result"
    }
   ],
   "source": [
    "bytes(\"pięrdupą ćhój\", 'utf-8')"
   ]
  },
  {
   "cell_type": "code",
   "execution_count": 68,
   "id": "7aa973ad",
   "metadata": {},
   "outputs": [
    {
     "name": "stdout",
     "output_type": "stream",
     "text": [
      "32  \n",
      "33 !\n",
      "34 \"\n",
      "35 #\n",
      "36 $\n",
      "37 %\n",
      "38 &\n",
      "39 '\n",
      "40 (\n",
      "41 )\n",
      "42 *\n",
      "43 +\n",
      "44 ,\n",
      "45 -\n",
      "46 .\n",
      "47 /\n",
      "48 0\n",
      "49 1\n",
      "50 2\n",
      "51 3\n",
      "52 4\n",
      "53 5\n",
      "54 6\n",
      "55 7\n",
      "56 8\n",
      "57 9\n",
      "58 :\n",
      "59 ;\n",
      "60 <\n",
      "61 =\n",
      "62 >\n",
      "63 ?\n",
      "64 @\n",
      "65 A\n",
      "66 B\n",
      "67 C\n",
      "68 D\n",
      "69 E\n",
      "70 F\n",
      "71 G\n",
      "72 H\n",
      "73 I\n",
      "74 J\n",
      "75 K\n",
      "76 L\n",
      "77 M\n",
      "78 N\n",
      "79 O\n",
      "80 P\n",
      "81 Q\n",
      "82 R\n",
      "83 S\n",
      "84 T\n",
      "85 U\n",
      "86 V\n",
      "87 W\n",
      "88 X\n",
      "89 Y\n",
      "90 Z\n",
      "91 [\n",
      "92 \\\n",
      "93 ]\n",
      "94 ^\n",
      "95 _\n",
      "96 `\n",
      "97 a\n",
      "98 b\n",
      "99 c\n",
      "100 d\n",
      "101 e\n",
      "102 f\n",
      "103 g\n",
      "104 h\n",
      "105 i\n",
      "106 j\n",
      "107 k\n",
      "108 l\n",
      "109 m\n",
      "110 n\n",
      "111 o\n",
      "112 p\n",
      "113 q\n",
      "114 r\n",
      "115 s\n",
      "116 t\n",
      "117 u\n",
      "118 v\n",
      "119 w\n",
      "120 x\n",
      "121 y\n",
      "122 z\n",
      "123 {\n",
      "124 |\n",
      "125 }\n",
      "126 ~\n"
     ]
    }
   ],
   "source": [
    "for i in range(32, 127):\n",
    "    print(i, chr(i))"
   ]
  },
  {
   "cell_type": "code",
   "execution_count": 58,
   "id": "92cd3084",
   "metadata": {},
   "outputs": [
    {
     "data": {
      "text/plain": [
       "2"
      ]
     },
     "execution_count": 58,
     "metadata": {},
     "output_type": "execute_result"
    }
   ],
   "source": [
    "1 + True"
   ]
  },
  {
   "cell_type": "code",
   "execution_count": 59,
   "id": "e1f961bb",
   "metadata": {},
   "outputs": [
    {
     "data": {
      "text/plain": [
       "True"
      ]
     },
     "execution_count": 59,
     "metadata": {},
     "output_type": "execute_result"
    }
   ],
   "source": [
    "1 == True"
   ]
  },
  {
   "cell_type": "code",
   "execution_count": 60,
   "id": "f2f63260",
   "metadata": {},
   "outputs": [
    {
     "name": "stderr",
     "output_type": "stream",
     "text": [
      "<>:1: SyntaxWarning: \"is\" with a literal. Did you mean \"==\"?\n",
      "<>:1: SyntaxWarning: \"is\" with a literal. Did you mean \"==\"?\n",
      "C:\\Users\\krzys\\AppData\\Local\\Temp\\ipykernel_13464\\3482963539.py:1: SyntaxWarning: \"is\" with a literal. Did you mean \"==\"?\n",
      "  1 is True\n"
     ]
    },
    {
     "data": {
      "text/plain": [
       "False"
      ]
     },
     "execution_count": 60,
     "metadata": {},
     "output_type": "execute_result"
    }
   ],
   "source": [
    "1 is True"
   ]
  },
  {
   "cell_type": "markdown",
   "id": "b954ff12",
   "metadata": {},
   "source": [
    "#### tuple, list, dict, set, str, frozenset"
   ]
  },
  {
   "cell_type": "code",
   "execution_count": 61,
   "id": "ee1ba9c6",
   "metadata": {},
   "outputs": [
    {
     "data": {
      "text/plain": [
       "frozenset({1, 2, 3, 4})"
      ]
     },
     "execution_count": 61,
     "metadata": {},
     "output_type": "execute_result"
    }
   ],
   "source": [
    "frozenset ((1,2,3,4))"
   ]
  },
  {
   "cell_type": "code",
   "execution_count": 63,
   "id": "417d680b",
   "metadata": {},
   "outputs": [
    {
     "data": {
      "text/plain": [
       "frozenset({1, 2, 3, 4})"
      ]
     },
     "execution_count": 63,
     "metadata": {},
     "output_type": "execute_result"
    }
   ],
   "source": [
    "s = {1,2,3}\n",
    "s.add(4)\n",
    "fs = frozenset(s)\n",
    "fs"
   ]
  },
  {
   "cell_type": "code",
   "execution_count": 67,
   "id": "87c577da",
   "metadata": {},
   "outputs": [
    {
     "data": {
      "text/plain": [
       "['__and__',\n",
       " '__class__',\n",
       " '__class_getitem__',\n",
       " '__contains__',\n",
       " '__delattr__',\n",
       " '__dir__',\n",
       " '__doc__',\n",
       " '__eq__',\n",
       " '__format__',\n",
       " '__ge__',\n",
       " '__getattribute__',\n",
       " '__gt__',\n",
       " '__hash__',\n",
       " '__init__',\n",
       " '__init_subclass__',\n",
       " '__iter__',\n",
       " '__le__',\n",
       " '__len__',\n",
       " '__lt__',\n",
       " '__ne__',\n",
       " '__new__',\n",
       " '__or__',\n",
       " '__rand__',\n",
       " '__reduce__',\n",
       " '__reduce_ex__',\n",
       " '__repr__',\n",
       " '__ror__',\n",
       " '__rsub__',\n",
       " '__rxor__',\n",
       " '__setattr__',\n",
       " '__sizeof__',\n",
       " '__str__',\n",
       " '__sub__',\n",
       " '__subclasshook__',\n",
       " '__xor__',\n",
       " 'copy',\n",
       " 'difference',\n",
       " 'intersection',\n",
       " 'isdisjoint',\n",
       " 'issubset',\n",
       " 'issuperset',\n",
       " 'symmetric_difference',\n",
       " 'union']"
      ]
     },
     "execution_count": 67,
     "metadata": {},
     "output_type": "execute_result"
    }
   ],
   "source": [
    "dir(fs)"
   ]
  },
  {
   "cell_type": "markdown",
   "id": "a66594a0",
   "metadata": {},
   "source": [
    "#### proste konwertery: bin, hex, oct, ord, chr, ascii"
   ]
  },
  {
   "cell_type": "code",
   "execution_count": 65,
   "id": "b97d5515",
   "metadata": {},
   "outputs": [
    {
     "data": {
      "text/plain": [
       "'0b1010'"
      ]
     },
     "execution_count": 65,
     "metadata": {},
     "output_type": "execute_result"
    }
   ],
   "source": [
    "bin(10)"
   ]
  },
  {
   "cell_type": "code",
   "execution_count": 66,
   "id": "4c810c40",
   "metadata": {},
   "outputs": [
    {
     "data": {
      "text/plain": [
       "10"
      ]
     },
     "execution_count": 66,
     "metadata": {},
     "output_type": "execute_result"
    }
   ],
   "source": [
    "int(\"0b1010\", base=2)"
   ]
  },
  {
   "cell_type": "code",
   "execution_count": 69,
   "id": "68045e24",
   "metadata": {},
   "outputs": [
    {
     "data": {
      "text/plain": [
       "97"
      ]
     },
     "execution_count": 69,
     "metadata": {},
     "output_type": "execute_result"
    }
   ],
   "source": [
    "ord(\"a\")"
   ]
  },
  {
   "cell_type": "code",
   "execution_count": 70,
   "id": "47f520d3",
   "metadata": {},
   "outputs": [
    {
     "data": {
      "text/plain": [
       "'a'"
      ]
     },
     "execution_count": 70,
     "metadata": {},
     "output_type": "execute_result"
    }
   ],
   "source": [
    "chr(97)"
   ]
  },
  {
   "cell_type": "code",
   "execution_count": 71,
   "id": "ad4bb6c5",
   "metadata": {},
   "outputs": [
    {
     "data": {
      "text/plain": [
       "\"'a\\\\na'\""
      ]
     },
     "execution_count": 71,
     "metadata": {},
     "output_type": "execute_result"
    }
   ],
   "source": [
    "ascii(\"a\\na\")"
   ]
  },
  {
   "cell_type": "markdown",
   "id": "5611181a",
   "metadata": {},
   "source": [
    "#### callable"
   ]
  },
  {
   "cell_type": "code",
   "execution_count": 72,
   "id": "f4f2cb96",
   "metadata": {},
   "outputs": [
    {
     "data": {
      "text/plain": [
       "False"
      ]
     },
     "execution_count": 72,
     "metadata": {},
     "output_type": "execute_result"
    }
   ],
   "source": [
    "callable(\"\")"
   ]
  },
  {
   "cell_type": "code",
   "execution_count": 73,
   "id": "dc9d69e2",
   "metadata": {},
   "outputs": [
    {
     "data": {
      "text/plain": [
       "True"
      ]
     },
     "execution_count": 73,
     "metadata": {},
     "output_type": "execute_result"
    }
   ],
   "source": [
    "callable(str)"
   ]
  },
  {
   "cell_type": "code",
   "execution_count": 74,
   "id": "df0a0248",
   "metadata": {},
   "outputs": [
    {
     "data": {
      "text/plain": [
       "True"
      ]
     },
     "execution_count": 74,
     "metadata": {},
     "output_type": "execute_result"
    }
   ],
   "source": [
    "def foo():\n",
    "    pass\n",
    "\n",
    "callable(foo)"
   ]
  },
  {
   "cell_type": "code",
   "execution_count": 75,
   "id": "03d5b4ac",
   "metadata": {},
   "outputs": [
    {
     "data": {
      "text/plain": [
       "True"
      ]
     },
     "execution_count": 75,
     "metadata": {},
     "output_type": "execute_result"
    }
   ],
   "source": [
    "class C:\n",
    "    pass\n",
    "callable(C)"
   ]
  },
  {
   "cell_type": "code",
   "execution_count": 77,
   "id": "efe4b1b5",
   "metadata": {},
   "outputs": [
    {
     "data": {
      "text/plain": [
       "False"
      ]
     },
     "execution_count": 77,
     "metadata": {},
     "output_type": "execute_result"
    }
   ],
   "source": [
    "c = C()\n",
    "callable(c)"
   ]
  },
  {
   "cell_type": "code",
   "execution_count": 78,
   "id": "a4e171ae",
   "metadata": {},
   "outputs": [
    {
     "data": {
      "text/plain": [
       "True"
      ]
     },
     "execution_count": 78,
     "metadata": {},
     "output_type": "execute_result"
    }
   ],
   "source": [
    "class C:\n",
    "    def __call__(self):\n",
    "        pass\n",
    "callable(C)"
   ]
  },
  {
   "cell_type": "code",
   "execution_count": 79,
   "id": "29e165ba",
   "metadata": {},
   "outputs": [
    {
     "data": {
      "text/plain": [
       "True"
      ]
     },
     "execution_count": 79,
     "metadata": {},
     "output_type": "execute_result"
    }
   ],
   "source": [
    "c = C()\n",
    "callable(c)"
   ]
  },
  {
   "cell_type": "code",
   "execution_count": 80,
   "id": "a48915cc",
   "metadata": {},
   "outputs": [
    {
     "data": {
      "text/plain": [
       "True"
      ]
     },
     "execution_count": 80,
     "metadata": {},
     "output_type": "execute_result"
    }
   ],
   "source": [
    "hasattr(c, '__call__')"
   ]
  },
  {
   "cell_type": "markdown",
   "id": "2453b557",
   "metadata": {},
   "source": []
  },
  {
   "cell_type": "markdown",
   "id": "eca6ea0c",
   "metadata": {},
   "source": [
    "### przestrzeń globalna"
   ]
  },
  {
   "cell_type": "code",
   "execution_count": 35,
   "id": "13545d56",
   "metadata": {},
   "outputs": [
    {
     "data": {
      "text/plain": [
       "{'__name__': '__main__',\n",
       " '__doc__': 'Automatically created module for IPython interactive environment',\n",
       " '__package__': None,\n",
       " '__loader__': None,\n",
       " '__spec__': None,\n",
       " '__builtin__': <module 'builtins' (built-in)>,\n",
       " '__builtins__': <module 'builtins' (built-in)>,\n",
       " '_ih': ['',\n",
       "  'import sys\\nsys.path',\n",
       "  '## package',\n",
       "  \"get_ipython().system('mkdir pkg')\",\n",
       "  'get_ipython().run_cell_magic(\\'writefile\\', \\'pkg/mod1.py\\', \"\\\\ndef foo():\\\\n    print(\\'[mod1] foo()\\')\\\\n\")',\n",
       "  'get_ipython().run_cell_magic(\\'writefile\\', \\'pkg/mod2.py\\', \"\\\\ndef foo():\\\\n    print(\\'[mod2] foo()\\')\\\\n\")',\n",
       "  'import pkg',\n",
       "  'dir(pkg)',\n",
       "  \"get_ipython().run_cell_magic('writefile', 'pkg/__init__.py', '')\",\n",
       "  'get_ipython().run_cell_magic(\\'writefile\\', \\'pkg/__init__.py\\', \\'\\\\nprint(\"Initialize pkg\")\\\\n\\')',\n",
       "  'import importlib',\n",
       "  'importlib.reload(pkg)',\n",
       "  'pkg.mod1.foo()',\n",
       "  'pkg\\n    mod1.py\\n    mod2.py',\n",
       "  'pkg\\nmod1.py\\nmod2.py',\n",
       "  'from pkg import mod1',\n",
       "  'dir(__bultin__)',\n",
       "  'dir(__builtin__)',\n",
       "  'globals()',\n",
       "  '# x = for\\nx = print',\n",
       "  '# x = for\\nx = print',\n",
       "  'x(\"1\")',\n",
       "  'print = 1',\n",
       "  'print = __builtin__.print',\n",
       "  'print = __builtin__.print',\n",
       "  'print(\"chuj\")',\n",
       "  'print(\"chuj\")',\n",
       "  'print(print)',\n",
       "  'x = False',\n",
       "  'x = False\\ny = False\\n\\nid(x), id(y)',\n",
       "  'napis = \"chuj\"\\nnapis2 = \"chuj\"\\nnapis==napis2',\n",
       "  'napis is napis2',\n",
       "  'class MyNumber:\\n    def __add__(self, other):\\n        if isinstance(other, float):\\n            raise NotImplementedErro\\n        return other + 42\\nx = MyNumber()\\nx + 1.2',\n",
       "  'class MyNumber:\\n    def __add__(self, other):\\n        if isinstance(other, float):\\n            raise NotImplementedError\\n        return other + 42\\nx = MyNumber()\\nx + 1.2',\n",
       "  '__debug__',\n",
       "  'globals()'],\n",
       " '_oh': {1: ['C:\\\\Users\\\\krzys\\\\workspace\\\\kurs_powtorkowy',\n",
       "   'C:\\\\Users\\\\krzys\\\\AppData\\\\Local\\\\Programs\\\\Python\\\\Python310\\\\python310.zip',\n",
       "   'C:\\\\Users\\\\krzys\\\\AppData\\\\Local\\\\Programs\\\\Python\\\\Python310\\\\DLLs',\n",
       "   'C:\\\\Users\\\\krzys\\\\AppData\\\\Local\\\\Programs\\\\Python\\\\Python310\\\\lib',\n",
       "   'C:\\\\Users\\\\krzys\\\\AppData\\\\Local\\\\Programs\\\\Python\\\\Python310',\n",
       "   '',\n",
       "   'C:\\\\Users\\\\krzys\\\\AppData\\\\Local\\\\Programs\\\\Python\\\\Python310\\\\lib\\\\site-packages',\n",
       "   'C:\\\\Users\\\\krzys\\\\AppData\\\\Local\\\\Programs\\\\Python\\\\Python310\\\\lib\\\\site-packages\\\\win32',\n",
       "   'C:\\\\Users\\\\krzys\\\\AppData\\\\Local\\\\Programs\\\\Python\\\\Python310\\\\lib\\\\site-packages\\\\win32\\\\lib',\n",
       "   'C:\\\\Users\\\\krzys\\\\AppData\\\\Local\\\\Programs\\\\Python\\\\Python310\\\\lib\\\\site-packages\\\\Pythonwin'],\n",
       "  7: ['__doc__',\n",
       "   '__file__',\n",
       "   '__loader__',\n",
       "   '__name__',\n",
       "   '__package__',\n",
       "   '__path__',\n",
       "   '__spec__'],\n",
       "  11: <module 'pkg' from 'C:\\\\Users\\\\krzys\\\\workspace\\\\kurs_powtorkowy\\\\pkg\\\\__init__.py'>,\n",
       "  17: ['ArithmeticError',\n",
       "   'AssertionError',\n",
       "   'AttributeError',\n",
       "   'BaseException',\n",
       "   'BlockingIOError',\n",
       "   'BrokenPipeError',\n",
       "   'BufferError',\n",
       "   'BytesWarning',\n",
       "   'ChildProcessError',\n",
       "   'ConnectionAbortedError',\n",
       "   'ConnectionError',\n",
       "   'ConnectionRefusedError',\n",
       "   'ConnectionResetError',\n",
       "   'DeprecationWarning',\n",
       "   'EOFError',\n",
       "   'Ellipsis',\n",
       "   'EncodingWarning',\n",
       "   'EnvironmentError',\n",
       "   'Exception',\n",
       "   'False',\n",
       "   'FileExistsError',\n",
       "   'FileNotFoundError',\n",
       "   'FloatingPointError',\n",
       "   'FutureWarning',\n",
       "   'GeneratorExit',\n",
       "   'IOError',\n",
       "   'ImportError',\n",
       "   'ImportWarning',\n",
       "   'IndentationError',\n",
       "   'IndexError',\n",
       "   'InterruptedError',\n",
       "   'IsADirectoryError',\n",
       "   'KeyError',\n",
       "   'KeyboardInterrupt',\n",
       "   'LookupError',\n",
       "   'MemoryError',\n",
       "   'ModuleNotFoundError',\n",
       "   'NameError',\n",
       "   'None',\n",
       "   'NotADirectoryError',\n",
       "   'NotImplemented',\n",
       "   'NotImplementedError',\n",
       "   'OSError',\n",
       "   'OverflowError',\n",
       "   'PendingDeprecationWarning',\n",
       "   'PermissionError',\n",
       "   'ProcessLookupError',\n",
       "   'RecursionError',\n",
       "   'ReferenceError',\n",
       "   'ResourceWarning',\n",
       "   'RuntimeError',\n",
       "   'RuntimeWarning',\n",
       "   'StopAsyncIteration',\n",
       "   'StopIteration',\n",
       "   'SyntaxError',\n",
       "   'SyntaxWarning',\n",
       "   'SystemError',\n",
       "   'SystemExit',\n",
       "   'TabError',\n",
       "   'TimeoutError',\n",
       "   'True',\n",
       "   'TypeError',\n",
       "   'UnboundLocalError',\n",
       "   'UnicodeDecodeError',\n",
       "   'UnicodeEncodeError',\n",
       "   'UnicodeError',\n",
       "   'UnicodeTranslateError',\n",
       "   'UnicodeWarning',\n",
       "   'UserWarning',\n",
       "   'ValueError',\n",
       "   'Warning',\n",
       "   'WindowsError',\n",
       "   'ZeroDivisionError',\n",
       "   '__IPYTHON__',\n",
       "   '__build_class__',\n",
       "   '__debug__',\n",
       "   '__doc__',\n",
       "   '__import__',\n",
       "   '__loader__',\n",
       "   '__name__',\n",
       "   '__package__',\n",
       "   '__spec__',\n",
       "   'abs',\n",
       "   'aiter',\n",
       "   'all',\n",
       "   'anext',\n",
       "   'any',\n",
       "   'ascii',\n",
       "   'bin',\n",
       "   'bool',\n",
       "   'breakpoint',\n",
       "   'bytearray',\n",
       "   'bytes',\n",
       "   'callable',\n",
       "   'chr',\n",
       "   'classmethod',\n",
       "   'compile',\n",
       "   'complex',\n",
       "   'copyright',\n",
       "   'credits',\n",
       "   'delattr',\n",
       "   'dict',\n",
       "   'dir',\n",
       "   'display',\n",
       "   'divmod',\n",
       "   'enumerate',\n",
       "   'eval',\n",
       "   'exec',\n",
       "   'execfile',\n",
       "   'filter',\n",
       "   'float',\n",
       "   'format',\n",
       "   'frozenset',\n",
       "   'get_ipython',\n",
       "   'getattr',\n",
       "   'globals',\n",
       "   'hasattr',\n",
       "   'hash',\n",
       "   'help',\n",
       "   'hex',\n",
       "   'id',\n",
       "   'input',\n",
       "   'int',\n",
       "   'isinstance',\n",
       "   'issubclass',\n",
       "   'iter',\n",
       "   'len',\n",
       "   'license',\n",
       "   'list',\n",
       "   'locals',\n",
       "   'map',\n",
       "   'max',\n",
       "   'memoryview',\n",
       "   'min',\n",
       "   'next',\n",
       "   'object',\n",
       "   'oct',\n",
       "   'open',\n",
       "   'ord',\n",
       "   'pow',\n",
       "   'print',\n",
       "   'property',\n",
       "   'range',\n",
       "   'repr',\n",
       "   'reversed',\n",
       "   'round',\n",
       "   'runfile',\n",
       "   'set',\n",
       "   'setattr',\n",
       "   'slice',\n",
       "   'sorted',\n",
       "   'staticmethod',\n",
       "   'str',\n",
       "   'sum',\n",
       "   'super',\n",
       "   'tuple',\n",
       "   'type',\n",
       "   'vars',\n",
       "   'zip'],\n",
       "  18: {...},\n",
       "  29: (140705708055432, 140705708055432),\n",
       "  30: True,\n",
       "  31: True,\n",
       "  34: True},\n",
       " '_dh': [WindowsPath('C:/Users/krzys/workspace/kurs_powtorkowy')],\n",
       " 'In': ['',\n",
       "  'import sys\\nsys.path',\n",
       "  '## package',\n",
       "  \"get_ipython().system('mkdir pkg')\",\n",
       "  'get_ipython().run_cell_magic(\\'writefile\\', \\'pkg/mod1.py\\', \"\\\\ndef foo():\\\\n    print(\\'[mod1] foo()\\')\\\\n\")',\n",
       "  'get_ipython().run_cell_magic(\\'writefile\\', \\'pkg/mod2.py\\', \"\\\\ndef foo():\\\\n    print(\\'[mod2] foo()\\')\\\\n\")',\n",
       "  'import pkg',\n",
       "  'dir(pkg)',\n",
       "  \"get_ipython().run_cell_magic('writefile', 'pkg/__init__.py', '')\",\n",
       "  'get_ipython().run_cell_magic(\\'writefile\\', \\'pkg/__init__.py\\', \\'\\\\nprint(\"Initialize pkg\")\\\\n\\')',\n",
       "  'import importlib',\n",
       "  'importlib.reload(pkg)',\n",
       "  'pkg.mod1.foo()',\n",
       "  'pkg\\n    mod1.py\\n    mod2.py',\n",
       "  'pkg\\nmod1.py\\nmod2.py',\n",
       "  'from pkg import mod1',\n",
       "  'dir(__bultin__)',\n",
       "  'dir(__builtin__)',\n",
       "  'globals()',\n",
       "  '# x = for\\nx = print',\n",
       "  '# x = for\\nx = print',\n",
       "  'x(\"1\")',\n",
       "  'print = 1',\n",
       "  'print = __builtin__.print',\n",
       "  'print = __builtin__.print',\n",
       "  'print(\"chuj\")',\n",
       "  'print(\"chuj\")',\n",
       "  'print(print)',\n",
       "  'x = False',\n",
       "  'x = False\\ny = False\\n\\nid(x), id(y)',\n",
       "  'napis = \"chuj\"\\nnapis2 = \"chuj\"\\nnapis==napis2',\n",
       "  'napis is napis2',\n",
       "  'class MyNumber:\\n    def __add__(self, other):\\n        if isinstance(other, float):\\n            raise NotImplementedErro\\n        return other + 42\\nx = MyNumber()\\nx + 1.2',\n",
       "  'class MyNumber:\\n    def __add__(self, other):\\n        if isinstance(other, float):\\n            raise NotImplementedError\\n        return other + 42\\nx = MyNumber()\\nx + 1.2',\n",
       "  '__debug__',\n",
       "  'globals()'],\n",
       " 'Out': {1: ['C:\\\\Users\\\\krzys\\\\workspace\\\\kurs_powtorkowy',\n",
       "   'C:\\\\Users\\\\krzys\\\\AppData\\\\Local\\\\Programs\\\\Python\\\\Python310\\\\python310.zip',\n",
       "   'C:\\\\Users\\\\krzys\\\\AppData\\\\Local\\\\Programs\\\\Python\\\\Python310\\\\DLLs',\n",
       "   'C:\\\\Users\\\\krzys\\\\AppData\\\\Local\\\\Programs\\\\Python\\\\Python310\\\\lib',\n",
       "   'C:\\\\Users\\\\krzys\\\\AppData\\\\Local\\\\Programs\\\\Python\\\\Python310',\n",
       "   '',\n",
       "   'C:\\\\Users\\\\krzys\\\\AppData\\\\Local\\\\Programs\\\\Python\\\\Python310\\\\lib\\\\site-packages',\n",
       "   'C:\\\\Users\\\\krzys\\\\AppData\\\\Local\\\\Programs\\\\Python\\\\Python310\\\\lib\\\\site-packages\\\\win32',\n",
       "   'C:\\\\Users\\\\krzys\\\\AppData\\\\Local\\\\Programs\\\\Python\\\\Python310\\\\lib\\\\site-packages\\\\win32\\\\lib',\n",
       "   'C:\\\\Users\\\\krzys\\\\AppData\\\\Local\\\\Programs\\\\Python\\\\Python310\\\\lib\\\\site-packages\\\\Pythonwin'],\n",
       "  7: ['__doc__',\n",
       "   '__file__',\n",
       "   '__loader__',\n",
       "   '__name__',\n",
       "   '__package__',\n",
       "   '__path__',\n",
       "   '__spec__'],\n",
       "  11: <module 'pkg' from 'C:\\\\Users\\\\krzys\\\\workspace\\\\kurs_powtorkowy\\\\pkg\\\\__init__.py'>,\n",
       "  17: ['ArithmeticError',\n",
       "   'AssertionError',\n",
       "   'AttributeError',\n",
       "   'BaseException',\n",
       "   'BlockingIOError',\n",
       "   'BrokenPipeError',\n",
       "   'BufferError',\n",
       "   'BytesWarning',\n",
       "   'ChildProcessError',\n",
       "   'ConnectionAbortedError',\n",
       "   'ConnectionError',\n",
       "   'ConnectionRefusedError',\n",
       "   'ConnectionResetError',\n",
       "   'DeprecationWarning',\n",
       "   'EOFError',\n",
       "   'Ellipsis',\n",
       "   'EncodingWarning',\n",
       "   'EnvironmentError',\n",
       "   'Exception',\n",
       "   'False',\n",
       "   'FileExistsError',\n",
       "   'FileNotFoundError',\n",
       "   'FloatingPointError',\n",
       "   'FutureWarning',\n",
       "   'GeneratorExit',\n",
       "   'IOError',\n",
       "   'ImportError',\n",
       "   'ImportWarning',\n",
       "   'IndentationError',\n",
       "   'IndexError',\n",
       "   'InterruptedError',\n",
       "   'IsADirectoryError',\n",
       "   'KeyError',\n",
       "   'KeyboardInterrupt',\n",
       "   'LookupError',\n",
       "   'MemoryError',\n",
       "   'ModuleNotFoundError',\n",
       "   'NameError',\n",
       "   'None',\n",
       "   'NotADirectoryError',\n",
       "   'NotImplemented',\n",
       "   'NotImplementedError',\n",
       "   'OSError',\n",
       "   'OverflowError',\n",
       "   'PendingDeprecationWarning',\n",
       "   'PermissionError',\n",
       "   'ProcessLookupError',\n",
       "   'RecursionError',\n",
       "   'ReferenceError',\n",
       "   'ResourceWarning',\n",
       "   'RuntimeError',\n",
       "   'RuntimeWarning',\n",
       "   'StopAsyncIteration',\n",
       "   'StopIteration',\n",
       "   'SyntaxError',\n",
       "   'SyntaxWarning',\n",
       "   'SystemError',\n",
       "   'SystemExit',\n",
       "   'TabError',\n",
       "   'TimeoutError',\n",
       "   'True',\n",
       "   'TypeError',\n",
       "   'UnboundLocalError',\n",
       "   'UnicodeDecodeError',\n",
       "   'UnicodeEncodeError',\n",
       "   'UnicodeError',\n",
       "   'UnicodeTranslateError',\n",
       "   'UnicodeWarning',\n",
       "   'UserWarning',\n",
       "   'ValueError',\n",
       "   'Warning',\n",
       "   'WindowsError',\n",
       "   'ZeroDivisionError',\n",
       "   '__IPYTHON__',\n",
       "   '__build_class__',\n",
       "   '__debug__',\n",
       "   '__doc__',\n",
       "   '__import__',\n",
       "   '__loader__',\n",
       "   '__name__',\n",
       "   '__package__',\n",
       "   '__spec__',\n",
       "   'abs',\n",
       "   'aiter',\n",
       "   'all',\n",
       "   'anext',\n",
       "   'any',\n",
       "   'ascii',\n",
       "   'bin',\n",
       "   'bool',\n",
       "   'breakpoint',\n",
       "   'bytearray',\n",
       "   'bytes',\n",
       "   'callable',\n",
       "   'chr',\n",
       "   'classmethod',\n",
       "   'compile',\n",
       "   'complex',\n",
       "   'copyright',\n",
       "   'credits',\n",
       "   'delattr',\n",
       "   'dict',\n",
       "   'dir',\n",
       "   'display',\n",
       "   'divmod',\n",
       "   'enumerate',\n",
       "   'eval',\n",
       "   'exec',\n",
       "   'execfile',\n",
       "   'filter',\n",
       "   'float',\n",
       "   'format',\n",
       "   'frozenset',\n",
       "   'get_ipython',\n",
       "   'getattr',\n",
       "   'globals',\n",
       "   'hasattr',\n",
       "   'hash',\n",
       "   'help',\n",
       "   'hex',\n",
       "   'id',\n",
       "   'input',\n",
       "   'int',\n",
       "   'isinstance',\n",
       "   'issubclass',\n",
       "   'iter',\n",
       "   'len',\n",
       "   'license',\n",
       "   'list',\n",
       "   'locals',\n",
       "   'map',\n",
       "   'max',\n",
       "   'memoryview',\n",
       "   'min',\n",
       "   'next',\n",
       "   'object',\n",
       "   'oct',\n",
       "   'open',\n",
       "   'ord',\n",
       "   'pow',\n",
       "   'print',\n",
       "   'property',\n",
       "   'range',\n",
       "   'repr',\n",
       "   'reversed',\n",
       "   'round',\n",
       "   'runfile',\n",
       "   'set',\n",
       "   'setattr',\n",
       "   'slice',\n",
       "   'sorted',\n",
       "   'staticmethod',\n",
       "   'str',\n",
       "   'sum',\n",
       "   'super',\n",
       "   'tuple',\n",
       "   'type',\n",
       "   'vars',\n",
       "   'zip'],\n",
       "  18: {...},\n",
       "  29: (140705708055432, 140705708055432),\n",
       "  30: True,\n",
       "  31: True,\n",
       "  34: True},\n",
       " 'get_ipython': <bound method InteractiveShell.get_ipython of <ipykernel.zmqshell.ZMQInteractiveShell object at 0x0000021C48A67640>>,\n",
       " 'exit': <IPython.core.autocall.ZMQExitAutocall at 0x21c48a67c40>,\n",
       " 'quit': <IPython.core.autocall.ZMQExitAutocall at 0x21c48a67c40>,\n",
       " '_': True,\n",
       " '__': True,\n",
       " '___': True,\n",
       " '_i': '__debug__',\n",
       " '_ii': 'class MyNumber:\\n    def __add__(self, other):\\n        if isinstance(other, float):\\n            raise NotImplementedError\\n        return other + 42\\nx = MyNumber()\\nx + 1.2',\n",
       " '_iii': 'class MyNumber:\\n    def __add__(self, other):\\n        if isinstance(other, float):\\n            raise NotImplementedErro\\n        return other + 42\\nx = MyNumber()\\nx + 1.2',\n",
       " '_i1': 'import sys\\nsys.path',\n",
       " 'sys': <module 'sys' (built-in)>,\n",
       " '_1': ['C:\\\\Users\\\\krzys\\\\workspace\\\\kurs_powtorkowy',\n",
       "  'C:\\\\Users\\\\krzys\\\\AppData\\\\Local\\\\Programs\\\\Python\\\\Python310\\\\python310.zip',\n",
       "  'C:\\\\Users\\\\krzys\\\\AppData\\\\Local\\\\Programs\\\\Python\\\\Python310\\\\DLLs',\n",
       "  'C:\\\\Users\\\\krzys\\\\AppData\\\\Local\\\\Programs\\\\Python\\\\Python310\\\\lib',\n",
       "  'C:\\\\Users\\\\krzys\\\\AppData\\\\Local\\\\Programs\\\\Python\\\\Python310',\n",
       "  '',\n",
       "  'C:\\\\Users\\\\krzys\\\\AppData\\\\Local\\\\Programs\\\\Python\\\\Python310\\\\lib\\\\site-packages',\n",
       "  'C:\\\\Users\\\\krzys\\\\AppData\\\\Local\\\\Programs\\\\Python\\\\Python310\\\\lib\\\\site-packages\\\\win32',\n",
       "  'C:\\\\Users\\\\krzys\\\\AppData\\\\Local\\\\Programs\\\\Python\\\\Python310\\\\lib\\\\site-packages\\\\win32\\\\lib',\n",
       "  'C:\\\\Users\\\\krzys\\\\AppData\\\\Local\\\\Programs\\\\Python\\\\Python310\\\\lib\\\\site-packages\\\\Pythonwin'],\n",
       " '_i2': '## package',\n",
       " '_i3': '!mkdir pkg',\n",
       " '_exit_code': 0,\n",
       " '_i4': \"%%writefile pkg/mod1.py\\n\\ndef foo():\\n    print('[mod1] foo()')\",\n",
       " '_i5': \"%%writefile pkg/mod2.py\\n\\ndef foo():\\n    print('[mod2] foo()')\",\n",
       " '_i6': 'import pkg',\n",
       " 'pkg': <module 'pkg' from 'C:\\\\Users\\\\krzys\\\\workspace\\\\kurs_powtorkowy\\\\pkg\\\\__init__.py'>,\n",
       " '_i7': 'dir(pkg)',\n",
       " '_7': ['__doc__',\n",
       "  '__file__',\n",
       "  '__loader__',\n",
       "  '__name__',\n",
       "  '__package__',\n",
       "  '__path__',\n",
       "  '__spec__'],\n",
       " '_i8': '%%writefile pkg/__init__.py',\n",
       " '_i9': '%%writefile pkg/__init__.py\\n\\nprint(\"Initialize pkg\")',\n",
       " '_i10': 'import importlib',\n",
       " 'importlib': <module 'importlib' from 'C:\\\\Users\\\\krzys\\\\AppData\\\\Local\\\\Programs\\\\Python\\\\Python310\\\\lib\\\\importlib\\\\__init__.py'>,\n",
       " '_i11': 'importlib.reload(pkg)',\n",
       " '_11': <module 'pkg' from 'C:\\\\Users\\\\krzys\\\\workspace\\\\kurs_powtorkowy\\\\pkg\\\\__init__.py'>,\n",
       " '_i12': 'pkg.mod1.foo()',\n",
       " '_i13': 'pkg\\n    mod1.py\\n    mod2.py',\n",
       " '_i14': 'pkg\\nmod1.py\\nmod2.py',\n",
       " '_i15': 'from pkg import mod1',\n",
       " 'mod1': <module 'pkg.mod1' from 'C:\\\\Users\\\\krzys\\\\workspace\\\\kurs_powtorkowy\\\\pkg\\\\mod1.py'>,\n",
       " '_i16': 'dir(__bultin__)',\n",
       " '_i17': 'dir(__builtin__)',\n",
       " '_17': ['ArithmeticError',\n",
       "  'AssertionError',\n",
       "  'AttributeError',\n",
       "  'BaseException',\n",
       "  'BlockingIOError',\n",
       "  'BrokenPipeError',\n",
       "  'BufferError',\n",
       "  'BytesWarning',\n",
       "  'ChildProcessError',\n",
       "  'ConnectionAbortedError',\n",
       "  'ConnectionError',\n",
       "  'ConnectionRefusedError',\n",
       "  'ConnectionResetError',\n",
       "  'DeprecationWarning',\n",
       "  'EOFError',\n",
       "  'Ellipsis',\n",
       "  'EncodingWarning',\n",
       "  'EnvironmentError',\n",
       "  'Exception',\n",
       "  'False',\n",
       "  'FileExistsError',\n",
       "  'FileNotFoundError',\n",
       "  'FloatingPointError',\n",
       "  'FutureWarning',\n",
       "  'GeneratorExit',\n",
       "  'IOError',\n",
       "  'ImportError',\n",
       "  'ImportWarning',\n",
       "  'IndentationError',\n",
       "  'IndexError',\n",
       "  'InterruptedError',\n",
       "  'IsADirectoryError',\n",
       "  'KeyError',\n",
       "  'KeyboardInterrupt',\n",
       "  'LookupError',\n",
       "  'MemoryError',\n",
       "  'ModuleNotFoundError',\n",
       "  'NameError',\n",
       "  'None',\n",
       "  'NotADirectoryError',\n",
       "  'NotImplemented',\n",
       "  'NotImplementedError',\n",
       "  'OSError',\n",
       "  'OverflowError',\n",
       "  'PendingDeprecationWarning',\n",
       "  'PermissionError',\n",
       "  'ProcessLookupError',\n",
       "  'RecursionError',\n",
       "  'ReferenceError',\n",
       "  'ResourceWarning',\n",
       "  'RuntimeError',\n",
       "  'RuntimeWarning',\n",
       "  'StopAsyncIteration',\n",
       "  'StopIteration',\n",
       "  'SyntaxError',\n",
       "  'SyntaxWarning',\n",
       "  'SystemError',\n",
       "  'SystemExit',\n",
       "  'TabError',\n",
       "  'TimeoutError',\n",
       "  'True',\n",
       "  'TypeError',\n",
       "  'UnboundLocalError',\n",
       "  'UnicodeDecodeError',\n",
       "  'UnicodeEncodeError',\n",
       "  'UnicodeError',\n",
       "  'UnicodeTranslateError',\n",
       "  'UnicodeWarning',\n",
       "  'UserWarning',\n",
       "  'ValueError',\n",
       "  'Warning',\n",
       "  'WindowsError',\n",
       "  'ZeroDivisionError',\n",
       "  '__IPYTHON__',\n",
       "  '__build_class__',\n",
       "  '__debug__',\n",
       "  '__doc__',\n",
       "  '__import__',\n",
       "  '__loader__',\n",
       "  '__name__',\n",
       "  '__package__',\n",
       "  '__spec__',\n",
       "  'abs',\n",
       "  'aiter',\n",
       "  'all',\n",
       "  'anext',\n",
       "  'any',\n",
       "  'ascii',\n",
       "  'bin',\n",
       "  'bool',\n",
       "  'breakpoint',\n",
       "  'bytearray',\n",
       "  'bytes',\n",
       "  'callable',\n",
       "  'chr',\n",
       "  'classmethod',\n",
       "  'compile',\n",
       "  'complex',\n",
       "  'copyright',\n",
       "  'credits',\n",
       "  'delattr',\n",
       "  'dict',\n",
       "  'dir',\n",
       "  'display',\n",
       "  'divmod',\n",
       "  'enumerate',\n",
       "  'eval',\n",
       "  'exec',\n",
       "  'execfile',\n",
       "  'filter',\n",
       "  'float',\n",
       "  'format',\n",
       "  'frozenset',\n",
       "  'get_ipython',\n",
       "  'getattr',\n",
       "  'globals',\n",
       "  'hasattr',\n",
       "  'hash',\n",
       "  'help',\n",
       "  'hex',\n",
       "  'id',\n",
       "  'input',\n",
       "  'int',\n",
       "  'isinstance',\n",
       "  'issubclass',\n",
       "  'iter',\n",
       "  'len',\n",
       "  'license',\n",
       "  'list',\n",
       "  'locals',\n",
       "  'map',\n",
       "  'max',\n",
       "  'memoryview',\n",
       "  'min',\n",
       "  'next',\n",
       "  'object',\n",
       "  'oct',\n",
       "  'open',\n",
       "  'ord',\n",
       "  'pow',\n",
       "  'print',\n",
       "  'property',\n",
       "  'range',\n",
       "  'repr',\n",
       "  'reversed',\n",
       "  'round',\n",
       "  'runfile',\n",
       "  'set',\n",
       "  'setattr',\n",
       "  'slice',\n",
       "  'sorted',\n",
       "  'staticmethod',\n",
       "  'str',\n",
       "  'sum',\n",
       "  'super',\n",
       "  'tuple',\n",
       "  'type',\n",
       "  'vars',\n",
       "  'zip'],\n",
       " '_i18': 'globals()',\n",
       " '_18': {...},\n",
       " '_i19': '# x = for\\nx = print',\n",
       " 'x': <__main__.MyNumber at 0x21c49db56f0>,\n",
       " '_i20': '# x = for\\nx = print',\n",
       " '_i21': 'x(\"1\")',\n",
       " '_i22': 'print = 1',\n",
       " 'print': <function print>,\n",
       " '_i23': 'print = __builtin__.print',\n",
       " '_i24': 'print = __builtin__.print',\n",
       " '_i25': 'print(\"chuj\")',\n",
       " '_i26': 'print(\"chuj\")',\n",
       " '_i27': 'print(print)',\n",
       " '_i28': 'x = False',\n",
       " '_i29': 'x = False\\ny = False\\n\\nid(x), id(y)',\n",
       " 'y': False,\n",
       " '_29': (140705708055432, 140705708055432),\n",
       " '_i30': 'napis = \"chuj\"\\nnapis2 = \"chuj\"\\nnapis==napis2',\n",
       " 'napis': 'chuj',\n",
       " 'napis2': 'chuj',\n",
       " '_30': True,\n",
       " '_i31': 'napis is napis2',\n",
       " '_31': True,\n",
       " '_i32': 'class MyNumber:\\n    def __add__(self, other):\\n        if isinstance(other, float):\\n            raise NotImplementedErro\\n        return other + 42\\nx = MyNumber()\\nx + 1.2',\n",
       " 'MyNumber': __main__.MyNumber,\n",
       " '_i33': 'class MyNumber:\\n    def __add__(self, other):\\n        if isinstance(other, float):\\n            raise NotImplementedError\\n        return other + 42\\nx = MyNumber()\\nx + 1.2',\n",
       " '_i34': '__debug__',\n",
       " '_34': True,\n",
       " '_i35': 'globals()'}"
      ]
     },
     "execution_count": 35,
     "metadata": {},
     "output_type": "execute_result"
    }
   ],
   "source": [
    "globals()"
   ]
  },
  {
   "cell_type": "code",
   "execution_count": null,
   "id": "d019c94a",
   "metadata": {},
   "outputs": [],
   "source": []
  }
 ],
 "metadata": {
  "kernelspec": {
   "display_name": "Python 3 (ipykernel)",
   "language": "python",
   "name": "python3"
  },
  "language_info": {
   "codemirror_mode": {
    "name": "ipython",
    "version": 3
   },
   "file_extension": ".py",
   "mimetype": "text/x-python",
   "name": "python",
   "nbconvert_exporter": "python",
   "pygments_lexer": "ipython3",
   "version": "3.10.1"
  }
 },
 "nbformat": 4,
 "nbformat_minor": 5
}
